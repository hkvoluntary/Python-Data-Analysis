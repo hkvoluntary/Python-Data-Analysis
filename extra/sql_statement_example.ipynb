{
 "cells": [
  {
   "cell_type": "code",
   "execution_count": null,
   "metadata": {},
   "outputs": [],
   "source": [
    "import pandas as pd\n",
    "import pandasql as ps\n",
    "import numpy as np\n",
    "\n",
    "df = pd.DataFrame([[1234, 'Customer A', '123 Street', np.nan],\n",
    "               [1234, 'Customer A', np.nan, '333 Street'],\n",
    "               [1233, 'Customer B', '444 Street', '333 Street'],\n",
    "              [1233, 'Customer B', '444 Street', '666 Street']], columns=\n",
    "['ID', 'Customer', 'Billing Address', 'Shipping Address'])\n",
    "\n",
    "q1 = \"\"\"SELECT ID FROM df \"\"\"\n",
    "ps.sqldf(q1)"
   ]
  }
 ],
 "metadata": {
  "kernelspec": {
   "display_name": ".venv",
   "language": "python",
   "name": "python3"
  },
  "language_info": {
   "name": "python",
   "version": "3.13.0"
  }
 },
 "nbformat": 4,
 "nbformat_minor": 2
}
