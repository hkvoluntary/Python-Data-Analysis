{
 "cells": [
  {
   "cell_type": "code",
   "execution_count": null,
   "metadata": {},
   "outputs": [],
   "source": [
    "import humanize\n",
    "\n",
    "\n",
    "# Example usage:\n",
    "number = 1500000\n",
    "print(humanize.intword(number))  # Output: 1.5 million\n",
    "print(f\"{number:,}\")\n",
    "print(humanize.intcomma(number, ndigits=2))\n",
    "\n",
    "number = 23928948012\n",
    "print(humanize.intword(number))  # Output: 1.5 billion\n",
    "print(f\"{number:,}\")\n",
    "print(humanize.intcomma(number, ndigits=2))\n",
    "\n",
    "# File size\n",
    "print(humanize.naturalsize(1_000_000)) # 1.0 MB\n",
    "print(humanize.naturalsize(1_000_000_000)) # 1.0 GB\n",
    "print(humanize.naturalsize(1_000_000_000_000)) # 1.0 TB\n",
    "\n"
   ]
  }
 ],
 "metadata": {
  "kernelspec": {
   "display_name": ".venv",
   "language": "python",
   "name": "python3"
  },
  "language_info": {
   "name": "python",
   "version": "3.13.0"
  }
 },
 "nbformat": 4,
 "nbformat_minor": 2
}
