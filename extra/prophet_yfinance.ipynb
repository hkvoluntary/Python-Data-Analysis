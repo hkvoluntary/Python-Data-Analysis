{
  "nbformat": 4,
  "nbformat_minor": 0,
  "metadata": {
    "colab": {
      "provenance": []
    },
    "kernelspec": {
      "name": "python3",
      "display_name": "Python 3"
    }
  },
  "cells": [
    {
      "cell_type": "markdown",
      "metadata": {
        "id": "t0TAYVmGpkW-"
      },
      "source": [
        "#### Install yfinance"
      ]
    },
    {
      "cell_type": "code",
      "metadata": {
        "id": "sxni-MFDpip3"
      },
      "source": [
        "# Python\n",
        "import pandas as pd\n",
        "from prophet import Prophet"
      ],
      "execution_count": null,
      "outputs": []
    },
    {
      "cell_type": "markdown",
      "metadata": {
        "id": "9rCPxAQ_ppMA"
      },
      "source": [
        "# Forecasting Stocks from Yahoo Finance with Prophet"
      ]
    },
    {
      "cell_type": "code",
      "metadata": {
        "id": "22ISeYR-pVNF"
      },
      "source": [
        "import yfinance as yf\n",
        "\n",
        "# Google\n",
        "googl = yf.Ticker('GOOGL')\n",
        "\n",
        "hist = googl.history(period=\"max\", auto_adjust=True)\n"
      ],
      "execution_count": null,
      "outputs": []
    },
    {
      "cell_type": "code",
      "metadata": {
        "id": "Ie5vxU0PzBqE"
      },
      "source": [
        "import pandas as pd\n",
        "\n",
        "df = pd.DataFrame()\n",
        "\n",
        "df['ds'] = hist.index\n",
        "df['ds'] = pd.to_datetime(df['ds']).dt.tz_localize(None) # Romve the time zone\n",
        "df['y'] = hist['Close'].values # Close price\n",
        "\n",
        "df.tail()"
      ],
      "execution_count": null,
      "outputs": []
    },
    {
      "cell_type": "code",
      "metadata": {
        "id": "Yjpcj72EnSjY"
      },
      "source": [
        "# Python\n",
        "m = Prophet()\n",
        "m.fit(df)"
      ],
      "execution_count": null,
      "outputs": []
    },
    {
      "cell_type": "code",
      "metadata": {
        "id": "leU4X6Q0zGP9"
      },
      "source": [
        "future = m.make_future_dataframe(365) # predict 365 days\n",
        "\n",
        "forecast = m.predict(future)\n",
        "#The predict method will assign each row in future a predicted value which it names yhat.\n",
        "#The forecast object here is a new dataframe that includes a column yhat with the forecast\n",
        "forecast[['ds', 'yhat', 'yhat_lower', 'yhat_upper']].tail(10)"
      ],
      "execution_count": null,
      "outputs": []
    },
    {
      "cell_type": "code",
      "metadata": {
        "id": "NVHgp7eV36Jj"
      },
      "source": [
        "m.plot(forecast);"
      ],
      "execution_count": null,
      "outputs": []
    }
  ]
}