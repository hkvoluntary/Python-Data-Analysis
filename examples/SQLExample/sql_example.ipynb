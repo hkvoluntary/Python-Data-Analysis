{
 "cells": [
  {
   "cell_type": "code",
   "execution_count": null,
   "metadata": {
    "executionInfo": {
     "elapsed": 492,
     "status": "ok",
     "timestamp": 1726796983812,
     "user": {
      "displayName": "Ng Ted",
      "userId": "06817628253326971985"
     },
     "user_tz": -480
    },
    "id": "ImVsExdiXecO"
   },
   "outputs": [],
   "source": [
    "import sqlite3\n",
    "\n",
    "path = \"./\"\n",
    "# Create new database `sample.db`. Notice `sample.db` is now\n",
    "# listed in your working directory.\n",
    "db = sqlite3.connect(path + \"sample.db\")\n",
    "\n",
    "# Initiate a cursor, and call the connection's cursor method.\n",
    "cursor = db.cursor()\n",
    "\n",
    "# Specify the DDL to create the two tables:\n",
    "tbl1_ddl = \"\"\"CREATE TABLE IF NOT EXISTS CLOSING_PRICES (\n",
    "              DATE   TEXT,\n",
    "              TICKER TEXT,\n",
    "              CLOSE  REAL)\"\"\"\n",
    "\n",
    "tbl2_ddl = \"\"\"CREATE TABLE IF NOT EXISTS TICKER_MAPPING (\n",
    "              TICKER       TEXT,\n",
    "              COMPANY_NAME TEXT)\"\"\"\n",
    "\n",
    "# Call the `cursor.execute` method, passing tbl1_ddl & tbl2_ddl as arguments.\n",
    "cursor.execute(tbl1_ddl)\n",
    "cursor.execute(tbl2_ddl)\n",
    "\n",
    "# IMPORTANT! Be sure to commit changes you want to persist. Without\n",
    "# commiting, changes will not be saved.\n",
    "db.commit()\n",
    "\n",
    "# Close connection to `sample.db`.\n",
    "db.close()"
   ]
  },
  {
   "cell_type": "code",
   "execution_count": null,
   "metadata": {
    "executionInfo": {
     "elapsed": 476,
     "status": "ok",
     "timestamp": 1726797396630,
     "user": {
      "displayName": "Ng Ted",
      "userId": "06817628253326971985"
     },
     "user_tz": -480
    },
    "id": "7d-wEnm-XudJ"
   },
   "outputs": [],
   "source": [
    "db = sqlite3.connect(path + 'sample.db')\n",
    "cursor = db.cursor()\n",
    "\n",
    "cursor.execute(\"INSERT INTO TICKER_MAPPING VALUES ('AXP',  'American Express Company')\")\n",
    "cursor.execute(\"INSERT INTO TICKER_MAPPING VALUES ('GE' ,  'General Electric Company')\")\n",
    "cursor.execute(\"INSERT INTO TICKER_MAPPING VALUES ('GS' ,  'Goldman Sachs Group Inc')\")\n",
    "cursor.execute(\"INSERT INTO TICKER_MAPPING VALUES ('UTX' , 'United Technologies Corporation')\")\n",
    "\n",
    "closing_prices = [\n",
    "    ('20160722', 'AXP',  64.28), ('20160722', 'GE' ,  32.06),\n",
    "    ('20160722', 'GS' , 160.41), ('20160722', 'UTX', 105.13)\n",
    "    ]\n",
    "\n",
    "cursor.executemany(\"INSERT INTO CLOSING_PRICES VALUES (?,?,?)\", closing_prices)\n",
    "\n",
    "db.commit()\n",
    "db.close()"
   ]
  },
  {
   "cell_type": "code",
   "execution_count": null,
   "metadata": {
    "colab": {
     "base_uri": "https://localhost:8080/",
     "height": 245
    },
    "executionInfo": {
     "elapsed": 488,
     "status": "ok",
     "timestamp": 1726797560888,
     "user": {
      "displayName": "Ng Ted",
      "userId": "06817628253326971985"
     },
     "user_tz": -480
    },
    "id": "3mel3RgHX_MZ",
    "outputId": "3c92ee36-3d50-4caf-b7d8-df303bbd48ba"
   },
   "outputs": [],
   "source": [
    "# openpyxl is a Python library used for reading and writing Excel files in the XLSX format. \n",
    "# It allows you to create new Excel files, modify existing ones, and perform a variety of tasks such as formatting cells, creating charts, and more.\n",
    "from openpyxl import Workbook\n",
    "book = Workbook()\n",
    "sheet = book.active\n",
    "\n",
    "try:\n",
    "    db = sqlite3.connect(path + 'sample.db')\n",
    "    cursor = db.cursor()\n",
    "\n",
    "    # Query to select all records from `CLOSING_PRICES`:\n",
    "    SQL = \"SELECT * FROM CLOSING_PRICES\"\n",
    "\n",
    "    cursor.execute(SQL)\n",
    "    values = []\n",
    "    print(cursor)\n",
    "    print(type(cursor))\n",
    "\n",
    "    # Iterate over cursor to print records.\n",
    "    for rec in cursor:\n",
    "        print(rec)\n",
    "        print(type(rec))\n",
    "        values.append(rec)\n",
    "\n",
    "\n",
    "    def myFunc(e):\n",
    "        return e[2] # sort by the third column i.e. price\n",
    "\n",
    "    print(\"before sort:\", values)\n",
    "    values.sort(key=myFunc)\n",
    "    print(\"after sort\", values)\n",
    "\n",
    "    for item in values:\n",
    "        sheet.append(item)\n",
    "\n",
    "finally:\n",
    "    db.close()\n",
    "\n",
    "\n",
    "book.save(path + \"sqlite_test.xlsx\")"
   ]
  },
  {
   "cell_type": "code",
   "execution_count": null,
   "metadata": {
    "executionInfo": {
     "elapsed": 459,
     "status": "ok",
     "timestamp": 1726798127265,
     "user": {
      "displayName": "Ng Ted",
      "userId": "06817628253326971985"
     },
     "user_tz": -480
    },
    "id": "GygcwtjeYQ5V"
   },
   "outputs": [],
   "source": [
    "import csv\n",
    "try:\n",
    "    db = sqlite3.connect(path + 'sample.db')\n",
    "    cursor = db.cursor()\n",
    "\n",
    "    with open(path + 'ticker_data.csv', 'r') as ff:\n",
    "        fcsv = csv.reader(ff)\n",
    "\n",
    "        # `recs_to_load` is a list of records contained in `ticker_data.csv`.\n",
    "        recs_to_load = [record for record in fcsv]\n",
    "        recs_to_load = recs_to_load[1:] # Remove the excel header row\n",
    "\n",
    "        # Call `cursor.executemany`, specifying `recs_to_load`.\n",
    "        cursor.executemany(\"INSERT INTO CLOSING_PRICES VALUES (?,?,?)\", recs_to_load)\n",
    "finally:\n",
    "    db.commit()\n",
    "    db.close()\n",
    "\n",
    "# Download sample.db to local computer and review it via \"DB Browser for SQLite\""
   ]
  },
  {
   "cell_type": "code",
   "execution_count": null,
   "metadata": {
    "colab": {
     "base_uri": "https://localhost:8080/"
    },
    "executionInfo": {
     "elapsed": 470,
     "status": "ok",
     "timestamp": 1726798568441,
     "user": {
      "displayName": "Ng Ted",
      "userId": "06817628253326971985"
     },
     "user_tz": -480
    },
    "id": "wVO28YLAZKKR",
    "outputId": "79716307-943d-49a8-8bd2-38ac1a4a7720"
   },
   "outputs": [],
   "source": [
    "try:\n",
    "    db = sqlite3.connect(path + \"sample.db\")\n",
    "    cursor = db.cursor()\n",
    "    params = {'symbol':'GE', 'date':'20161125'}\n",
    "    SQL = \"SELECT * FROM CLOSING_PRICES WHERE TICKER=:symbol AND DATE!=:date\"\n",
    "    cursor.execute(SQL, params)\n",
    "    headers = [i[0] for i in cursor.description]\n",
    "    print(headers)\n",
    "\n",
    "    for rec in cursor:\n",
    "        print(rec)\n",
    "\n",
    "\n",
    "\n",
    "finally:\n",
    "\n",
    "    db.close()"
   ]
  }
 ],
 "metadata": {
  "colab": {
   "authorship_tag": "ABX9TyPKqn1FJFC/OjJVNqexHxgL",
   "provenance": []
  },
  "kernelspec": {
   "display_name": ".venv",
   "language": "python",
   "name": "python3"
  },
  "language_info": {
   "codemirror_mode": {
    "name": "ipython",
    "version": 3
   },
   "file_extension": ".py",
   "mimetype": "text/x-python",
   "name": "python",
   "nbconvert_exporter": "python",
   "pygments_lexer": "ipython3",
   "version": "3.11.3"
  }
 },
 "nbformat": 4,
 "nbformat_minor": 0
}
