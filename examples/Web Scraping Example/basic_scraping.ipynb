{
 "cells": [
  {
   "cell_type": "code",
   "execution_count": null,
   "metadata": {},
   "outputs": [],
   "source": [
    "\n",
    "from bs4 import BeautifulSoup # pip install beautifulsoup4\n",
    "\n",
    "\n",
    "html_doc = \"\"\"\n",
    "<html><head><title>Hello World</title></head> <body><h2>Test Header</h2>\n",
    "<p>This is a test.</p>\n",
    "<a id=\"link1\" href=\"https://my_link1\">Link 1</a>\n",
    "<a id=\"link2\" href=\"https://my_link2\">Link 2</a> \n",
    "<p>Hello, <b class=\"boldtext\">Bold Text</b></p> </body></html>\n",
    "\"\"\"\n",
    "# Use Beautiful Soup decode local variable contains HTML contents\n",
    "soup = BeautifulSoup(html_doc, 'html.parser')\n",
    "\n",
    "'''\n",
    "# Specify the path to your HTML file\n",
    "file_path = './html_page/doc.html'\n",
    "\n",
    "# Open and read the file\n",
    "with open(file_path, 'r', encoding='utf-8') as file:\n",
    "    html_content = file.read()\n",
    "soup = BeautifulSoup(html_content, 'html.parser')  # or 'lxml'\n",
    "\n",
    "'''\n",
    "\n",
    "# Used to format and beautify the HTML or XML markup, making it easier to read. \n",
    "print(soup.prettify())"
   ]
  },
  {
   "cell_type": "code",
   "execution_count": null,
   "metadata": {},
   "outputs": [],
   "source": [
    "# Get title tag\n",
    "title_tag = soup.title\n",
    "print(title_tag)\n",
    "\n",
    "# Get <title>...</title> String\n",
    "print(title_tag.string)\n",
    "\n",
    "# Get All link tags and url\n",
    "a_tags = soup.find_all('a')\n",
    "for tag in a_tags:\n",
    "    print(tag.string)\n",
    "    print(tag.get('href'))\n",
    "\n",
    "tags = soup.find_all([\"a\", \"b\"])\n",
    "print(tags) # return as list"
   ]
  },
  {
   "cell_type": "markdown",
   "metadata": {},
   "source": [
    "## Real Example"
   ]
  },
  {
   "cell_type": "code",
   "execution_count": null,
   "metadata": {},
   "outputs": [],
   "source": [
    "import requests\n",
    "# URL of the page to scrape\n",
    "url = 'http://quotes.toscrape.com/page/1/'\n",
    "\n",
    "# Send a GET request to the page\n",
    "response = requests.get(url)"
   ]
  },
  {
   "cell_type": "code",
   "execution_count": null,
   "metadata": {},
   "outputs": [],
   "source": [
    "\n",
    "# Check if the request was successful\n",
    "if response.status_code == 200:\n",
    "    # Parse the page content\n",
    "    soup = BeautifulSoup(response.text, 'html.parser')\n",
    "\n",
    "    print(soup.prettify())\n",
    "    # Find all quote containers\n",
    "    quotes = soup.find_all('div', class_='quote')\n",
    "\n",
    "    for quote in quotes:\n",
    "        # Extract the quote text\n",
    "        text = quote.find('span', class_='text').text.strip()\n",
    "\n",
    "        # Extract the author\n",
    "        author = quote.find('small', class_='author').text.strip()\n",
    "\n",
    "        # Extract the tags\n",
    "        tags = [tag.text.strip() for tag in quote.find_all('a', class_='tag')]\n",
    "\n",
    "        print(f\"Quote: {text}\")\n",
    "        print(f\"Author: {author}\")\n",
    "        print(f\"Tags: {', '.join(tags)}\")\n",
    "        print('-' * 40)\n",
    "\n",
    "else:\n",
    "    print(f\"Failed to retrieve the page. Status code: {response.status_code}\")\n",
    "\n"
   ]
  }
 ],
 "metadata": {
  "kernelspec": {
   "display_name": ".venv",
   "language": "python",
   "name": "python3"
  },
  "language_info": {
   "codemirror_mode": {
    "name": "ipython",
    "version": 3
   },
   "file_extension": ".py",
   "mimetype": "text/x-python",
   "name": "python",
   "nbconvert_exporter": "python",
   "pygments_lexer": "ipython3",
   "version": "3.11.3"
  }
 },
 "nbformat": 4,
 "nbformat_minor": 2
}
