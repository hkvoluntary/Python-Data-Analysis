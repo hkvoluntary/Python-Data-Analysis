{
 "cells": [
  {
   "cell_type": "code",
   "execution_count": null,
   "metadata": {
    "colab": {
     "base_uri": "https://localhost:8080/",
     "height": 125
    },
    "executionInfo": {
     "elapsed": 792,
     "status": "ok",
     "timestamp": 1726802518678,
     "user": {
      "displayName": "Ng Ted",
      "userId": "06817628253326971985"
     },
     "user_tz": -480
    },
    "id": "idHXEIG9ICbv",
    "outputId": "3f8a6053-c302-45ba-8a5c-3df574ac718b"
   },
   "outputs": [],
   "source": [
    "\n",
    "\n",
    "# MTR Data\n",
    "# https://data.gov.hk/en-data/dataset/mtr-data2-nexttrain-data\n",
    "\n",
    "#https://rt.data.gov.hk/v1/transport/mtr/getSchedule.php?line=TML&sta=HUH\n",
    "# Tuen Ma Line (TML)\n",
    "# Hung Hom (HUH)\n",
    "\n",
    "import urllib.request\n",
    "import json\n",
    "import time\n",
    "import smtplib\n",
    "from email.mime.text import MIMEText\n",
    "\n",
    "def getData(url):\n",
    "    response = urllib.request.urlopen(url)\n",
    "    if(response.getcode()==200):\n",
    "        data = response.read()\n",
    "        jsonData = json.loads(data)\n",
    "    else:\n",
    "        print(\"Error occured\", response.getcode())\n",
    "    return jsonData\n",
    "\n",
    "url = \"https://rt.data.gov.hk/v1/transport/mtr/getSchedule.php?line=TCL&sta=SUN\"\n",
    "data = getData(url)\n",
    "print(data)\n",
    "print(data['sys_time'])\n",
    "\n",
    "'''\n",
    "coming_train = []\n",
    "\n",
    "for i in data[\"data\"]['TML-HUH']['UP']:\n",
    "    print(type(i))\n",
    "    for key, value in i.items():\n",
    "      print(key, '->', value)\n",
    "      if (key == 'dest'):\n",
    "        coming_train.append(value)\n",
    "      if (key == 'time'):\n",
    "        coming_train.append(value)\n",
    "\n",
    "print(coming_train)\n",
    "'''\n"
   ]
  },
  {
   "cell_type": "code",
   "execution_count": null,
   "metadata": {
    "colab": {
     "base_uri": "https://localhost:8080/"
    },
    "executionInfo": {
     "elapsed": 5,
     "status": "ok",
     "timestamp": 1726802518678,
     "user": {
      "displayName": "Ng Ted",
      "userId": "06817628253326971985"
     },
     "user_tz": -480
    },
    "id": "zd5h17In0yWJ",
    "outputId": "bc3dfc06-ef69-4c42-bc51-24c2022351f0"
   },
   "outputs": [],
   "source": [
    "\n",
    "coming_train = []\n",
    "\n",
    "for i in data[\"data\"]['TCL-SUN']['DOWN']:\n",
    "    print(type(i))\n",
    "    for key, value in i.items():\n",
    "      print(key, '->', value)\n",
    "      if (key == 'dest'):\n",
    "        coming_train.append(value)\n",
    "      if (key == 'time'):\n",
    "        coming_train.append(value)\n",
    "\n",
    "print(coming_train)"
   ]
  },
  {
   "cell_type": "code",
   "execution_count": null,
   "metadata": {
    "colab": {
     "base_uri": "https://localhost:8080/"
    },
    "executionInfo": {
     "elapsed": 1196,
     "status": "ok",
     "timestamp": 1726802519870,
     "user": {
      "displayName": "Ng Ted",
      "userId": "06817628253326971985"
     },
     "user_tz": -480
    },
    "id": "QyqfkO-qYsBT",
    "outputId": "ab15b8e4-364a-4306-b53e-87a898f86acb"
   },
   "outputs": [],
   "source": [
    "subject = \"Next coming trains\"\n",
    "sender = \"sender@gmail.com\"\n",
    "recipients = [\"recipients@gmail.com\"]\n",
    "password = \"GOOGLE_KEY\"\n",
    "body = \"Next Coming Trains \\n\\n\" + str(coming_train)\n",
    "\n",
    "def send_email(subject, body, sender, recipients, password):\n",
    "    msg = MIMEText(body)\n",
    "    msg['Subject'] = subject\n",
    "    msg['From'] = sender\n",
    "    msg['To'] = ', '.join(recipients)\n",
    "    with smtplib.SMTP_SSL('smtp.gmail.com', 465) as smtp_server:\n",
    "       smtp_server.login(sender, password)\n",
    "       smtp_server.sendmail(sender, recipients, msg.as_string())\n",
    "    print(\"Message sent!\")\n",
    "\n",
    "\n",
    "send_email(subject, body, sender, recipients, password)"
   ]
  }
 ],
 "metadata": {
  "colab": {
   "authorship_tag": "ABX9TyONrezeg0W7ndYOr8PKAR0u",
   "provenance": []
  },
  "kernelspec": {
   "display_name": ".venv",
   "language": "python",
   "name": "python3"
  },
  "language_info": {
   "name": "python",
   "version": "3.11.3"
  }
 },
 "nbformat": 4,
 "nbformat_minor": 0
}
