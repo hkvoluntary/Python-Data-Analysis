{
 "cells": [
  {
   "cell_type": "code",
   "execution_count": null,
   "metadata": {
    "executionInfo": {
     "elapsed": 2958,
     "status": "ok",
     "timestamp": 1726805173902,
     "user": {
      "displayName": "Ng Ted",
      "userId": "06817628253326971985"
     },
     "user_tz": -480
    },
    "id": "MLNc7g1eycaY"
   },
   "outputs": [],
   "source": [
    "import pandas as pd\n",
    "import numpy as np\n",
    "import matplotlib.pyplot as plt\n",
    "# Used for scientific and technical computing.\n",
    "from scipy import stats\n",
    "# Scikit-learn is probably the most useful library for machine learning in Python.\n",
    "# The sklearn library contains a lot of efficient tools for machine learning and statistical modeling\n",
    "# pip install scikit-learn\n",
    "from sklearn.linear_model import LinearRegression\n",
    "from sklearn.model_selection import train_test_split"
   ]
  },
  {
   "cell_type": "code",
   "execution_count": null,
   "metadata": {
    "colab": {
     "base_uri": "https://localhost:8080/"
    },
    "executionInfo": {
     "elapsed": 354,
     "status": "ok",
     "timestamp": 1726805203181,
     "user": {
      "displayName": "Ng Ted",
      "userId": "06817628253326971985"
     },
     "user_tz": -480
    },
    "id": "Hwa7pWnjyoVc",
    "outputId": "a9617323-1fba-4c03-beb0-58b3f2843215"
   },
   "outputs": [],
   "source": [
    "# Load data\n",
    "df = pd.read_csv('./student_scores.csv')\n",
    "print(df.head())\n",
    "print(df.shape)"
   ]
  },
  {
   "cell_type": "markdown",
   "metadata": {
    "id": "plCzMr-XzA0N"
   },
   "source": [
    "Define model by ourself"
   ]
  },
  {
   "cell_type": "code",
   "execution_count": null,
   "metadata": {
    "executionInfo": {
     "elapsed": 317,
     "status": "ok",
     "timestamp": 1726805322954,
     "user": {
      "displayName": "Ng Ted",
      "userId": "06817628253326971985"
     },
     "user_tz": -480
    },
    "id": "URojwJ1Eysg6"
   },
   "outputs": [],
   "source": [
    "def linear_formula(m_x, m_slope, m_intercept):\n",
    "    return m_slope * m_x + m_intercept"
   ]
  },
  {
   "cell_type": "code",
   "execution_count": null,
   "metadata": {
    "executionInfo": {
     "elapsed": 374,
     "status": "ok",
     "timestamp": 1726805329206,
     "user": {
      "displayName": "Ng Ted",
      "userId": "06817628253326971985"
     },
     "user_tz": -480
    },
    "id": "HPaDl87AzH8K"
   },
   "outputs": [],
   "source": [
    "# Statistical Functions to find out the values\n",
    "'''\n",
    "slope: float\n",
    "    Slope of the regression line.\n",
    "\n",
    "intercept: float\n",
    "    Intercept of the regression line.\n",
    "\n",
    "rvalue: float\n",
    "    The Pearson correlation coefficient. The square of rvalue is equal to the coefficient of determination.\n",
    "\n",
    "pvalue: float\n",
    "    The p-value for a hypothesis test whose null hypothesis is that the slope is zero,\n",
    "    using Wald Test with t-distribution of the test statistic. See alternative above for alternative hypotheses.\n",
    "\n",
    "stderr: float\n",
    "    Standard error of the estimated slope (gradient), under the assumption of residual normality.\n",
    "\n",
    "'''\n",
    "\n",
    "slope, intercept, correlation_coefficient, pvalue, standard_error = stats.linregress(df[\"Hours\"], df[\"Scores\"])\n"
   ]
  },
  {
   "cell_type": "code",
   "execution_count": null,
   "metadata": {
    "colab": {
     "base_uri": "https://localhost:8080/"
    },
    "executionInfo": {
     "elapsed": 342,
     "status": "ok",
     "timestamp": 1726805340292,
     "user": {
      "displayName": "Ng Ted",
      "userId": "06817628253326971985"
     },
     "user_tz": -480
    },
    "id": "YdYyw0xPzLNO",
    "outputId": "f76fe44e-b72c-4cbd-e71c-b89561e72bcf"
   },
   "outputs": [],
   "source": [
    "print(\"Values from stats module\")\n",
    "print(\"Slope: \", slope)\n",
    "print(\"Intercept: \", intercept)\n",
    "print(\"Correlation Coefficient: \", correlation_coefficient)"
   ]
  },
  {
   "cell_type": "code",
   "execution_count": null,
   "metadata": {
    "executionInfo": {
     "elapsed": 342,
     "status": "ok",
     "timestamp": 1726805354353,
     "user": {
      "displayName": "Ng Ted",
      "userId": "06817628253326971985"
     },
     "user_tz": -480
    },
    "id": "p7NJmtyT2Kg5"
   },
   "outputs": [],
   "source": [
    "# The map() function executes a specified function for each item in an iterable.\n",
    "# The item is sent to the function as a parameter.\n",
    "# A lambda function is a small anonymous function.\n",
    "plot_line = list(map(lambda x: linear_formula(x, slope, intercept), df[\"Hours\"]))"
   ]
  },
  {
   "cell_type": "code",
   "execution_count": null,
   "metadata": {
    "colab": {
     "base_uri": "https://localhost:8080/",
     "height": 472
    },
    "executionInfo": {
     "elapsed": 938,
     "status": "ok",
     "timestamp": 1726805357772,
     "user": {
      "displayName": "Ng Ted",
      "userId": "06817628253326971985"
     },
     "user_tz": -480
    },
    "id": "tDdZES5I2SxT",
    "outputId": "ff7c2662-bf48-4d31-f831-2b6f0d28ea93"
   },
   "outputs": [],
   "source": [
    "plt.scatter(df[\"Hours\"], df[\"Scores\"])\n",
    "plt.plot(df[\"Hours\"], plot_line, 'b')\n",
    "plt.grid()\n",
    "plt.title('Scatterplot of hours and scores with stats()')\n",
    "plt.xlabel('Hours')\n",
    "plt.ylabel('Scores')\n",
    "plt.show()"
   ]
  },
  {
   "cell_type": "code",
   "execution_count": null,
   "metadata": {
    "colab": {
     "base_uri": "https://localhost:8080/"
    },
    "executionInfo": {
     "elapsed": 354,
     "status": "ok",
     "timestamp": 1726805533632,
     "user": {
      "displayName": "Ng Ted",
      "userId": "06817628253326971985"
     },
     "user_tz": -480
    },
    "id": "hpEuNqGtzOmu",
    "outputId": "7395a8a6-faaf-4da4-90ce-e6523b7eaf9a"
   },
   "outputs": [],
   "source": [
    "# 6.5 hours\n",
    "myModel_predicted = linear_formula(6.5, slope, intercept)\n",
    "print(\"My Model Predicted Value: \", myModel_predicted)"
   ]
  },
  {
   "cell_type": "code",
   "execution_count": null,
   "metadata": {
    "colab": {
     "base_uri": "https://localhost:8080/"
    },
    "executionInfo": {
     "elapsed": 462,
     "status": "ok",
     "timestamp": 1726805587760,
     "user": {
      "displayName": "Ng Ted",
      "userId": "06817628253326971985"
     },
     "user_tz": -480
    },
    "id": "cJK3ewWX2huE",
    "outputId": "96883ee7-75eb-45f1-f31b-4cbc2aa863e0"
   },
   "outputs": [],
   "source": [
    "# Scikit-Learn's linear regression model expects a 2D input,\n",
    "# Dataframe offering a 1D array if we just extract the values\n",
    "'''\n",
    "# reshape(-1) is a line vector, when reshape(-1,1) is a column:\n",
    ">>> a\n",
    "array([[ 1.,  2.,  3.],\n",
    "       [ 4.,  5.,  6.]])\n",
    ">>> a.shape\n",
    "(2, 3)\n",
    ">>> a.reshape(-1)\n",
    "array([ 1.,  2.,  3.,  4.,  5.,  6.])\n",
    ">>> a.reshape(-1,1)\n",
    "array([[ 1.],\n",
    "       [ 2.],\n",
    "       [ 3.],\n",
    "       [ 4.],\n",
    "       [ 5.],\n",
    "       [ 6.]])\n",
    "'''\n",
    "X = df['Hours'].values.reshape(-1, 1)\n",
    "Y = df['Scores'].values.reshape(-1, 1)\n",
    "print(\">>>>>>>>>>>> X >>>>>>>>: \")\n",
    "print(X)\n",
    "print(\">>>>>>>>>>>> Y >>>>>>>>: \")\n",
    "print(Y)"
   ]
  },
  {
   "cell_type": "code",
   "execution_count": null,
   "metadata": {
    "colab": {
     "base_uri": "https://localhost:8080/",
     "height": 74
    },
    "executionInfo": {
     "elapsed": 365,
     "status": "ok",
     "timestamp": 1726805637232,
     "user": {
      "displayName": "Ng Ted",
      "userId": "06817628253326971985"
     },
     "user_tz": -480
    },
    "id": "K4fZIGFl3N4p",
    "outputId": "8f4e3a35-4692-4536-cb79-170f5efd55a1"
   },
   "outputs": [],
   "source": [
    "#  0.2, meaning 20% of the data will be used for the test set, and the remaining 80% for the training set.\n",
    "x_train, x_test, y_train, y_test = train_test_split(X, Y, test_size=0.2)\n",
    "\n",
    "regressor = LinearRegression()\n",
    "regressor.fit(x_train, y_train)\n"
   ]
  },
  {
   "cell_type": "code",
   "execution_count": null,
   "metadata": {
    "colab": {
     "base_uri": "https://localhost:8080/"
    },
    "executionInfo": {
     "elapsed": 353,
     "status": "ok",
     "timestamp": 1726805645055,
     "user": {
      "displayName": "Ng Ted",
      "userId": "06817628253326971985"
     },
     "user_tz": -480
    },
    "id": "LrWpGZ-r3ZLE",
    "outputId": "0abe137c-37cd-4515-ae20-0336d78cc8b9"
   },
   "outputs": [],
   "source": [
    "print(\"Values from sklearn module\")\n",
    "print(\"Slope: \", regressor.coef_)\n",
    "print(\"Intercept: \", regressor.intercept_)\n",
    "print(\"Correlation Coefficient: \")\n",
    "print(df.corr())"
   ]
  },
  {
   "cell_type": "code",
   "execution_count": null,
   "metadata": {
    "colab": {
     "base_uri": "https://localhost:8080/",
     "height": 472
    },
    "executionInfo": {
     "elapsed": 796,
     "status": "ok",
     "timestamp": 1726805706858,
     "user": {
      "displayName": "Ng Ted",
      "userId": "06817628253326971985"
     },
     "user_tz": -480
    },
    "id": "7mHvczI73zgj",
    "outputId": "f0c4b0ab-e11f-47bc-9c26-661c39a7dccf"
   },
   "outputs": [],
   "source": [
    "plt.scatter(x_train, y_train, color='red')\n",
    "plt.plot(x_train, regressor.predict(x_train), color='blue')\n",
    "\n",
    "plt.grid()\n",
    "plt.title('Scatterplot of hours and scores (Training set)')\n",
    "plt.xlabel('Hours')\n",
    "plt.ylabel('Scores')\n",
    "plt.show()"
   ]
  },
  {
   "cell_type": "code",
   "execution_count": null,
   "metadata": {
    "colab": {
     "base_uri": "https://localhost:8080/"
    },
    "executionInfo": {
     "elapsed": 425,
     "status": "ok",
     "timestamp": 1726805731120,
     "user": {
      "displayName": "Ng Ted",
      "userId": "06817628253326971985"
     },
     "user_tz": -480
    },
    "id": "JSjD_f0237Wu",
    "outputId": "217def19-e5ac-4c28-a91b-b6ce4ab2ad52"
   },
   "outputs": [],
   "source": [
    "score = regressor.predict([[6.5]])\n",
    "print(\"LinearRegression() Model Predicted Value: \", score)\n"
   ]
  },
  {
   "cell_type": "code",
   "execution_count": null,
   "metadata": {
    "colab": {
     "base_uri": "https://localhost:8080/"
    },
    "executionInfo": {
     "elapsed": 341,
     "status": "ok",
     "timestamp": 1726805744175,
     "user": {
      "displayName": "Ng Ted",
      "userId": "06817628253326971985"
     },
     "user_tz": -480
    },
    "id": "63xZpOGx4AK0",
    "outputId": "d8977bf3-7166-498b-8d21-cee79ee13ce4"
   },
   "outputs": [],
   "source": [
    "y_pred = regressor.predict(x_test)\n",
    "\n",
    "df_preds = pd.DataFrame({'x test': x_test.squeeze(), 'Actual': y_test.squeeze(), 'Predicted': y_pred.squeeze()})\n",
    "print(df_preds)"
   ]
  }
 ],
 "metadata": {
  "colab": {
   "authorship_tag": "ABX9TyNP4HvyQdwI23TUziU7p4kV",
   "provenance": []
  },
  "kernelspec": {
   "display_name": ".venv",
   "language": "python",
   "name": "python3"
  },
  "language_info": {
   "codemirror_mode": {
    "name": "ipython",
    "version": 3
   },
   "file_extension": ".py",
   "mimetype": "text/x-python",
   "name": "python",
   "nbconvert_exporter": "python",
   "pygments_lexer": "ipython3",
   "version": "3.11.3"
  }
 },
 "nbformat": 4,
 "nbformat_minor": 0
}
