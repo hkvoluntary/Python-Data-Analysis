{
  "nbformat": 4,
  "nbformat_minor": 0,
  "metadata": {
    "colab": {
      "provenance": []
    },
    "kernelspec": {
      "name": "python3",
      "display_name": "Python 3"
    },
    "language_info": {
      "name": "python"
    }
  },
  "cells": [
    {
      "cell_type": "code",
      "execution_count": null,
      "metadata": {
        "id": "DDkYz4Sk4jM2"
      },
      "outputs": [],
      "source": [
        "import pandas as pd\n",
        "import numpy as np\n",
        "import matplotlib.pyplot as plt\n",
        "import seaborn as sns\n",
        "import os\n",
        "import geopy\n",
        "import io\n",
        "\n",
        "#Run this cell and upload the ramen-ratings.csv file from your computer\n",
        "from google.colab import files\n",
        "\n",
        "uploaded = files.upload()\n",
        "\n",
        "for fn in uploaded.keys():\n",
        "  print('User uploaded file \"{name}\" with length {length} bytes'.format(\n",
        "      name=fn, length=len(uploaded[fn])))"
      ]
    },
    {
      "cell_type": "code",
      "source": [
        "ramen = pd.read_csv(io.StringIO(uploaded['ramen-ratings.csv'].decode('utf-8')))\n",
        "#ramen = pd.read_csv('./ramen-ratings.csv')\n",
        "ramen\n"
      ],
      "metadata": {
        "id": "BZ0ci_2V43Zc"
      },
      "execution_count": null,
      "outputs": []
    },
    {
      "cell_type": "code",
      "source": [
        "# Quick review of column subsetting and data types:\n",
        "# Extract and print only the Variety and Country columns from the ramen dataset.\n",
        "print('Ramen:',ramen[['Variety', 'Country']])\n",
        "print(ramen[['Stars']])"
      ],
      "metadata": {
        "id": "gcUG1B7U5WXn"
      },
      "execution_count": null,
      "outputs": []
    },
    {
      "cell_type": "code",
      "source": [
        "# Run this describe function to see a summary of the data. Compare to the printed\n",
        "# DataFrame above.\n",
        "# Which columns did you expect to be numeric? Which ones are actually numeric?\n",
        "\n",
        "ramen.describe()\n",
        "print('Ramen describe:',ramen.describe())\n",
        "\n",
        "# To see what the data types are of each column in the DataFrame.\n",
        "ramen.dtypes\n",
        "print('Ramen Type:', ramen.dtypes)"
      ],
      "metadata": {
        "id": "qe238Dvz5kOv"
      },
      "execution_count": null,
      "outputs": []
    },
    {
      "cell_type": "code",
      "source": [
        "# Expect 'Stars' colunm is numeric. To attempt to convert the column to\n",
        "# a numeric one. It will not work.\n",
        "#pd.to_numeric(ramen['Stars'])"
      ],
      "metadata": {
        "id": "ziyEyPiY6jlE"
      },
      "execution_count": null,
      "outputs": []
    },
    {
      "cell_type": "code",
      "source": [
        "# To convert to numeric, we need to tell pandas what to do if the value cannot\n",
        "# be converted to a numeric value, for example if the value is \"Unrated\".\n",
        "# Look at this documentation and select the option to convert non-numeric items to a NaN or missing value.\n",
        "# https://pandas.pydata.org/pandas-docs/stable/reference/api/pandas.to_numeric.html\n",
        "# Hint: it will look like this:\n",
        "pd.to_numeric(ramen['Stars'],errors='coerce')\n"
      ],
      "metadata": {
        "id": "1Od1Pb2V7KWF"
      },
      "execution_count": null,
      "outputs": []
    },
    {
      "cell_type": "code",
      "source": [
        "# Once the line above works and gives you a Series output, save to a new column\n",
        "# in the data frame called \"rating\".\n",
        "# Hint: See \"Adding a column\" in the tutorial\n",
        "\n",
        "ramen['Rating'] = pd.to_numeric(ramen['Stars'],errors='coerce')\n",
        "print('Ramen:', ramen)"
      ],
      "metadata": {
        "id": "BcvPc9HP7XHm"
      },
      "execution_count": null,
      "outputs": []
    },
    {
      "cell_type": "code",
      "source": [
        "# Run the describe command to see what the updated numeric variables are like.\n",
        "# Answer the question: From the describe output, how many values of Stars were missing?\n",
        "\n",
        "ramen.describe()\n",
        "print('Ramen describe:',ramen.describe())\n",
        "\n",
        "\n",
        "# To see what the data types are of each column in the DataFrame.\n",
        "ramen.dtypes\n",
        "print('Ramen Type:', ramen.dtypes)\n",
        "\n"
      ],
      "metadata": {
        "id": "FYzNNNcR7ZTm"
      },
      "execution_count": null,
      "outputs": []
    },
    {
      "cell_type": "code",
      "source": [
        "#Use seaborn to plot a histogram of the ramen ratings with 10 bins.\n",
        "plt.figure(figsize = (15,8))\n",
        "ax = sns.histplot(x=\"Rating\", bins=20, data=ramen)\n",
        "ax.set_ylabel('Frequency')\n",
        "ax.set_xlabel('Rating')\n",
        "ax.set_title(\"Histogram of the rating of the ramen\")\n",
        "plt.show()\n",
        "\n"
      ],
      "metadata": {
        "id": "0xhjAJkl8bGX"
      },
      "execution_count": null,
      "outputs": []
    },
    {
      "cell_type": "code",
      "source": [
        "#how many suvery per country.\n",
        "\n",
        "print(ramen.groupby(['Country']).size())"
      ],
      "metadata": {
        "id": "NqG-Dats8zEp"
      },
      "execution_count": null,
      "outputs": []
    },
    {
      "cell_type": "code",
      "source": [
        "print(ramen.groupby(['Country']).count())"
      ],
      "metadata": {
        "id": "Gvef2UJ49hNQ"
      },
      "execution_count": null,
      "outputs": []
    },
    {
      "cell_type": "code",
      "source": [
        "\n",
        "# how many ratings there are for each Country.\n",
        "print(ramen.groupby(['Country'])['Rating'].count())"
      ],
      "metadata": {
        "id": "YFOfGvPB-VkA"
      },
      "execution_count": null,
      "outputs": []
    },
    {
      "cell_type": "code",
      "source": [
        "# Notice that there are both United States and USA listed.\n",
        "# Correct it by running this line of code:\n",
        "ramen['Country'] = ramen['Country'].str.replace('USA','United States')\n",
        "print(ramen['Country'])"
      ],
      "metadata": {
        "id": "Lez7NjCFAHM7"
      },
      "execution_count": null,
      "outputs": []
    },
    {
      "cell_type": "code",
      "source": [
        "# With the data cleaned, re-run the code you wrote 2 cells up giving the number of counts per country,\n",
        "\n",
        "ramen.groupby(['Country']).size()\n",
        "print(ramen.groupby(['Country']).size())\n",
        "print(type(ramen.groupby(['Country']).size()))\n",
        "\n",
        "\n",
        "\n"
      ],
      "metadata": {
        "id": "e26bTlphAj1H"
      },
      "execution_count": null,
      "outputs": []
    },
    {
      "cell_type": "code",
      "source": [
        "\n",
        "# saving it to a variable called count_by_countries. Print the variable name to check it.\n",
        "# Notice this gives us a Series, not a DataFrame.\n",
        "\n",
        "count_by_countries = pd.DataFrame(ramen.groupby(['Country']).size())\n",
        "print(count_by_countries)\n",
        "print(type(count_by_countries))\n",
        "count_by_countries"
      ],
      "metadata": {
        "id": "FMKDcBksA48p"
      },
      "execution_count": null,
      "outputs": []
    },
    {
      "cell_type": "code",
      "source": [
        "\"\"\"\n",
        "Notice that the output is a bit strange: the country is in bold, and depending on the strategy you chose above,\n",
        "the count may be labeled \"Country\". Earlier in this lab, we learned that the index of a row is not necessarily the row number;\n",
        "it is really a row identifier. We converted one of the columns to a row identifier, or index, using set_index().\n",
        "\n",
        "Here we're in the opposite situation: the index contains the information that we actually want in a column.\n",
        "We will convert the index to a column using reset_index().\n",
        "\"\"\"\n",
        "count_by_countries.reset_index()\n",
        "\n",
        "print(count_by_countries.reset_index())\n",
        "count_by_countries\n"
      ],
      "metadata": {
        "id": "lNDvtV3BBgvS"
      },
      "execution_count": null,
      "outputs": []
    },
    {
      "cell_type": "code",
      "source": [
        "# We see that reset_index() showed us what a copy of the DataFrame would look like\n",
        "# if we used the function, but it did not save changes to the DataFrame.\n",
        "# To save changes, we'll add this in between the parentheses:\n",
        "# inplace=True\n",
        "# Keep this in mind; this option for inplace occurs in many other pandas methods\n",
        "# as well.\n",
        "\n",
        "count_by_countries.reset_index(inplace=True)\n",
        "count_by_countries\n",
        "\n"
      ],
      "metadata": {
        "id": "0RTnObk7CCcS"
      },
      "execution_count": null,
      "outputs": []
    },
    {
      "cell_type": "code",
      "source": [
        "# Depending on how you counted the number of ratings per country, the column names\n",
        "# may now be off. Let's rename them appropriately so we can all work from the same\n",
        "# point. Run this code to fix it and check:\n",
        "count_by_countries.columns = ['Country','count']\n",
        "print(count_by_countries.columns)\n",
        "print(count_by_countries)"
      ],
      "metadata": {
        "id": "ScJGm_UiCkG5"
      },
      "execution_count": null,
      "outputs": []
    },
    {
      "cell_type": "code",
      "source": [
        "\"\"\"\n",
        "\n",
        "In this section, we'll look at:\n",
        "- Merging (i.e. joining) two data frames\n",
        "- Another split-apply-combine example\n",
        "- Ordering a bar plot by values\n",
        "\n",
        "Extract data for the countries that make the most ramen and create a barplot\n",
        "\n",
        "Suppose we want to take a closer look at only the countries that produce a lot of raman. Let's filter out the countries that have > 100 ramen ratings.\n",
        "\n",
        "There are probably many ways to do this, and you are welcome to think up your  own, if you wish. I will walk you through one.\n",
        "\"\"\""
      ],
      "metadata": {
        "id": "Bln32UwCDBwV"
      },
      "execution_count": null,
      "outputs": []
    },
    {
      "cell_type": "code",
      "source": [
        "# Now use row selection to select all lines where the count is greater than 100.\n",
        "# Save this to a variable called ramen_countries.\n",
        "\n",
        "ramen_countries = count_by_countries[count_by_countries['count'] > 100]\n",
        "print(ramen_countries)"
      ],
      "metadata": {
        "id": "ORM2XUImDIKh"
      },
      "execution_count": null,
      "outputs": []
    },
    {
      "cell_type": "code",
      "source": [
        "# Join this data frame with the original data frame to retain only countries\n",
        "# with more than 100 ramen varieties.\n",
        "# We will put ramen on the left and ramen_countries on the right, like this:\n",
        "# ramen.merge(ramen_countries,how='',on='')\n",
        "# You will determine what goes into each of those quotations.\n",
        "# How: if we only want the rows from the countries in ramen_countries, how\n",
        "# should we do this join? Options: inner, outer, left, right\n",
        "# On: Which column name is in common between these datasets that we want to use to tell\n",
        "# pandas how to join the data?\n",
        "\n",
        "ramen_top_countries = ramen.merge(ramen_countries,how='inner',on='Country')\n",
        "print(ramen_top_countries)"
      ],
      "metadata": {
        "id": "MetB2SPCDkWb"
      },
      "execution_count": null,
      "outputs": []
    },
    {
      "cell_type": "code",
      "source": [
        "# Check your work by running this line summing the count of ramen_countries.\n",
        "# This number should *almost* match the number of rows above (differing perhaps\n",
        "# by a small number of missing ratings).\n",
        "\n",
        "numOfRows = len(ramen.index)\n",
        "print('Number of Rows in ramen : ' , numOfRows)\n",
        "numOfRows = len(ramen_top_countries.index)\n",
        "print('Number of Rows in ramen_top_countries : ' , numOfRows)"
      ],
      "metadata": {
        "id": "ISGx3C3MEHxP"
      },
      "execution_count": null,
      "outputs": []
    },
    {
      "cell_type": "code",
      "source": [
        "# Use the seaborn barplot command to make a bar plot of rating by country from\n",
        "# the ramen_top_countries data.\n",
        "# Choose the best orientation of x vs y so that you can read the labels.\n",
        "# Also include the option ci=None in the parentheses.\n",
        "# In frequentist statistics, a confidence interval (CI) is a range of estimates for an unknown parameter.\n",
        "# To remove the confidence interval by setting the ci parameter to None\n",
        "\n",
        "plt.figure(figsize = (15,8)) # Use the matplotlib.pyplot.figure() Function to Change the Size of a Seaborn Plot\n",
        "ax = sns.barplot(x='Country', y='count', ci=None, data=ramen_top_countries)\n",
        "ax.set_ylabel(\"Count\")\n",
        "ax.set_xlabel(\"Country'\")\n",
        "ax.set_title(\"Bar plot of rating by country\")\n",
        "plt.show()\n"
      ],
      "metadata": {
        "id": "VCATNbkqESOp"
      },
      "execution_count": null,
      "outputs": []
    },
    {
      "cell_type": "code",
      "source": [
        "# We would prefer to have this ordered.\n",
        "# We want to get a DataFrame with the country, rating, and (for later use) count.\n",
        "# Spoiler alert: if you want to figure this out yourself, don't keep reading this cell.\n",
        "\n",
        "# Otherwise, let's walk through this together.\n",
        "\n",
        "# We want one line per country, so group by country like this:\n",
        "ramen_top_countries.groupby(\"Country\")\n",
        "\n",
        "# Here's an option that prevents the need for all the index resetting:\n",
        "ramen_top_countries.groupby(\"Country\",as_index=False)\n",
        "\n",
        "# We want the rating and count for each country, so select those columns.\n",
        "# Remember that we need two sets of brackets to select multiple columns, because\n",
        "# the inner brackets are giving the list of columns.\n",
        "ramen_top_countries.groupby(\"Country\",as_index=False)[['Rating','count']]\n",
        "\n",
        "# We want the mean rating for each country. (We want the actual count, but that value\n",
        "# is already repeated in every row, so the mean of all the same number will just be\n",
        "# that number.) Apply the mean function to the code so far.\n",
        "# ramen_top_countries.groupby(\"Country\",as_index=False)[['rating','count']].mean()\n",
        "\n",
        "pd.DataFrame(ramen_top_countries.groupby(\"Country\",as_index=False)[['Rating','count']].mean())\n"
      ],
      "metadata": {
        "id": "mqpnhfl5JSPD"
      },
      "execution_count": null,
      "outputs": []
    },
    {
      "cell_type": "code",
      "source": [
        "# Now sort this by the rating. We want it descending, so we'll set ascending to False.\n",
        "# Save this as ramen_rating_by_country.\n",
        "\n",
        "ramen_rating_by_country = pd.DataFrame(ramen_top_countries.groupby(\"Country\",as_index=False)[['Rating','count']].mean()).sort_values('Rating',ascending=False)\n",
        "ramen_rating_by_country"
      ],
      "metadata": {
        "id": "uy4s7-O_MDXT"
      },
      "execution_count": null,
      "outputs": []
    },
    {
      "cell_type": "code",
      "source": [
        "# Create a barplot of country vs. rating using ramen_rating_by_country.\n",
        "plt.figure(figsize = (15,8))\n",
        "ax = sns.barplot(x='Country', y='Rating', ci=None, data=ramen_rating_by_country)\n",
        "ax.set_ylabel(\"Mean Rating\")\n",
        "ax.set_xlabel(\"Country'\")\n",
        "ax.set_title(\"Bar plot of Mean Rating by country\")\n",
        "plt.show()"
      ],
      "metadata": {
        "id": "aZiJy43cMVZI"
      },
      "execution_count": null,
      "outputs": []
    },
    {
      "cell_type": "code",
      "source": [
        "# Use regplot to create a scatterplot of rating vs. count, which is essentially\n",
        "# quality vs. quantity. Regplot will automatically apply a best-fit line.\n",
        "plt.figure(figsize = (15,8))\n",
        "ax = sns.regplot(x='Rating', y='count', ci=None, data=ramen_rating_by_country)\n",
        "ax.set_xlabel(\"Rating\")\n",
        "ax.set_ylabel(\"Count\")\n",
        "ax.set_title(\"Reg plot of Mean Rating by country\")\n",
        "plt.show()\n",
        "\n",
        "# Based on the plot above, is there a quality vs. quantity tradeoff?\n",
        "# In other words, does the mean rating seem to be related to the number of types\n",
        "# of ramen that the country produces?\n",
        "# (Consider the correlation of these variables, or the algebra of the best-fit line.)"
      ],
      "metadata": {
        "id": "ZEgtI0Z2MhlG"
      },
      "execution_count": null,
      "outputs": []
    }
  ]
}