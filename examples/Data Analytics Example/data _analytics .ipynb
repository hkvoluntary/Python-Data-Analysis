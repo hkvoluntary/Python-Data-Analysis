{
 "cells": [
  {
   "cell_type": "code",
   "execution_count": null,
   "metadata": {
    "executionInfo": {
     "elapsed": 6207,
     "status": "ok",
     "timestamp": 1727168907728,
     "user": {
      "displayName": "Ng Ted",
      "userId": "06817628253326971985"
     },
     "user_tz": -480
    },
    "id": "KLGJmb6IGZk2"
   },
   "outputs": [],
   "source": [
    "# 0. Run this code to import the libraries we will need.\n",
    "import pandas as pd #data analysis and manipulation tool\n",
    "import numpy as np #mathematical functions\n",
    "import matplotlib.pyplot as plt #collection of functions creates a figure, creates a plotting area\n",
    "import seaborn as sns #data visualization library based on matplotlib\n",
    "import os # provides functions for interacting with the operating system\n",
    "import geopy #locate the coordinates of addresses, cities, countries, and landmarks across the globe\n",
    "import io"
   ]
  },
  {
   "cell_type": "code",
   "execution_count": null,
   "metadata": {
    "colab": {
     "base_uri": "https://localhost:8080/"
    },
    "executionInfo": {
     "elapsed": 987,
     "status": "ok",
     "timestamp": 1727168931572,
     "user": {
      "displayName": "Ng Ted",
      "userId": "06817628253326971985"
     },
     "user_tz": -480
    },
    "id": "OKdYQ2xXQe8h",
    "outputId": "9d67e4e5-404c-4594-b394-4d78a22af00a"
   },
   "outputs": [],
   "source": [
    "\n",
    "\"\"\"\n",
    "In this section, we will review:\n",
    "- selecting columns\n",
    "- filtering rows by characteristic\n",
    "- creating a new variable\n",
    "- creating a boxplot, line plot, and heat map in seaborn\n",
    "\n",
    "And we will learn something new about:\n",
    "- syntax for converting from wide to long format\n",
    "- dropping columns\n",
    "- combining multiple commands on a DataFrame\n",
    "- what a pandas Index is\n",
    "- how to set a DataFrame index\n",
    "\n",
    "Be sure that you have downloaded ice_cream_by_shop.csv before starting.\n",
    "\"\"\"\n",
    "\n",
    "#Run this cell to load the file into a data frame and look at that data frame\n",
    "ic_wide = pd.read_csv('./ice_cream_by_shop.csv') #upload data\n",
    "print(ic_wide)\n",
    "\n",
    "# Create a table of only the ID number, address, Wednesday, and Thursday ice cream\n",
    "# sales from the data.\n",
    "ic_subset = ic_wide[[\"ID\",\"address\",\"Wednesday\",\"Thursday\"]]\n",
    "print(ic_subset)"
   ]
  },
  {
   "cell_type": "code",
   "execution_count": null,
   "metadata": {
    "colab": {
     "base_uri": "https://localhost:8080/"
    },
    "executionInfo": {
     "elapsed": 319,
     "status": "ok",
     "timestamp": 1727168956958,
     "user": {
      "displayName": "Ng Ted",
      "userId": "06817628253326971985"
     },
     "user_tz": -480
    },
    "id": "DOWVXzeLRV3E",
    "outputId": "669ca288-4bab-4ed1-a5ce-645fff8796f0"
   },
   "outputs": [],
   "source": [
    "## Converting to long format and viewing distributions\n",
    "## Pandas melt() function is used to change the DataFrame format from wide to long.\n",
    "## This is useful when you want to unpivot a DataFrame, meaning you want to convert multiple columns into a single column containing the variable names,\n",
    "## and another column containing their corresponding values.\n",
    "\n",
    "### id_vars: Column(s) to use as identifier variables.\n",
    "### value_name: Name to use for the ‘value’ column.\n",
    "### var_name[scalar]: Name to use for the ‘variable’ column. If None it uses frame.columns.name or ‘variable’.\n",
    "\n",
    "ic_long = ic_wide.melt(id_vars=['ID','address'], value_name='count', var_name='day')\n",
    "print (ic_long)"
   ]
  },
  {
   "cell_type": "code",
   "execution_count": null,
   "metadata": {
    "colab": {
     "base_uri": "https://localhost:8080/",
     "height": 718
    },
    "executionInfo": {
     "elapsed": 1264,
     "status": "ok",
     "timestamp": 1727168966868,
     "user": {
      "displayName": "Ng Ted",
      "userId": "06817628253326971985"
     },
     "user_tz": -480
    },
    "id": "At3iVUl3Rdif",
    "outputId": "7404f6e6-7a47-4c6d-f4a6-b4573a9ee0d9"
   },
   "outputs": [],
   "source": [
    "# Create a boxplot for the count of ice creams purchased by day of the week using\n",
    "# the long data frame.\n",
    "plt.figure(figsize = (15,8))\n",
    "ax = sns.boxplot(data=ic_long, x=\"day\", y=\"count\")\n",
    "ax.set_xlabel(\"Day of week\")\n",
    "ax.set_ylabel(\"Count\")\n",
    "ax.set_title(\"Count of ice cream purchased by day of the week\")\n",
    "\n",
    "plt.show()"
   ]
  },
  {
   "cell_type": "code",
   "execution_count": null,
   "metadata": {},
   "outputs": [],
   "source": [
    "df_day_count = pd.Series(ic_long.groupby('day')['count'].sum(), name='count').reset_index()\n",
    "df_day_count.sort_values(by='count', ascending=True, inplace=True)\n",
    "df_day_count\n"
   ]
  },
  {
   "cell_type": "code",
   "execution_count": null,
   "metadata": {},
   "outputs": [],
   "source": [
    "ax = sns.barplot(x='day', y='count', data=df_day_count)\n",
    "ax.set_ylabel(\"Count\")\n",
    "ax.set_xlabel(\"Day\")\n",
    "ax.set_title(\"Bar plot of Day Count\")\n",
    "plt.show()"
   ]
  },
  {
   "cell_type": "code",
   "execution_count": null,
   "metadata": {
    "colab": {
     "base_uri": "https://localhost:8080/",
     "height": 1000
    },
    "executionInfo": {
     "elapsed": 1183,
     "status": "ok",
     "timestamp": 1726803283630,
     "user": {
      "displayName": "Ng Ted",
      "userId": "06817628253326971985"
     },
     "user_tz": -480
    },
    "id": "9yJzDHtaRguL",
    "outputId": "3f9bd5df-0087-43e5-f3e9-45fe92109335"
   },
   "outputs": [],
   "source": [
    "# Using the ic_long dataframe, create a time-series plot that shows the amount\n",
    "# of ice cream sold each day of the week.\n",
    "\n",
    "temp = ic_long.groupby('ID')\n",
    "print(temp)\n",
    "\n",
    "print (\"############### - print data groupby 'ID' as Key and the row for that ID\")\n",
    "for key, item in temp:\n",
    "  print(temp.get_group(key))\n",
    "\n",
    "plt.figure(figsize = (15,8))\n",
    "for label, grp in ic_long.groupby('ID'): # Actual temp = ic_long.groupby('ID')\n",
    "    ax = sns.lineplot(x='day', y='count', data=grp, marker='o', label=label) # grp = item (rows for that ID), label = key (i.e. ID)\n",
    "\n",
    "ax.set_xlabel(\"Day of week\")\n",
    "ax.set_ylabel(\"Count\")\n",
    "ax.set_title(\"Count of ice cream purchased by day of the week\")\n",
    "plt.legend(title='Store ID', ncol=2, loc='best')\n",
    "plt.show()"
   ]
  },
  {
   "cell_type": "code",
   "execution_count": null,
   "metadata": {
    "colab": {
     "base_uri": "https://localhost:8080/",
     "height": 1000
    },
    "executionInfo": {
     "elapsed": 551,
     "status": "ok",
     "timestamp": 1726803632158,
     "user": {
      "displayName": "Ng Ted",
      "userId": "06817628253326971985"
     },
     "user_tz": -480
    },
    "id": "jCZh26JESjww",
    "outputId": "cef295a3-7580-4740-de67-87b08bb2270b"
   },
   "outputs": [],
   "source": [
    "\n",
    "ic_wide.set_index('ID') # Use \"ID\" as  index\n",
    "print(\"######## Display the dataframe use ID as index\")\n",
    "print(ic_wide.set_index('ID'))\n",
    "\n",
    "ic_reformatted = ic_wide.drop(columns='address').set_index('ID')\n",
    "print(\">>>>>>>>>> new dataframe use ID as index and drop address \")\n",
    "print(ic_reformatted)\n",
    "\n",
    "plt.figure(figsize = (15,8))\n",
    "\n",
    "ax = sns.heatmap(data=ic_reformatted)\n",
    "ax.set_xlabel(\"Day of week\")\n",
    "ax.set_ylabel(\"Store ID\")\n",
    "ax.set_title(\"Count of ice cream purchased by day of the week\")\n",
    "plt.show()"
   ]
  },
  {
   "cell_type": "code",
   "execution_count": null,
   "metadata": {
    "colab": {
     "base_uri": "https://localhost:8080/"
    },
    "executionInfo": {
     "elapsed": 369,
     "status": "ok",
     "timestamp": 1726803786035,
     "user": {
      "displayName": "Ng Ted",
      "userId": "06817628253326971985"
     },
     "user_tz": -480
    },
    "id": "xppYflurTPMH",
    "outputId": "7aa42512-5c6a-487b-9437-36c42cf68bb6"
   },
   "outputs": [],
   "source": [
    "print(ic_wide)\n",
    "#this is an example of list comprehension.\n",
    "days_columns = [col for col in ic_wide.columns if col.endswith('day')]\n",
    "print(days_columns)\n",
    "\n",
    "\n",
    "\n"
   ]
  },
  {
   "cell_type": "code",
   "execution_count": null,
   "metadata": {
    "colab": {
     "base_uri": "https://localhost:8080/"
    },
    "executionInfo": {
     "elapsed": 348,
     "status": "ok",
     "timestamp": 1726803833509,
     "user": {
      "displayName": "Ng Ted",
      "userId": "06817628253326971985"
     },
     "user_tz": -480
    },
    "id": "qPt21yI5Tik-",
    "outputId": "fe77f2ae-0d60-46bf-b6fb-bc7959f12a73"
   },
   "outputs": [],
   "source": [
    "# explain: col for col in ic_wide.columns if col.endswith('day')\n",
    "print(ic_wide.columns) # i.e Header\n",
    "days_columns2 = []\n",
    "for col in ic_wide.columns:\n",
    "  if col.find('es') != -1:\n",
    "    print(f'{col} - yes')\n",
    "    days_columns2.append(col)\n",
    "  else:\n",
    "    print(f'{col} - no')\n",
    "\n",
    "print(days_columns2)"
   ]
  },
  {
   "cell_type": "code",
   "execution_count": null,
   "metadata": {
    "colab": {
     "base_uri": "https://localhost:8080/"
    },
    "executionInfo": {
     "elapsed": 330,
     "status": "ok",
     "timestamp": 1726803871373,
     "user": {
      "displayName": "Ng Ted",
      "userId": "06817628253326971985"
     },
     "user_tz": -480
    },
    "id": "hayth6NnTX9s",
    "outputId": "1c034e1c-f4c1-4ee4-dce1-75f5e8276d60"
   },
   "outputs": [],
   "source": [
    "\n",
    "# Run this code to get the data frame subset that is only these days.\n",
    "print(ic_wide[days_columns])\n",
    "\n",
    "#The sum of all the ice creams for each shop\n",
    "print(\"##### Sum each column \\n\")\n",
    "print(ic_wide[days_columns].sum())\n",
    "\n",
    "print(\">>>>>>>> Sum each row \\n\")\n",
    "print(ic_wide[days_columns].sum(axis=1)) #axis tells pandas whether to do operations by row i.e. each index 0-5\n",
    "# axis = 1 = row ===>> sum each row\n",
    "\n"
   ]
  },
  {
   "cell_type": "code",
   "execution_count": null,
   "metadata": {
    "colab": {
     "base_uri": "https://localhost:8080/"
    },
    "executionInfo": {
     "elapsed": 366,
     "status": "ok",
     "timestamp": 1726804047246,
     "user": {
      "displayName": "Ng Ted",
      "userId": "06817628253326971985"
     },
     "user_tz": -480
    },
    "id": "WGocbnDbUjRg",
    "outputId": "17da364c-95e5-4e4e-d476-21013d049d6a"
   },
   "outputs": [],
   "source": [
    "ic_wide[\"total_per_shop\"] = ic_wide[days_columns].sum(axis=1)\n",
    "print(ic_wide)"
   ]
  },
  {
   "cell_type": "code",
   "execution_count": null,
   "metadata": {
    "colab": {
     "base_uri": "https://localhost:8080/"
    },
    "executionInfo": {
     "elapsed": 1313,
     "status": "ok",
     "timestamp": 1726804199601,
     "user": {
      "displayName": "Ng Ted",
      "userId": "06817628253326971985"
     },
     "user_tz": -480
    },
    "id": "ewHFPz2-Uqaa",
    "outputId": "cd717a85-4a79-427b-b9d6-0dabc7fb8bd6"
   },
   "outputs": [],
   "source": [
    "# Let's try out the geopy library!\n",
    "# Run this code to look up the given address and see details.\n",
    "geolocator = geopy.Nominatim(user_agent=\"example\")\n",
    "location = geolocator.geocode(\"201 1st St 94022\")\n",
    "location"
   ]
  },
  {
   "cell_type": "code",
   "execution_count": null,
   "metadata": {
    "colab": {
     "base_uri": "https://localhost:8080/"
    },
    "executionInfo": {
     "elapsed": 348,
     "status": "ok",
     "timestamp": 1726804241841,
     "user": {
      "displayName": "Ng Ted",
      "userId": "06817628253326971985"
     },
     "user_tz": -480
    },
    "id": "NzwD7XhYUuk0",
    "outputId": "ca90d505-f614-408c-d6ab-b2bdf611d1f5"
   },
   "outputs": [],
   "source": [
    "# Run this to see even more details.\n",
    "print(location.raw)\n",
    "\n",
    "# We can extract the latitude like this.\n",
    "print(location.latitude)\n",
    "\n",
    "# We can extract the Longitude like this.\n",
    "print(location.longitude)"
   ]
  },
  {
   "cell_type": "code",
   "execution_count": null,
   "metadata": {
    "colab": {
     "base_uri": "https://localhost:8080/"
    },
    "executionInfo": {
     "elapsed": 713,
     "status": "ok",
     "timestamp": 1726804281044,
     "user": {
      "displayName": "Ng Ted",
      "userId": "06817628253326971985"
     },
     "user_tz": -480
    },
    "id": "7Hh5A0m5U0PF",
    "outputId": "3d3e7fbf-9ebc-4966-d482-a6cc49ccc960"
   },
   "outputs": [],
   "source": [
    "location = geolocator.geocode(\"4301 University Way NE 98105\")\n",
    "location\n",
    "\n",
    "print(location.raw)"
   ]
  },
  {
   "cell_type": "code",
   "execution_count": null,
   "metadata": {
    "colab": {
     "base_uri": "https://localhost:8080/",
     "height": 448
    },
    "executionInfo": {
     "elapsed": 8863,
     "status": "ok",
     "timestamp": 1726804299516,
     "user": {
      "displayName": "Ng Ted",
      "userId": "06817628253326971985"
     },
     "user_tz": -480
    },
    "id": "rfdqvW2fU16t",
    "outputId": "2dbbac22-66ca-4828-b9f3-c6aabfe0ef74"
   },
   "outputs": [],
   "source": [
    "#Run this to get the latitude for each address. It will store this information in\n",
    "#the data frame. (ignore the SettingWithCopyWarning, if it appears)\n",
    "## The apply() function in Pandas allows you to apply a function along an axis of a DataFrame or Series.\n",
    "## This is extremely useful for performing custom operations on your data.\n",
    "\n",
    "def getLatitude(address, g):\n",
    "    location = g.geocode(address, timeout=10000)\n",
    "    return location.latitude\n",
    "\n",
    "def getLongitude(address,geolocator):\n",
    "    location = geolocator.geocode(address, timeout=10000)\n",
    "    return location.longitude\n",
    "\n",
    "ic_wide['latitudes'] = ic_wide['address'].apply(getLatitude,args=(geolocator,))\n",
    "ic_wide['longitude'] = ic_wide['address'].apply(getLongitude,args=(geolocator,))\n",
    "ic_wide"
   ]
  },
  {
   "cell_type": "code",
   "execution_count": null,
   "metadata": {
    "colab": {
     "base_uri": "https://localhost:8080/",
     "height": 560
    },
    "executionInfo": {
     "elapsed": 454,
     "status": "ok",
     "timestamp": 1726804314497,
     "user": {
      "displayName": "Ng Ted",
      "userId": "06817628253326971985"
     },
     "user_tz": -480
    },
    "id": "VZZXEDNxVKe4",
    "outputId": "caa513cc-3863-40b5-e878-cceaf19edfea"
   },
   "outputs": [],
   "source": [
    "# Using Seaborn, create a scatterplot for the total_per_shop vs the latitude.\n",
    "# Give this plot better axis labels and a title.\n",
    "plt.figure(figsize = (15,8))\n",
    "ax = sns.scatterplot(data = ic_wide, x = \"total_per_shop\", y = \"latitudes\")\n",
    "ax.set_ylabel(\"Store latitudes \")\n",
    "ax.set_xlabel(\"Number of ice cream\")\n",
    "ax.set_title(\"Weekly total ice cream sold per store location\")\n",
    "plt.show()"
   ]
  }
 ],
 "metadata": {
  "colab": {
   "authorship_tag": "ABX9TyOd+wyByxra/+HDIZyK4PZ+",
   "provenance": []
  },
  "kernelspec": {
   "display_name": ".venv",
   "language": "python",
   "name": "python3"
  },
  "language_info": {
   "codemirror_mode": {
    "name": "ipython",
    "version": 3
   },
   "file_extension": ".py",
   "mimetype": "text/x-python",
   "name": "python",
   "nbconvert_exporter": "python",
   "pygments_lexer": "ipython3",
   "version": "3.11.3"
  }
 },
 "nbformat": 4,
 "nbformat_minor": 0
}
