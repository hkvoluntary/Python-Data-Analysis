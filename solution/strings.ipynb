{
 "cells": [
  {
   "cell_type": "code",
   "execution_count": 1,
   "metadata": {},
   "outputs": [
    {
     "name": "stdout",
     "output_type": "stream",
     "text": [
      "Length of the variable \"text\": 41\n",
      "Length of the variable \"new\": 9\n",
      "Middle Element in the new variable:  jumps\n",
      "['The', 'quick', 'brown', 'fox', 'jumps', 'over', 'a', 'lazy', 'dog', 'number 5']\n",
      "The quick brown fox jumps over a lazy dog number 5\n"
     ]
    }
   ],
   "source": [
    "\n",
    "text = 'The quick brown fox jumps over a lazy dog'\n",
    "\n",
    "#Length of the 'text' variable\n",
    "print('Length of the variable \"text\":', len(text))\n",
    "\n",
    "#Splitting the string\n",
    "new = text.split(' ')\n",
    "\n",
    "#Length of the 'new' variable\n",
    "print('Length of the variable \"new\":', len(new))\n",
    "\n",
    "#Middle element of the 'new' variable\n",
    "mid_obj = len(new)//2\n",
    "print('Middle Element in the new variable: ', new[mid_obj])\n",
    "\n",
    "#Append a string to the 'new' variable\n",
    "new.append('number ' + str(5))\n",
    "print(new)\n",
    "\n",
    "#Joining the the individual strings into one string\n",
    "print(' '.join(new))"
   ]
  },
  {
   "cell_type": "code",
   "execution_count": 15,
   "metadata": {},
   "outputs": [
    {
     "name": "stdout",
     "output_type": "stream",
     "text": [
      "4\n",
      "['The', 'quick', 'brown', 'fox', 'another_word']\n",
      "['The', 'quick', 'brown', 'fox', 'another_word', ['jumps', 'over', 'a', 'lazy', 'dog']]\n",
      "['The', 'quick', 'brown', 'fox', 'another_word', 'jumps', 'over', 'a', 'lazy', 'dog']\n",
      "The quick brown fox another_word jumps over a lazy dog\n",
      "The quick brown fox another_another_word another_word jumps over a lazy dog\n"
     ]
    }
   ],
   "source": [
    "text = 'The quick brown fox jumps over a lazy dog'\n",
    "\n",
    "#Splitting the string\n",
    "new = text.split(' ')\n",
    "\n",
    "if (len(new) % 2 != 0): # for odd number\n",
    "  middle_index = len(new) // 2\n",
    "else: # for even number\n",
    "  middle_index = int(len(new) / 2)\n",
    "\n",
    "# insert the word in the middle of the list\n",
    "print(middle_index)\n",
    "new_list = new[0:middle_index]\n",
    "new_list.append(\"another_word\")\n",
    "print(new_list)\n",
    "## it is not expected result\n",
    "new_list.append(new[middle_index:])\n",
    "print(new_list)\n",
    "\n",
    "# Easier way since string is a list\n",
    "new.insert(middle_index, \"another_word\")\n",
    "print(new)\n",
    "print(' '.join(new))\n",
    "\n",
    "new_list1 = new[0:middle_index]\n",
    "new_list1.append(\"another_another_word\")\n",
    "string0 = ' '.join(new_list1)\n",
    "string1 = ' '.join(new[middle_index:])\n",
    "new_string = string0 + \" \" + string1 \n",
    "print(new_string)\n"
   ]
  }
 ],
 "metadata": {
  "kernelspec": {
   "display_name": ".venv",
   "language": "python",
   "name": "python3"
  },
  "language_info": {
   "codemirror_mode": {
    "name": "ipython",
    "version": 3
   },
   "file_extension": ".py",
   "mimetype": "text/x-python",
   "name": "python",
   "nbconvert_exporter": "python",
   "pygments_lexer": "ipython3",
   "version": "3.11.3"
  }
 },
 "nbformat": 4,
 "nbformat_minor": 2
}
