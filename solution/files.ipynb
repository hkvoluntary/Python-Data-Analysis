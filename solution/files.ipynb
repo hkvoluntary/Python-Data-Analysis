{
 "cells": [
  {
   "cell_type": "code",
   "execution_count": 4,
   "metadata": {},
   "outputs": [
    {
     "name": "stdout",
     "output_type": "stream",
     "text": [
      "Copy done!\n"
     ]
    }
   ],
   "source": [
    "f_name = 'src_file.txt'\n",
    "copy_f_name = 'dest_file.txt'\n",
    "\n",
    "with open(f_name, 'r') as f:\n",
    "   lines = f.read()\n",
    "   with open(copy_f_name, 'w') as copy_f:\n",
    "      copy_f.write(lines)\n",
    "      print(\"Copy done!\")"
   ]
  }
 ],
 "metadata": {
  "kernelspec": {
   "display_name": ".venv",
   "language": "python",
   "name": "python3"
  },
  "language_info": {
   "codemirror_mode": {
    "name": "ipython",
    "version": 3
   },
   "file_extension": ".py",
   "mimetype": "text/x-python",
   "name": "python",
   "nbconvert_exporter": "python",
   "pygments_lexer": "ipython3",
   "version": "3.11.3"
  }
 },
 "nbformat": 4,
 "nbformat_minor": 2
}
