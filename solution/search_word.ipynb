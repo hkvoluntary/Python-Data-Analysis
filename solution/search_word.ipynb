{
 "cells": [
  {
   "cell_type": "markdown",
   "id": "4ad08ec2",
   "metadata": {},
   "source": [
    "Tool for searching through a file"
   ]
  },
  {
   "cell_type": "code",
   "execution_count": null,
   "id": "fefc9f35",
   "metadata": {},
   "outputs": [],
   "source": [
    "from pathlib import Path\n",
    "\n",
    "\n",
    "def search_word_in_file(word, file_path):\n",
    "    file = Path(file_path)\n",
    "    \"\"\"\n",
    "    Return list holding line num and line text (or None).\n",
    "    \"\"\"\n",
    "    results = []\n",
    "\n",
    "    if file.is_file():\n",
    "        with file.open(\"r\", encoding=\"utf-8\", errors=\"ignore\") as f:\n",
    "            for i, line in enumerate(f, start=1):\n",
    "                if word in line:\n",
    "                    results.append((i, line.strip()))\n",
    "    else:\n",
    "        print(f\"{file} does not exist or is not a file.\")\n",
    "\n",
    "    return results\n",
    "\n",
    "\n",
    "word = input('Enter search word: ') # better\n",
    "filename = input('Enter filename: ') # i.e. zen_of_python.txt\n",
    "matches = search_word_in_file(word, filename)\n",
    "\n",
    "if matches:\n",
    "    for line_no, text in matches:\n",
    "        print(f\"Line {line_no}: {text}\")\n",
    "else:\n",
    "    print(\"No matches found.\")\n"
   ]
  }
 ],
 "metadata": {
  "language_info": {
   "name": "python"
  }
 },
 "nbformat": 4,
 "nbformat_minor": 5
}
