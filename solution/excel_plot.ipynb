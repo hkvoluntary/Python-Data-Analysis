{
  "nbformat": 4,
  "nbformat_minor": 0,
  "metadata": {
    "colab": {
      "provenance": []
    },
    "kernelspec": {
      "name": "python3",
      "display_name": "Python 3"
    },
    "language_info": {
      "name": "python"
    }
  },
  "cells": [
    {
      "cell_type": "code",
      "source": [
        "import pandas as pd\n",
        "import matplotlib.pyplot as plt\n",
        "from openpyxl import load_workbook\n",
        "from openpyxl.drawing.image import Image\n",
        "\n",
        "# Load the data from students_scores.xlsx to dataframe\n",
        "df = pd.read_excel('students_scores.xlsx')\n",
        "\n",
        "# Clean the data\n",
        "df.dropna(subset=['Name'], inplace=True)\n",
        "df = df[df['Gender'].isin(['Male', 'Female'])]\n",
        "\n",
        "# Fill missing values for numeric columns with average\n",
        "numeric_cols = df.select_dtypes(include=['float64', 'int64']).columns\n",
        "df[numeric_cols] = df[numeric_cols].fillna(df[numeric_cols].mean())\n",
        "\n",
        "# Analyze the data\n",
        "gender_stats = df.groupby('Gender')[numeric_cols].agg(['max', 'min', 'mean'])\n",
        "\n",
        "# Plot Line Chart - Calculate Average Score to Show trends in Math and English scores by student’s name\n",
        "df.set_index('Name')[['Math', 'English']].plot(kind='line', marker='o', figsize=(10, 6))\n",
        "plt.title('Trends in Math and English Scores by Student')\n",
        "plt.xlabel('Student Name')\n",
        "plt.ylabel('Score')\n",
        "plt.xticks(rotation=45)  # Rotate x-axis labels for better readability\n",
        "plt.grid()\n",
        "plt.tight_layout()  # Adjust layout to make room for labels\n",
        "plt.savefig('average_scores_trend_by_student.png')  # Save the plot as an image\n",
        "plt.close()  # Close the plot to free up memory\n",
        "\n",
        "# Write to a new Excel file with the plot and analysis\n",
        "output_file = 'students_scores_analysis.xlsx'\n",
        "with pd.ExcelWriter(output_file) as writer:\n",
        "    df.to_excel(writer, sheet_name='Cleaned Data', index=False)\n",
        "    gender_stats.to_excel(writer, sheet_name='Gender Statistics')\n",
        "\n",
        "# Load the workbook and add the image\n",
        "wb = load_workbook(output_file)\n",
        "ws = wb['Gender Statistics']\n",
        "img = Image('average_scores_trend_by_student.png')\n",
        "ws.add_image(img, 'D2')  # Specify the cell where the image will be placed\n",
        "wb.save(output_file)\n",
        "\n",
        "print(\"Data analysis and plotting completed successfully!\")\n"
      ],
      "metadata": {
        "colab": {
          "base_uri": "https://localhost:8080/"
        },
        "id": "zQmllxWvtexg",
        "outputId": "03134c55-b821-49de-8c07-9b3c98dd6d06"
      },
      "execution_count": 5,
      "outputs": [
        {
          "output_type": "stream",
          "name": "stdout",
          "text": [
            "Data analysis and plotting completed successfully!\n"
          ]
        }
      ]
    }
  ]
}