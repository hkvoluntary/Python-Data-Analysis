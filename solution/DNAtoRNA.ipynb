{
 "cells": [
  {
   "cell_type": "code",
   "execution_count": 1,
   "metadata": {},
   "outputs": [
    {
     "name": "stdout",
     "output_type": "stream",
     "text": [
      "Done with Translation\n",
      "DNA output:  CGATCGGATGC\n"
     ]
    }
   ],
   "source": [
    "# Take input for DNA string and store in a variable DNA_string\n",
    "DNA_string = input(\"Give the input DNA Code : \")\n",
    "\n",
    "# Intialize the RNA output as an empty string\n",
    "RNA_string = ''\n",
    "\n",
    "# Use \"for\" loop to traverse the DNA string. Use \"If..elif..else\" sub block to check and concactenate the appropriate letter\n",
    "# to RNA_string.\n",
    "# Use \"else\" block in the \"If..elif..else\" sub block to output an error message and break if a diffrent letter is encountered\n",
    "\n",
    "for i in DNA_string.upper():\n",
    "    # the upper() method is used to make our program case insensitive\n",
    "    if i == 'G':\n",
    "        RNA_string = RNA_string + 'C'\n",
    "    # Continue the \"elif\" blocks of the \"If..elif..else\" block for the other letters\n",
    "    elif i == 'C':\n",
    "        RNA_string = RNA_string + 'G'\n",
    "    elif i == 'A':\n",
    "        RNA_string = RNA_string + 'T'\n",
    "    elif i == 'T':\n",
    "        RNA_string = RNA_string + 'A'\n",
    "    # Complete the \"If..elif..else\" block with \"else\" block for an error message assigned to RNA_string\n",
    "    # break out of the loop\n",
    "    else:\n",
    "        RNA_string = 'Incorrect DNA string'\n",
    "        break\n",
    "else:\n",
    "    # This else is attached to the for loop\n",
    "    print('Done with Translation')\n",
    "\n",
    "print('DNA output: ', RNA_string)"
   ]
  }
 ],
 "metadata": {
  "kernelspec": {
   "display_name": ".venv",
   "language": "python",
   "name": "python3"
  },
  "language_info": {
   "codemirror_mode": {
    "name": "ipython",
    "version": 3
   },
   "file_extension": ".py",
   "mimetype": "text/x-python",
   "name": "python",
   "nbconvert_exporter": "python",
   "pygments_lexer": "ipython3",
   "version": "3.11.3"
  }
 },
 "nbformat": 4,
 "nbformat_minor": 2
}
