{
 "cells": [
  {
   "cell_type": "markdown",
   "metadata": {},
   "source": [
    "** Prompt the user to enter their weight in kilograms.\n",
    "** Prompt the user to enter their height in meters.\n",
    "** Use function to calculate BMI using the formula BMI = weight / (height ** 2).\n",
    "** Based on the calculated BMI along with an interpretation.\n",
    "      # \"You are underweight\" if BMI is less than 18.5\n",
    "      # \"You have a normal weight\" if BMI between 18.5 and 24.9\n",
    "      # \"You are overweight\" if BMI between 25 and 29.9\n",
    "      # \"You are obese\"\n"
   ]
  },
  {
   "cell_type": "code",
   "execution_count": 2,
   "metadata": {},
   "outputs": [
    {
     "name": "stdout",
     "output_type": "stream",
     "text": [
      "Your BMI is: 23.61\n",
      "You have a normal weight.\n"
     ]
    }
   ],
   "source": [
    "# BMI Calculator #2\n",
    "\n",
    "# Function to calculate BMI\n",
    "def calculate_bmi(weight, height):\n",
    "    bmi = weight / (height ** 2)\n",
    "    return bmi\n",
    "\n",
    "# User input for weight and height\n",
    "weight = float(input(\"Enter your weight in kilograms: \"))\n",
    "height = float(input(\"Enter your height in meters: \"))\n",
    "\n",
    "# Calculate BMI\n",
    "bmi = calculate_bmi(weight, height)\n",
    "\n",
    "# Display the result\n",
    "print(f\"Your BMI is: {bmi:.2f}\")\n",
    "\n",
    "# Interpretation of BMI\n",
    "if bmi < 18.5:\n",
    "    print(\"You are underweight.\")\n",
    "elif 18.5 <= bmi < 24.9:\n",
    "    print(\"You have a normal weight.\")\n",
    "elif 25 <= bmi < 29.9:\n",
    "    print(\"You are overweight.\")\n",
    "else:\n",
    "    print(\"You are obese.\")"
   ]
  }
 ],
 "metadata": {
  "kernelspec": {
   "display_name": ".venv",
   "language": "python",
   "name": "python3"
  },
  "language_info": {
   "codemirror_mode": {
    "name": "ipython",
    "version": 3
   },
   "file_extension": ".py",
   "mimetype": "text/x-python",
   "name": "python",
   "nbconvert_exporter": "python",
   "pygments_lexer": "ipython3",
   "version": "3.11.3"
  }
 },
 "nbformat": 4,
 "nbformat_minor": 2
}
