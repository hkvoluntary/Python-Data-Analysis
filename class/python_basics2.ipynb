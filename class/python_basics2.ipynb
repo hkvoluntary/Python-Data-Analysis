{
 "cells": [
  {
   "cell_type": "markdown",
   "metadata": {},
   "source": [
    "Strings"
   ]
  },
  {
   "cell_type": "code",
   "execution_count": null,
   "metadata": {},
   "outputs": [],
   "source": [
    "name_1 = 'John Wick'\n",
    "name_2 = \"Indiana Jones\"\n",
    "print(name_1)\n",
    "print(name_2)"
   ]
  },
  {
   "cell_type": "code",
   "execution_count": null,
   "metadata": {},
   "outputs": [],
   "source": [
    "# this is a string and not an integer\n",
    "age = '2'\n",
    "print(age)"
   ]
  },
  {
   "cell_type": "code",
   "execution_count": null,
   "metadata": {},
   "outputs": [],
   "source": [
    "# Start with a double quote if you use a single quote in your string\n",
    "f = \"This is Del's pencil\"\n",
    "print(f)"
   ]
  },
  {
   "cell_type": "code",
   "execution_count": null,
   "metadata": {},
   "outputs": [],
   "source": [
    "# Start with a single quote if you use a double quote in your string\n",
    "f = 'Francis said \"This is my pencil\"'\n",
    "print(f)"
   ]
  },
  {
   "cell_type": "code",
   "execution_count": null,
   "metadata": {},
   "outputs": [],
   "source": [
    "# Two other common special characters are the newline (\\n) and horizontal tab (\\t):\n",
    "print('Equation\\tSolution\\n 55 x 11\\t 605\\n 132 / 6\\t 22')\n"
   ]
  },
  {
   "cell_type": "markdown",
   "metadata": {},
   "source": [
    "Raw Strings"
   ]
  },
  {
   "cell_type": "code",
   "execution_count": null,
   "metadata": {},
   "outputs": [],
   "source": [
    "my_path = 'C:\\news\\today.txt'\n",
    "print(my_path)"
   ]
  },
  {
   "cell_type": "code",
   "execution_count": null,
   "metadata": {},
   "outputs": [],
   "source": [
    "# Using the “r” (for raw data) prefix on the string\n",
    "my_path = r'C:\\news\\today.txt'\n",
    "print(my_path)"
   ]
  },
  {
   "cell_type": "markdown",
   "metadata": {},
   "source": [
    "Triple Quotes"
   ]
  },
  {
   "cell_type": "code",
   "execution_count": null,
   "metadata": {},
   "outputs": [],
   "source": [
    "print(\"\"\"\n",
    "----------------\n",
    "LUMBERJACK SONG\n",
    "I'm a lumberjack\n",
    "And I'm O.K.\n",
    "I sleep all night\n",
    "And I work all day.\n",
    "---------------\"\"\")\n"
   ]
  },
  {
   "cell_type": "markdown",
   "metadata": {},
   "source": [
    "Strings Indexing"
   ]
  },
  {
   "cell_type": "code",
   "execution_count": null,
   "metadata": {},
   "outputs": [],
   "source": [
    "name = 'Johnson Smith'\n",
    "print(name[0])\n",
    "print(name[1])\n",
    "print(name[6])\n",
    "print(name[12])\n"
   ]
  },
  {
   "cell_type": "code",
   "execution_count": null,
   "metadata": {},
   "outputs": [],
   "source": [
    "print(name[-1])\n",
    "print(name[-2])\n",
    "print(name[-13])"
   ]
  },
  {
   "cell_type": "markdown",
   "metadata": {},
   "source": [
    "Strings Slicing"
   ]
  },
  {
   "cell_type": "code",
   "execution_count": null,
   "metadata": {},
   "outputs": [],
   "source": [
    "print(name)\n",
    "print(name[0:6])\n",
    "print(name[7:13])\n",
    "print(name[-12:-9])\n"
   ]
  },
  {
   "cell_type": "code",
   "execution_count": null,
   "metadata": {},
   "outputs": [],
   "source": [
    "name[6] = 'c'\n"
   ]
  },
  {
   "cell_type": "code",
   "execution_count": null,
   "metadata": {},
   "outputs": [],
   "source": [
    "name ='Nat'\n",
    "print(id(name))\n",
    "\n",
    "name += 'haniel'\n",
    "print(id(name))\n"
   ]
  },
  {
   "cell_type": "markdown",
   "metadata": {},
   "source": [
    "Strings Concatenation and Repetition"
   ]
  },
  {
   "cell_type": "code",
   "execution_count": null,
   "metadata": {},
   "outputs": [],
   "source": [
    "user_name = input(\"What is your name? \")\n",
    "greeting =\"Hello,\" + user_name + \"!\"\n",
    "print(greeting)"
   ]
  },
  {
   "cell_type": "code",
   "execution_count": null,
   "metadata": {},
   "outputs": [],
   "source": [
    "one_knight_says =\"nee\"\n",
    "many_knights_say = one_knight_says * 20\n",
    "print(many_knights_say)"
   ]
  },
  {
   "cell_type": "code",
   "execution_count": null,
   "metadata": {},
   "outputs": [],
   "source": [
    "'a' + 'b' * 3 + 'c'"
   ]
  },
  {
   "cell_type": "code",
   "execution_count": null,
   "metadata": {},
   "outputs": [],
   "source": [
    "('a' + 'b') * 3 + 'c'"
   ]
  },
  {
   "cell_type": "markdown",
   "metadata": {},
   "source": [
    "Some String Functions and Methods"
   ]
  },
  {
   "cell_type": "code",
   "execution_count": null,
   "metadata": {},
   "outputs": [],
   "source": [
    "name = 'Johnson Smith'\n",
    "len(name)"
   ]
  },
  {
   "cell_type": "code",
   "execution_count": null,
   "metadata": {},
   "outputs": [],
   "source": [
    "age = 3\n",
    "str(age)"
   ]
  },
  {
   "cell_type": "code",
   "execution_count": null,
   "metadata": {},
   "outputs": [],
   "source": [
    "print(name.lower())\n",
    "print(name.upper())\n"
   ]
  },
  {
   "cell_type": "code",
   "execution_count": null,
   "metadata": {},
   "outputs": [],
   "source": [
    "print('Hello World!'.isalnum())\n",
    "print('Hello World!'.isalpha())\n",
    "print('hello'.islower())\n",
    "print('HELLO'.isupper())"
   ]
  },
  {
   "cell_type": "code",
   "execution_count": null,
   "metadata": {},
   "outputs": [],
   "source": [
    "name = 'Francis'\n",
    "print(name.isdigit())\n",
    "print(str(age).isdigit())"
   ]
  },
  {
   "cell_type": "markdown",
   "metadata": {},
   "source": [
    "String Methods that Return a Number"
   ]
  },
  {
   "cell_type": "code",
   "execution_count": null,
   "metadata": {},
   "outputs": [],
   "source": [
    "print('Hello World!'.find('l'))\n",
    "print('Hello World!'.rfind('l'))\n",
    "print('Hello World!'.index('l'))\n",
    "print('Hello World!'.rindex('l'))\n",
    "print('Hello World!'.rindex('p'))\n",
    "\n"
   ]
  },
  {
   "cell_type": "code",
   "execution_count": null,
   "metadata": {},
   "outputs": [],
   "source": [
    "name = \"John smith\"\n",
    "name = name.replace('s','k')\n",
    "print(name)\n",
    "print('mommy'.replace('m','b', 2))\n"
   ]
  },
  {
   "cell_type": "code",
   "execution_count": null,
   "metadata": {},
   "outputs": [],
   "source": [
    "text = 'I am going to the University of Cincinnati'\n",
    "name = \"Mary-Jane Watson\"\n",
    "print(text.split(' '))\n",
    "print(name.split('-'))\n"
   ]
  },
  {
   "cell_type": "markdown",
   "metadata": {},
   "source": [
    "String Formatting"
   ]
  },
  {
   "cell_type": "code",
   "execution_count": null,
   "metadata": {},
   "outputs": [],
   "source": [
    "name = \"Alice\"\n",
    "age = 30\n",
    "fstring = f\"My name is {name} and I am {age} years old.\"\n",
    "print(fstring)\n",
    "fstring = \"My name is {} and I am {} years old.\".format(name, age)\n",
    "print(fstring)\n",
    "fstring = \"My name is %s and I am %d years old.\" % (name, age)\n",
    "print(fstring)"
   ]
  },
  {
   "cell_type": "markdown",
   "metadata": {},
   "source": [
    "String formatting for integers and floats\n"
   ]
  },
  {
   "cell_type": "code",
   "execution_count": null,
   "metadata": {},
   "outputs": [],
   "source": [
    "integer_value = 42\n",
    "float_value = 3.14159\n",
    "\n",
    "# 'd' for decimal integer\n",
    "formatted_integer = f\"Integer: {integer_value:d}\"\n",
    "# '.2f' for two decimal places \n",
    "formatted_float = f\"Float: {float_value:.2f}\"\n",
    "\n",
    "print(formatted_integer)\n",
    "print(formatted_float)\n"
   ]
  },
  {
   "cell_type": "code",
   "execution_count": null,
   "metadata": {},
   "outputs": [],
   "source": [
    "# Integer formatting\n",
    "formatted_integer = \"Integer: {}\".format(integer_value)\n",
    "# Float formatting - # Two decimal places\n",
    "formatted_float = \"Float: {:.2f}\".format(float_value)\n",
    "print(formatted_integer)\n",
    "print(formatted_float)"
   ]
  },
  {
   "cell_type": "code",
   "execution_count": null,
   "metadata": {},
   "outputs": [],
   "source": [
    "# Integer formatting\n",
    "formatted_integer = \"Integer: %d\" % integer_value\n",
    "# Float formatting - # Two decimal places\n",
    "formatted_float = \"Float: %.2f\" % float_value  \n",
    "print(formatted_integer)\n",
    "print(formatted_float)\n"
   ]
  },
  {
   "cell_type": "markdown",
   "metadata": {},
   "source": [
    "Python Dates and Times"
   ]
  },
  {
   "cell_type": "code",
   "execution_count": null,
   "metadata": {},
   "outputs": [],
   "source": [
    "import time\n",
    "\n",
    "seconds_since_epoch = time.time()\n",
    "minutes_since_epoch = seconds_since_epoch / 60\n",
    "hours_since_epoch = minutes_since_epoch / 60\n",
    "days_since_epoch = hours_since_epoch / 24\n",
    "years_since_epoch = days_since_epoch / 365.25\n",
    "\n",
    "print(\"\"\"s: {:,}\n",
    "m: {:,}\n",
    "h: {:,}\n",
    "d: {:,}\n",
    "y: {:,}\"\"\".format(seconds_since_epoch,\n",
    "                  minutes_since_epoch,\n",
    "                  hours_since_epoch,\n",
    "                  days_since_epoch,\n",
    "                  years_since_epoch, sep='\\n'))"
   ]
  },
  {
   "cell_type": "code",
   "execution_count": null,
   "metadata": {},
   "outputs": [],
   "source": [
    "epoch = time.gmtime(0)\n",
    "print(epoch)\n",
    "now = time.gmtime()\n",
    "print(now)"
   ]
  },
  {
   "cell_type": "code",
   "execution_count": null,
   "metadata": {},
   "outputs": [],
   "source": [
    "# current time\n",
    "print(time.strftime('%c', now)) \n",
    "print(time.strftime('%x', now)) \n",
    "print(time.strftime('%X', now))\n",
    "print(time.strftime('%A, %B %d, %Y, %I:%M %p', now))\n",
    "new_year = time.strptime('01/01/2023', '%m/%d/%Y')\n",
    "print(new_year)"
   ]
  },
  {
   "cell_type": "code",
   "execution_count": null,
   "metadata": {},
   "outputs": [],
   "source": [
    "print(time.strftime('%c', time.gmtime()))\n",
    "time.sleep(5)\n",
    "print(time.strftime('%c', time.gmtime()))\n",
    "\n"
   ]
  },
  {
   "cell_type": "markdown",
   "metadata": {},
   "source": [
    "The datetime Module\n"
   ]
  },
  {
   "cell_type": "code",
   "execution_count": null,
   "metadata": {},
   "outputs": [],
   "source": [
    "import datetime\n",
    "\n",
    "print(datetime.date(1776, 7, 4))\n",
    "print(datetime.date.today())"
   ]
  },
  {
   "cell_type": "code",
   "execution_count": null,
   "metadata": {},
   "outputs": [],
   "source": [
    "# datetime.date instance includes the following attributes:\n",
    "i_day = datetime.date(1776, 7, 4)\n",
    "print(i_day.year, i_day.month, i_day.day)"
   ]
  },
  {
   "cell_type": "code",
   "execution_count": null,
   "metadata": {},
   "outputs": [],
   "source": [
    "# datetime.date instance includes the following methods:\n",
    "i_day = datetime.date(1776, 7, 4)\n",
    "# replace() - Returns a new datetime.date instance based on date with the given replacements.\n",
    "print(i_day.replace(year=1826))\n",
    "# weekday() – Returns an integer representing the day of the week.\n",
    "print(i_day.weekday())\n",
    "# ctime() – Returns a formatted date string. Similar to time.ctime().\n",
    "print(i_day.ctime())\n",
    "# strftime() – Returns a formatted date string. \n",
    "print(i_day.strftime('%A, %B %d, %Y, %I:%M %p'))\n"
   ]
  },
  {
   "cell_type": "code",
   "execution_count": null,
   "metadata": {},
   "outputs": [],
   "source": [
    "# datetime.time instance includes the following attributes\n",
    "t = datetime.time(hour=14, minute=13, second=12, microsecond=11, tzinfo=datetime.timezone.utc)\n",
    "print(t.hour, t.minute, t.second, t.microsecond, t.tzinfo)"
   ]
  },
  {
   "cell_type": "code",
   "execution_count": null,
   "metadata": {},
   "outputs": [],
   "source": [
    "# datetime.time instance includes the following methods\n",
    "t = datetime.time(hour=14, minute=13, second=12, microsecond=11, tzinfo=datetime.timezone.utc)\n",
    "print(t.replace(hour=4))\n",
    "print(t.strftime('%I:%M %p'))\n"
   ]
  },
  {
   "cell_type": "code",
   "execution_count": null,
   "metadata": {},
   "outputs": [],
   "source": [
    "# datetime.datetime object\n",
    "today = datetime.datetime.today()\n",
    "print(today)\n",
    "\n",
    "print(today.date())\n",
    "print(today.time())\n",
    "#  Returns a struct_time representing the local time.\n",
    "print(today.timetuple())\n",
    "# Returns a timestamp corresponding to the datetime.\n",
    "print(today.timestamp())\n",
    "print(today.weekday())\n",
    "\n"
   ]
  },
  {
   "cell_type": "code",
   "execution_count": null,
   "metadata": {},
   "outputs": [],
   "source": [
    "# datetime.timedelta object\n",
    "today = datetime.datetime.today()\n",
    "print(today)\n",
    "\n",
    "starttime = today.replace(hour=8, minute=30, second=0, microsecond=0)\n",
    "endtime = today.replace(hour=8, minute=48, second=23, microsecond=0)\n",
    "print(starttime, endtime)\n",
    "\n",
    "racetime = endtime - starttime\n",
    "print(racetime)\n",
    "print(type(racetime))\n",
    "print(racetime.days, racetime.seconds, racetime.microseconds)\n",
    "\n",
    "print(racetime.total_seconds())"
   ]
  },
  {
   "cell_type": "markdown",
   "metadata": {},
   "source": [
    "Control Flow\n"
   ]
  },
  {
   "cell_type": "markdown",
   "metadata": {},
   "source": [
    "Comparison Operators\n"
   ]
  },
  {
   "cell_type": "code",
   "execution_count": null,
   "metadata": {},
   "outputs": [],
   "source": [
    "a = 5\n",
    "b = 6\n",
    "name = 'Smith'\n",
    "print(a == 5)\n",
    "print(a == b)\n",
    "print(a != b)\n",
    "print(name != 'Smith')\n",
    "print(a < b)\n",
    "print(b > 7)\n",
    "print(a <= 5)\n",
    "print(b >= 7)\n"
   ]
  },
  {
   "cell_type": "markdown",
   "metadata": {},
   "source": [
    "Logical Operators\n"
   ]
  },
  {
   "cell_type": "code",
   "execution_count": null,
   "metadata": {},
   "outputs": [],
   "source": [
    "a = 5\n",
    "b = 6\n",
    "print(a <= 5 and a < b)\n",
    "print(a <= 5 and b >= 7)\n",
    "\n",
    "print(a <= 5 or a < b)\n",
    "print(a <= 5 or b >= 7)\n",
    "\n",
    "not(a <= 5)\n"
   ]
  },
  {
   "cell_type": "markdown",
   "metadata": {},
   "source": [
    "Decision Blocks\n"
   ]
  },
  {
   "cell_type": "code",
   "execution_count": null,
   "metadata": {},
   "outputs": [],
   "source": [
    "a = 5\n",
    "if a <= 5:\n",
    "    print('\\'a\\' is less than or equal to 5')\n",
    "    print('This statement is also executed under the if block')\n"
   ]
  },
  {
   "cell_type": "code",
   "execution_count": null,
   "metadata": {},
   "outputs": [],
   "source": [
    "if a <= 4:\n",
    "    print('\\'a\\' is less than or equal to 5')\n",
    "    print('This statement is also executed under the if block')\n",
    "print('DONE')\n"
   ]
  },
  {
   "cell_type": "code",
   "execution_count": null,
   "metadata": {},
   "outputs": [],
   "source": [
    "a = 6\n",
    "if a <= 5:\n",
    "    print('\\'a\\' is less than or equal to 5')\n",
    "    print('This statement is also executed under the if block')\n",
    "else:\n",
    "    print('\\'a\\' must be greater than 5')\n",
    "    print('This statement is also executed under the else block')\n",
    "print('DONE')\n"
   ]
  },
  {
   "cell_type": "code",
   "execution_count": null,
   "metadata": {},
   "outputs": [],
   "source": [
    "b = input('Type a number for \\'b\\': ')  # '\\' is an escape character\n",
    "a = float(b)\n",
    "if a <= 5:\n",
    "    print('\\'a\\' is less than or equal to 5')\n",
    "elif a > 5 and a <= 8:\n",
    "    print('\\'a\\' is greater than 5 and less than or equal to 8')\n",
    "elif a > 8 and a <= 10:\n",
    "    print('\\'a\\' is greater than 8 and less than or equal to 10')\n",
    "else:\n",
    "    print('\\'a\\' must be greater than 10')\n",
    "print('DONE')\n"
   ]
  },
  {
   "cell_type": "code",
   "execution_count": null,
   "metadata": {},
   "outputs": [],
   "source": [
    "age = 15\n",
    "if 12 < age < 20:\n",
    "   print(\"You are a teenager.\")\n",
    "if 13 <= age <= 19:\n",
    "   print(\"You are a teenager.\")"
   ]
  },
  {
   "cell_type": "markdown",
   "metadata": {},
   "source": [
    "Functions\n"
   ]
  },
  {
   "cell_type": "code",
   "execution_count": null,
   "metadata": {},
   "outputs": [],
   "source": [
    "def printme(var):\n",
    "    #This returns the variable passed into the function\n",
    "    return var\n"
   ]
  },
  {
   "cell_type": "code",
   "execution_count": null,
   "metadata": {},
   "outputs": [],
   "source": [
    "# 1st Function call\n",
    "printme('First call to user defined function')\n"
   ]
  },
  {
   "cell_type": "code",
   "execution_count": null,
   "metadata": {},
   "outputs": [],
   "source": [
    "# 2nd Function call\n",
    "printme(10)\n"
   ]
  },
  {
   "cell_type": "code",
   "execution_count": null,
   "metadata": {},
   "outputs": [],
   "source": [
    "# Function without return\n",
    "def greet(name):\n",
    "    print(\"Hello,\", name)\n",
    "greet(\"Alice\")  # Output: Hello, Alice"
   ]
  },
  {
   "cell_type": "code",
   "execution_count": null,
   "metadata": {},
   "outputs": [],
   "source": [
    "# Function with return\n",
    "def add(a, b):\n",
    "    return a + b\n",
    "result = add(5, 3)\n",
    "print(result)  # Output: 8\n"
   ]
  },
  {
   "cell_type": "markdown",
   "metadata": {},
   "source": [
    "Loops\n"
   ]
  },
  {
   "cell_type": "markdown",
   "metadata": {},
   "source": [
    "while loop\n"
   ]
  },
  {
   "cell_type": "code",
   "execution_count": null,
   "metadata": {},
   "outputs": [],
   "source": [
    "count = 0\n",
    "while count < 10:\n",
    "  print(count)\n",
    "  #count += 1, short-hand notation to increment a variable\n",
    "  count = count + 1 \n",
    "\n"
   ]
  },
  {
   "cell_type": "code",
   "execution_count": null,
   "metadata": {},
   "outputs": [],
   "source": [
    "# CAUTION - Infinite loop\n",
    "count = 0\n",
    "while count >= 0:\n",
    "  print(count)\n",
    "  count += 1\n"
   ]
  },
  {
   "cell_type": "code",
   "execution_count": null,
   "metadata": {},
   "outputs": [],
   "source": [
    "count = 0\n",
    "while count >= 0:\n",
    "    print(count)\n",
    "    count +=1 # count = count + 1\n",
    "    if count >= 10:\n",
    "        break\n"
   ]
  },
  {
   "cell_type": "markdown",
   "metadata": {},
   "source": [
    "for loop\n"
   ]
  },
  {
   "cell_type": "code",
   "execution_count": null,
   "metadata": {},
   "outputs": [],
   "source": [
    "for var in 'string':\n",
    "    print(var)\n"
   ]
  },
  {
   "cell_type": "code",
   "execution_count": null,
   "metadata": {},
   "outputs": [],
   "source": [
    "k = 'string'\n",
    "for var in k:\n",
    "    print(var.upper())"
   ]
  },
  {
   "cell_type": "code",
   "execution_count": null,
   "metadata": {},
   "outputs": [],
   "source": [
    "list1 = ['banana','orange','mango']\n",
    "for fruit in list1:\n",
    "    print(fruit)\n"
   ]
  },
  {
   "cell_type": "code",
   "execution_count": null,
   "metadata": {},
   "outputs": [],
   "source": [
    "for num in (2,4,1,34,5):\n",
    "    print(num)\n"
   ]
  },
  {
   "cell_type": "code",
   "execution_count": null,
   "metadata": {},
   "outputs": [],
   "source": [
    "for num in range(10):\n",
    "    print(num)\n"
   ]
  },
  {
   "cell_type": "code",
   "execution_count": null,
   "metadata": {},
   "outputs": [],
   "source": [
    "for num in range(-6,6):\n",
    "    print(num)\n"
   ]
  },
  {
   "cell_type": "code",
   "execution_count": null,
   "metadata": {},
   "outputs": [],
   "source": [
    "for num in range(0,20,4):\n",
    "    print(num)\n"
   ]
  },
  {
   "cell_type": "code",
   "execution_count": null,
   "metadata": {},
   "outputs": [],
   "source": [
    "names = ['Kelly', 'Jessa', 'Emma']\n",
    "# outer loop\n",
    "for name in names:\n",
    "    # inner while loop\n",
    "    count = 0\n",
    "    while count < 5:\n",
    "        print(name, end=' ')\n",
    "        # increment counter\n",
    "        count = count + 1\n",
    "    print()\n"
   ]
  },
  {
   "cell_type": "markdown",
   "metadata": {},
   "source": [
    "break and continue"
   ]
  },
  {
   "cell_type": "code",
   "execution_count": null,
   "metadata": {},
   "outputs": [],
   "source": [
    "for num in range(11, 20):\n",
    "   print(num)\n",
    "   if num % 5 == 0: \n",
    "      break"
   ]
  },
  {
   "cell_type": "code",
   "execution_count": null,
   "metadata": {},
   "outputs": [],
   "source": [
    "for num in range(1, 12):\n",
    "   if num % 5 == 0: \n",
    "      continue\n",
    "   print(num)"
   ]
  },
  {
   "cell_type": "markdown",
   "metadata": {},
   "source": [
    "Handling exceptions"
   ]
  },
  {
   "cell_type": "code",
   "execution_count": null,
   "metadata": {},
   "outputs": [],
   "source": [
    "def process_data(data):\n",
    "    try:\n",
    "        # Process the data\n",
    "        result = data['value'] / data['divisor']\n",
    "    except KeyError as e:\n",
    "        print(f\"KeyError: {e} not found in data.\")\n",
    "    except ZeroDivisionError:\n",
    "        print(\"Error: Division by zero.\")\n",
    "    finally:\n",
    "        print(\"Data processing complete.\")\n",
    "\n",
    "# Test the function\n",
    "process_data({'value': 10, 'divisor': 2})\n",
    "process_data({'value': 10, 'divisor': 0})\n",
    "process_data({'value': 10})  # Missing 'divisor'\n"
   ]
  },
  {
   "cell_type": "code",
   "execution_count": null,
   "metadata": {},
   "outputs": [],
   "source": [
    "# File Exception Handling in Python\n",
    "\n",
    "try:\n",
    "    # Try to open a file that may not exist\n",
    "    file = open(\"example.txt\", \"r\")\n",
    "    content = file.read()\n",
    "    print(content)\n",
    "except FileNotFoundError:\n",
    "    print(\"Error: The file does not exist!\")\n",
    "except IOError:\n",
    "    print(\"Error: An I/O error occurred while accessing the file.\")\n",
    "else:\n",
    "    print(\"File read successfully.\")\n",
    "finally:\n",
    "    # Close the file if it was opened\n",
    "    try:\n",
    "        file.close()\n",
    "        print(\"File closed.\")\n",
    "    except NameError:\n",
    "        # file variable does not exist if open() failed\n",
    "        pass"
   ]
  },
  {
   "cell_type": "code",
   "execution_count": null,
   "metadata": {},
   "outputs": [],
   "source": [
    "# Raising a custom exception\n",
    "def check_age(age):\n",
    "    if age < 18:\n",
    "        raise ValueError(\"Age must be at least 18\")\n",
    "    print(\"Access granted!\")\n",
    "\n",
    "try:\n",
    "    check_age(16)\n",
    "except ValueError as ve:\n",
    "    print(\"Error:\", ve)\n",
    "finally:\n",
    "    print(\"Finished Raising a custom exception\")"
   ]
  }
 ],
 "metadata": {
  "kernelspec": {
   "display_name": ".venv",
   "language": "python",
   "name": "python3"
  },
  "language_info": {
   "codemirror_mode": {
    "name": "ipython",
    "version": 3
   },
   "file_extension": ".py",
   "mimetype": "text/x-python",
   "name": "python",
   "nbconvert_exporter": "python",
   "pygments_lexer": "ipython3",
   "version": "3.11.3"
  }
 },
 "nbformat": 4,
 "nbformat_minor": 2
}
