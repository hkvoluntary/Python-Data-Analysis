{
 "cells": [
  {
   "cell_type": "markdown",
   "metadata": {},
   "source": [
    "Variables"
   ]
  },
  {
   "cell_type": "code",
   "execution_count": null,
   "metadata": {},
   "outputs": [],
   "source": [
    "name = \"Bob\"\n",
    "winner = True\n",
    "score = 35"
   ]
  },
  {
   "cell_type": "markdown",
   "metadata": {},
   "source": [
    "Variable names"
   ]
  },
  {
   "cell_type": "code",
   "execution_count": null,
   "metadata": {},
   "outputs": [],
   "source": [
    "my_name = 'John Smith'\n",
    "v_1 = 8\n",
    "v_2 = 9 "
   ]
  },
  {
   "cell_type": "code",
   "execution_count": null,
   "metadata": {},
   "outputs": [],
   "source": [
    "print(my_name)\n",
    "age = v_1 + v_2\n",
    "print ('I am', age, 'years old')"
   ]
  },
  {
   "cell_type": "markdown",
   "metadata": {},
   "source": [
    "Data types"
   ]
  },
  {
   "cell_type": "code",
   "execution_count": null,
   "metadata": {},
   "outputs": [],
   "source": [
    "ival = 10\n",
    "print(type(ival)) # output data type <class 'int'>\n",
    "fval = 20.2\n",
    "print(type(fval)) # output data type <class 'float'>  \n",
    "x = True\n",
    "print(type(x)) # output data type <class 'bool'>\n",
    "print(type(\"Hello World\"))"
   ]
  },
  {
   "cell_type": "markdown",
   "metadata": {},
   "source": [
    "Comments"
   ]
  },
  {
   "cell_type": "code",
   "execution_count": null,
   "metadata": {},
   "outputs": [],
   "source": [
    "# This line is ignored"
   ]
  },
  {
   "cell_type": "code",
   "execution_count": null,
   "metadata": {},
   "outputs": [],
   "source": [
    "# This is a multiline comment\n",
    "# This line and the line above are both ignored by the interpreter"
   ]
  },
  {
   "cell_type": "code",
   "execution_count": null,
   "metadata": {},
   "outputs": [],
   "source": [
    "\"\"\"\n",
    "This is a multiline comment\n",
    "This line and the line above are both ignored by the interpreter\n",
    "\"\"\""
   ]
  },
  {
   "cell_type": "markdown",
   "metadata": {},
   "source": [
    "User Input"
   ]
  },
  {
   "cell_type": "code",
   "execution_count": null,
   "metadata": {},
   "outputs": [],
   "source": [
    "var = input('Enter a value: ')\n",
    "\n",
    "# Print the value and the data type BEFORE conversion\n",
    "print(var, type(var))"
   ]
  },
  {
   "cell_type": "code",
   "execution_count": null,
   "metadata": {},
   "outputs": [],
   "source": [
    "# Use the respective functions to convert \n",
    "# the string value to that data type\n",
    "var1 = float(var)\n",
    "\n",
    "# Print the value and the data type AFTER conversion\n",
    "print(var1, type(var1))\n"
   ]
  },
  {
   "cell_type": "code",
   "execution_count": null,
   "metadata": {},
   "outputs": [],
   "source": [
    "var2 = float(input('Enter a value: '))\n",
    "print(var2)\n"
   ]
  },
  {
   "cell_type": "markdown",
   "metadata": {},
   "source": [
    "Reading from a file"
   ]
  },
  {
   "cell_type": "code",
   "execution_count": null,
   "metadata": {},
   "outputs": [],
   "source": [
    "# Open my-file.txt and assign result to f.\n",
    "f = open(\"my-file.txt\")\n",
    "# Read contents of file into content variable.\n",
    "content = f.read()\n",
    "print(content) # Print content.\n",
    "f.close() # Close the file. \n"
   ]
  },
  {
   "cell_type": "markdown",
   "metadata": {},
   "source": [
    "with Blocks"
   ]
  },
  {
   "cell_type": "code",
   "execution_count": null,
   "metadata": {},
   "outputs": [],
   "source": [
    "with open(\"my-file.txt\") as f:\n",
    "   content = f.read()\n",
    "   print(content)\n"
   ]
  },
  {
   "cell_type": "markdown",
   "metadata": {},
   "source": [
    "Writing to a file"
   ]
  },
  {
   "cell_type": "code",
   "execution_count": null,
   "metadata": {},
   "outputs": [],
   "source": [
    "with open(\"my-file2.txt\", \"w\") as ff:\n",
    "   ff.write(\"Hello, world!!!!!\")\n"
   ]
  },
  {
   "cell_type": "markdown",
   "metadata": {},
   "source": [
    "Math Operators "
   ]
  },
  {
   "cell_type": "code",
   "execution_count": null,
   "metadata": {},
   "outputs": [],
   "source": [
    "x = 57 \t\n",
    "print(\"x = \", x)\n",
    "x = x + 3 \t\n",
    "print(\"x + 3 = \", x)\n",
    "x = x - 3 \t\n",
    "print(\"x - 3 = \", x)\n",
    "x = x * 3 \t\n",
    "print(\"x * 3 = \", x)\n",
    "x = x / 3 \t\n",
    "print(\"x / 3 = \" , x)\n",
    "x = 29\n",
    "print(\"x = \", x)\n",
    "x = x % 3 \t\n",
    "print(\"x % 3 = \" , x)\n",
    "x = 29\n",
    "print(\"x = \", x)\n",
    "x = x // 3 \t\n",
    "print(\"x // 3 = \" , x)\n",
    "x = x ** 3\n",
    "print(\"x ** 3 = \" , x)\n"
   ]
  },
  {
   "cell_type": "markdown",
   "metadata": {},
   "source": [
    "Assignment Operators"
   ]
  },
  {
   "cell_type": "code",
   "execution_count": null,
   "metadata": {},
   "outputs": [],
   "source": [
    "# One-step Addition and Assignment\n",
    "a = 5\n",
    "a += 2\n",
    "print(a)\n",
    "# One-step Subtraction and Assignment \n",
    "a = 5\n",
    "a -= 2\n",
    "print(a)\n",
    "# One-step Multiplication and Assignment\n",
    "a = 5\n",
    "a *= 2\n",
    "print(a)\n",
    "# One-step Division and Assignment\n",
    "a = 5\n",
    "a /= 2\n",
    "print(a)"
   ]
  },
  {
   "cell_type": "markdown",
   "metadata": {},
   "source": [
    "Built-in Math Functions"
   ]
  },
  {
   "cell_type": "code",
   "execution_count": null,
   "metadata": {},
   "outputs": [],
   "source": [
    "print(int(5))\n",
    "print(int('5'))\n",
    "print(int(5.4))\n",
    "print(int(5.9))\n",
    "print(int(-5.9))\n",
    "print(int(\"5.3\"))"
   ]
  },
  {
   "cell_type": "code",
   "execution_count": null,
   "metadata": {},
   "outputs": [],
   "source": [
    "print(float(5))\n",
    "print(float('5'))\n",
    "print(float(5.4))\n",
    "print(float('-5.99'))\n"
   ]
  },
  {
   "cell_type": "code",
   "execution_count": null,
   "metadata": {},
   "outputs": [],
   "source": [
    "print(abs(-5))\n",
    "print(abs(-5.5))"
   ]
  },
  {
   "cell_type": "code",
   "execution_count": null,
   "metadata": {},
   "outputs": [],
   "source": [
    "print(min(2, 1, 3))\n",
    "print(min(3.14,-1.5,-300))\n",
    "print(max(2, 1, 3))\n",
    "print(max(3.14,-1.5,-300))"
   ]
  },
  {
   "cell_type": "code",
   "execution_count": null,
   "metadata": {},
   "outputs": [],
   "source": [
    "print(min('apple','all','arrow'))\n",
    "print(max('0','a','b','3'))"
   ]
  },
  {
   "cell_type": "code",
   "execution_count": null,
   "metadata": {},
   "outputs": [],
   "source": [
    "print(round(55,-1))\n",
    "print(round(3.14))\n",
    "print(round(-3.14))\n",
    "print(round(3.14, 1))\n",
    "print(round(3.95, 1))\n",
    "print(round(1111, 0))\n"
   ]
  },
  {
   "cell_type": "code",
   "execution_count": null,
   "metadata": {},
   "outputs": [],
   "source": [
    "l = [1,2,3,4,5]\n",
    "print(sum(l))"
   ]
  },
  {
   "cell_type": "markdown",
   "metadata": {},
   "source": [
    "The math Module"
   ]
  },
  {
   "cell_type": "code",
   "execution_count": null,
   "metadata": {},
   "outputs": [],
   "source": [
    "import math\n",
    "\n",
    "print(math.ceil(5.4))\n",
    "print(math.ceil(-5.4))\n",
    "print(math.floor(5.6))\n",
    "print(math.floor(-5.6))"
   ]
  },
  {
   "cell_type": "code",
   "execution_count": null,
   "metadata": {},
   "outputs": [],
   "source": [
    "print(math.trunc(5.4))\n",
    "print(math.trunc(-5.4))\n",
    "print(math.trunc(5.6))\n",
    "print(math.trunc(-5.6))"
   ]
  },
  {
   "cell_type": "code",
   "execution_count": null,
   "metadata": {},
   "outputs": [],
   "source": [
    "print(math.pow(5, 2))\n",
    "print(math.sqrt(25))"
   ]
  },
  {
   "cell_type": "markdown",
   "metadata": {},
   "source": [
    "The random Module"
   ]
  },
  {
   "cell_type": "code",
   "execution_count": null,
   "metadata": {},
   "outputs": [],
   "source": [
    "import random\n",
    "\n",
    "a = random.random()\n",
    "print(a)\n",
    "## integer between 1 and 10\n",
    "a = random.randint(1, 10) \n",
    "print(a)\n",
    "# integer between 0 and 9\n",
    "a = random.randrange(10)\n",
    "print(a)\n",
    "# integer between 1 and 9\n",
    "a = random.randrange(1, 10)\n",
    "print(a)\n",
    "# one of 1, 3, 5, 7, 9\n",
    "a = random.randrange(1, 10, 2)\n",
    "print(a)\n"
   ]
  },
  {
   "cell_type": "markdown",
   "metadata": {},
   "source": [
    "Seeding"
   ]
  },
  {
   "cell_type": "code",
   "execution_count": null,
   "metadata": {},
   "outputs": [],
   "source": [
    "random.seed(1)\n",
    "print(random.randint(1, 100))\n",
    "print(random.randint(1, 100))\n",
    "print(random.randint(1, 100))\n",
    "# reseed\n",
    "random.seed(1)\n",
    "print(random.randint(1, 100))\n",
    "print(random.randint(1, 100))\n",
    "print(random.randint(1, 100))\n"
   ]
  }
 ],
 "metadata": {
  "kernelspec": {
   "display_name": ".venv",
   "language": "python",
   "name": "python3"
  },
  "language_info": {
   "codemirror_mode": {
    "name": "ipython",
    "version": 3
   },
   "file_extension": ".py",
   "mimetype": "text/x-python",
   "name": "python",
   "nbconvert_exporter": "python",
   "pygments_lexer": "ipython3",
   "version": "3.11.3"
  }
 },
 "nbformat": 4,
 "nbformat_minor": 2
}
