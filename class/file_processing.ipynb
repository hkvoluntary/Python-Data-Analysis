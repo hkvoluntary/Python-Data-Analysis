{
 "cells": [
  {
   "cell_type": "code",
   "execution_count": null,
   "id": "5bfe0a85",
   "metadata": {},
   "outputs": [],
   "source": []
  },
  {
   "cell_type": "markdown",
   "id": "7d3e988f",
   "metadata": {},
   "source": [
    "Reading from a file"
   ]
  },
  {
   "cell_type": "code",
   "execution_count": null,
   "id": "86c34f90",
   "metadata": {},
   "outputs": [],
   "source": [
    "# Open my-file.txt and assign result to f.\n",
    "f = open(\"my-file.txt\")\n",
    "# Read contents of file into content variable.\n",
    "content = f.read()\n",
    "print(content) # Print content.\n",
    "f.close() # Close the file. "
   ]
  },
  {
   "cell_type": "markdown",
   "id": "09ec14b4",
   "metadata": {},
   "source": [
    "with Blocks"
   ]
  },
  {
   "cell_type": "code",
   "execution_count": null,
   "id": "8830603f",
   "metadata": {},
   "outputs": [],
   "source": [
    "with open(\"my-file.txt\") as f:\n",
    "   content = f.read()\n",
    "   print(content)"
   ]
  },
  {
   "cell_type": "markdown",
   "id": "84642419",
   "metadata": {},
   "source": [
    "Writing to a file"
   ]
  },
  {
   "cell_type": "code",
   "execution_count": null,
   "id": "66091011",
   "metadata": {},
   "outputs": [],
   "source": [
    "with open(\"my-file2.txt\", \"w\") as ff:\n",
    "   ff.write(\"Hello, world!!!!!\")"
   ]
  },
  {
   "cell_type": "markdown",
   "id": "e2f858f5",
   "metadata": {},
   "source": [
    "File Processing "
   ]
  },
  {
   "cell_type": "code",
   "execution_count": null,
   "id": "23154587",
   "metadata": {},
   "outputs": [],
   "source": [
    "from pathlib import Path\n",
    "current_dir = Path('.')\n",
    "print(current_dir)\n",
    "print(current_dir.resolve())\n",
    "\n",
    "print(current_dir.is_dir())\n",
    "print(current_dir.is_file())"
   ]
  },
  {
   "cell_type": "code",
   "execution_count": null,
   "id": "fcacb7f6",
   "metadata": {},
   "outputs": [],
   "source": [
    "# Combine the two Path objects using the / operator\n",
    "new_dir = Path(\"Window\")\n",
    "combined_path = current_dir / new_dir\n",
    "if not combined_path.exists():\n",
    "    # Create the directory (and any necessary parent directories)\n",
    "    combined_path.mkdir(parents=True)\n",
    "    print(f\"Directory created at: {combined_path.resolve()}\")"
   ]
  },
  {
   "cell_type": "code",
   "execution_count": null,
   "id": "55468681",
   "metadata": {},
   "outputs": [],
   "source": [
    "# Define a relative path\n",
    "p = Path(\"C:\\\\newfolder\\\\test.txt\")\n",
    "\n",
    "# Resolve it to an absolute path\n",
    "absolute_path = p.resolve()\n",
    "\n",
    "print(\"Normal Path object:\", absolute_path)\n",
    "\n",
    "# Convert to string\n",
    "path_str = str(absolute_path)\n",
    "print(\"As normal string:\", path_str)\n",
    "\n",
    "# Convert to a raw-style representation\n",
    "raw_style = f'r\"{path_str}\"'\n",
    "print(\"As raw-style string:\", raw_style)"
   ]
  }
 ],
 "metadata": {
  "language_info": {
   "name": "python"
  }
 },
 "nbformat": 4,
 "nbformat_minor": 5
}
