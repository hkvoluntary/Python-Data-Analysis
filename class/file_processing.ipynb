{
 "cells": [
  {
   "cell_type": "code",
   "execution_count": null,
   "id": "5bfe0a85",
   "metadata": {},
   "outputs": [],
   "source": []
  },
  {
   "cell_type": "markdown",
   "id": "7d3e988f",
   "metadata": {},
   "source": [
    "Reading from a file"
   ]
  },
  {
   "cell_type": "code",
   "execution_count": null,
   "id": "86c34f90",
   "metadata": {},
   "outputs": [],
   "source": [
    "# Open my-file.txt and assign result to f.\n",
    "f = open(\"my-file.txt\")\n",
    "# Read contents of file into content variable.\n",
    "content = f.read()\n",
    "print(content) # Print content.\n",
    "f.close() # Close the file. "
   ]
  },
  {
   "cell_type": "markdown",
   "id": "09ec14b4",
   "metadata": {},
   "source": [
    "with Blocks"
   ]
  },
  {
   "cell_type": "code",
   "execution_count": null,
   "id": "8830603f",
   "metadata": {},
   "outputs": [],
   "source": [
    "with open(\"my-file.txt\") as f:\n",
    "   content = f.read()\n",
    "   print(content)"
   ]
  },
  {
   "cell_type": "markdown",
   "id": "84642419",
   "metadata": {},
   "source": [
    "Writing to a file"
   ]
  },
  {
   "cell_type": "code",
   "execution_count": null,
   "id": "66091011",
   "metadata": {},
   "outputs": [],
   "source": [
    "with open(\"my-file2.txt\", \"w\") as ff:\n",
    "   ff.write(\"Hello, world!!!!!\")"
   ]
  },
  {
   "cell_type": "markdown",
   "id": "303e803b",
   "metadata": {},
   "source": [
    "Handling exceptions"
   ]
  },
  {
   "cell_type": "code",
   "execution_count": null,
   "id": "7cd1ce2b",
   "metadata": {},
   "outputs": [],
   "source": [
    "def process_data(data):\n",
    "    try:\n",
    "        # Process the data\n",
    "        result = data['value'] / data['divisor']\n",
    "    except KeyError as e:\n",
    "        print(f\"KeyError: {e} not found in data.\")\n",
    "    except ZeroDivisionError:\n",
    "        print(\"Error: Division by zero.\")\n",
    "    finally:\n",
    "        print(\"Data processing complete.\")\n",
    "\n",
    "# Test the function\n",
    "process_data({'value': 10, 'divisor': 2})\n",
    "process_data({'value': 10, 'divisor': 0})\n",
    "process_data({'value': 10})  # Missing 'divisor'\n"
   ]
  },
  {
   "cell_type": "code",
   "execution_count": null,
   "id": "a60998ba",
   "metadata": {},
   "outputs": [],
   "source": [
    "# File Exception Handling in Python\n",
    "\n",
    "try:\n",
    "    # Try to open a file that may not exist\n",
    "    file = open(\"example.txt\", \"r\")\n",
    "    content = file.read()\n",
    "    print(content)\n",
    "except FileNotFoundError:\n",
    "    print(\"Error: The file does not exist!\")\n",
    "except IOError:\n",
    "    print(\"Error: An I/O error occurred while accessing the file.\")\n",
    "else:\n",
    "    print(\"File read successfully.\")\n",
    "finally:\n",
    "    # Close the file if it was opened\n",
    "    try:\n",
    "        file.close()\n",
    "        print(\"File closed.\")\n",
    "    except NameError:\n",
    "        # file variable does not exist if open() failed\n",
    "        pass"
   ]
  },
  {
   "cell_type": "code",
   "execution_count": null,
   "id": "35c51852",
   "metadata": {},
   "outputs": [],
   "source": [
    "# Raising a custom exception\n",
    "def check_age(age):\n",
    "    if age < 18:\n",
    "        raise ValueError(\"Age must be at least 18\")\n",
    "    print(\"Access granted!\")\n",
    "\n",
    "try:\n",
    "    check_age(16)\n",
    "except ValueError as ve:\n",
    "    print(\"Error:\", ve)\n",
    "finally:\n",
    "    print(\"Finished Raising a custom exception\")"
   ]
  },
  {
   "cell_type": "markdown",
   "id": "e2f858f5",
   "metadata": {},
   "source": [
    "File Processing "
   ]
  },
  {
   "cell_type": "code",
   "execution_count": null,
   "id": "23154587",
   "metadata": {},
   "outputs": [],
   "source": [
    "from pathlib import Path\n",
    "current_dir = Path('.')\n",
    "print(current_dir)\n",
    "print(current_dir.resolve())\n",
    "\n",
    "print(current_dir.is_dir())\n",
    "print(current_dir.is_file())"
   ]
  },
  {
   "cell_type": "code",
   "execution_count": null,
   "id": "fcacb7f6",
   "metadata": {},
   "outputs": [],
   "source": [
    "# Combine the two Path objects using the / operator\n",
    "new_dir = Path(\"Window\")\n",
    "combined_path = current_dir / new_dir\n",
    "if not combined_path.exists():\n",
    "    # Create the directory (and any necessary parent directories)\n",
    "    combined_path.mkdir(parents=True)\n",
    "    print(f\"Directory created at: {combined_path.resolve()}\")"
   ]
  },
  {
   "cell_type": "code",
   "execution_count": null,
   "id": "55468681",
   "metadata": {},
   "outputs": [],
   "source": [
    "# Define a relative path\n",
    "p = Path(\"C:\\\\newfolder\\\\test.txt\")\n",
    "\n",
    "# Resolve it to an absolute path\n",
    "absolute_path = p.resolve()\n",
    "\n",
    "print(\"Normal Path object:\", absolute_path)\n",
    "\n",
    "# Convert to string\n",
    "path_str = str(absolute_path)\n",
    "print(\"As normal string:\", path_str)\n",
    "\n",
    "# Convert to a raw-style representation\n",
    "raw_style = f'r\"{path_str}\"'\n",
    "print(\"As raw-style string:\", raw_style)"
   ]
  }
 ],
 "metadata": {
  "language_info": {
   "name": "python"
  }
 },
 "nbformat": 4,
 "nbformat_minor": 5
}
