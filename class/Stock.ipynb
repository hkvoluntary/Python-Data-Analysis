{
  "nbformat": 4,
  "nbformat_minor": 0,
  "metadata": {
    "colab": {
      "provenance": []
    },
    "kernelspec": {
      "name": "python3",
      "display_name": "Python 3"
    },
    "language_info": {
      "name": "python"
    }
  },
  "cells": [
    {
      "cell_type": "code",
      "execution_count": null,
      "metadata": {
        "id": "SrHNKr3mkAGl"
      },
      "outputs": [],
      "source": [
        "!pip install yfinance\n",
        "\n",
        "import yfinance as yf # https://pypi.org/project/yfinance/\n",
        "import pandas as pd\n",
        "\n"
      ]
    },
    {
      "cell_type": "code",
      "source": [
        "link = yf.Ticker('0823.hk')\n",
        "link.info\n"
      ],
      "metadata": {
        "id": "2ADMS8Hr16VK"
      },
      "execution_count": null,
      "outputs": []
    },
    {
      "cell_type": "code",
      "source": [
        "link_df = link.history(start=\"2010-07-01\",  end=\"2020-07-31\")\n",
        "print(type(link_df))\n",
        "link_df.head()"
      ],
      "metadata": {
        "id": "gO6MMDsD2MoM"
      },
      "execution_count": null,
      "outputs": []
    },
    {
      "cell_type": "code",
      "source": [
        "link_df"
      ],
      "metadata": {
        "id": "c8YdBOd-2bjO"
      },
      "execution_count": null,
      "outputs": []
    },
    {
      "cell_type": "code",
      "source": [
        "link.dividends"
      ],
      "metadata": {
        "id": "QJl2HUY72hso"
      },
      "execution_count": null,
      "outputs": []
    },
    {
      "cell_type": "code",
      "source": [
        "link.actions"
      ],
      "metadata": {
        "id": "ydS_qUoX2v7m"
      },
      "execution_count": null,
      "outputs": []
    },
    {
      "cell_type": "code",
      "source": [
        "link.calendar"
      ],
      "metadata": {
        "id": "B_8K9Kky20UM"
      },
      "execution_count": null,
      "outputs": []
    },
    {
      "cell_type": "code",
      "source": [
        "link_df = link_df.reset_index()\n",
        "link_df"
      ],
      "metadata": {
        "id": "aMa_Dhbt3q-X"
      },
      "execution_count": null,
      "outputs": []
    },
    {
      "cell_type": "code",
      "source": [
        "link_df.dtypes # Check the column data type\n",
        "\n"
      ],
      "metadata": {
        "id": "CkRS9rZN32BG"
      },
      "execution_count": null,
      "outputs": []
    },
    {
      "cell_type": "code",
      "source": [
        "for i in ['Open', 'High', 'Close', 'Low', 'Volume']:\n",
        "      link_df[i]  =  link_df[i].astype('float64')\n",
        "link_df.dtypes\n"
      ],
      "metadata": {
        "id": "BssfJRfZ4fe9"
      },
      "execution_count": null,
      "outputs": []
    },
    {
      "cell_type": "code",
      "source": [
        "import plotly.graph_objects as go # Python classes that represent parts of a figure. - https://plotly.com/python/graph-objects/\n",
        "\n",
        "\n",
        "fig = go.Figure(data=\n",
        "                [go.Candlestick\n",
        "                 (x=link_df['Date'], open=link_df['Open'], high=link_df['High'],\n",
        "                  low=link_df['Low'], close=link_df['Close'])])\n",
        "fig.show()"
      ],
      "metadata": {
        "id": "ph5KTS_e41Sa"
      },
      "execution_count": null,
      "outputs": []
    },
    {
      "cell_type": "code",
      "source": [
        "sub_link_df = link_df.iloc[-20:]\n",
        "sub_link_df"
      ],
      "metadata": {
        "id": "EmE5kaR65n4s"
      },
      "execution_count": null,
      "outputs": []
    },
    {
      "cell_type": "code",
      "source": [
        "import plotly.express as px #Plotly Express is a terse, consistent, high-level API for creating figures. - https://plotly.com/python/plotly-express/\n",
        "\n",
        "fig = px.line(link_df, x=\"Date\", y=\"Open\", title='Link Stock Prices')\n",
        "fig.show()"
      ],
      "metadata": {
        "id": "cDyCMT0D6n77"
      },
      "execution_count": null,
      "outputs": []
    }
  ]
}