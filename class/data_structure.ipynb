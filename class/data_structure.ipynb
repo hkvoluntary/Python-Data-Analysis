{
 "cells": [
  {
   "cell_type": "markdown",
   "metadata": {},
   "source": [
    "Data Structures \n",
    "List"
   ]
  },
  {
   "cell_type": "code",
   "execution_count": null,
   "metadata": {},
   "outputs": [],
   "source": [
    "list1 = ['physics','astronomy',56.98,'MJ',-9.36]\n",
    "\n",
    "# list within a list\n",
    "list2 = ['chemistry','biology',77.98,[3,4,65],'EE',-56]\n"
   ]
  },
  {
   "cell_type": "code",
   "execution_count": null,
   "metadata": {},
   "outputs": [],
   "source": [
    "print(list1[0])\n",
    "print(list1[4])\n",
    "print(list1[-1])\n",
    "print(list1[1][3])\n",
    "print(list2[3])\n",
    "print(list2[3][2])\n",
    "print(list1[0:4])\n",
    "print(list2[3:5])\n"
   ]
  },
  {
   "cell_type": "code",
   "execution_count": null,
   "metadata": {},
   "outputs": [],
   "source": [
    "[1,2,3] + [5,6,7]\n"
   ]
  },
  {
   "cell_type": "code",
   "execution_count": null,
   "metadata": {},
   "outputs": [],
   "source": [
    "list1 = ['physics','astronomy',56.98,'MJ',-9.36]\n",
    "\n",
    "# list within a list\n",
    "list2 = ['chemistry','biology',77.98,[3,4,65],'EE',-56]\n"
   ]
  },
  {
   "cell_type": "code",
   "execution_count": null,
   "metadata": {},
   "outputs": [],
   "source": [
    "list1 + list2\n"
   ]
  },
  {
   "cell_type": "code",
   "execution_count": null,
   "metadata": {},
   "outputs": [],
   "source": [
    "len(list2)\n"
   ]
  },
  {
   "cell_type": "code",
   "execution_count": null,
   "metadata": {},
   "outputs": [],
   "source": [
    "len(list1)"
   ]
  },
  {
   "cell_type": "code",
   "execution_count": null,
   "metadata": {},
   "outputs": [],
   "source": [
    "list3 = [3,4,67,2,1]\n",
    "list4 = ['3','4','67','2','1','four','three']\n"
   ]
  },
  {
   "cell_type": "code",
   "execution_count": null,
   "metadata": {},
   "outputs": [],
   "source": [
    "print(max(list3))\n",
    "print(min(list3))\n",
    "print(max(list4))\n",
    "print(min(list4))\n"
   ]
  },
  {
   "cell_type": "code",
   "execution_count": null,
   "metadata": {},
   "outputs": [],
   "source": [
    "list4.append('two')\n",
    "list4.append('three')\n",
    "print(list4)\n"
   ]
  },
  {
   "cell_type": "code",
   "execution_count": null,
   "metadata": {},
   "outputs": [],
   "source": [
    "list4.insert(3,56)\n",
    "print(list4)\n",
    "print(list4.count('three'))\n",
    "\n",
    "list4.clear()\n",
    "print(list4)\n",
    "\n"
   ]
  },
  {
   "cell_type": "code",
   "execution_count": null,
   "metadata": {},
   "outputs": [],
   "source": [
    "list3 = [3,4,67,2,1]\n",
    "list4 = ['3','4','67','2','1','four','three']"
   ]
  },
  {
   "cell_type": "code",
   "execution_count": null,
   "metadata": {},
   "outputs": [],
   "source": [
    "print(list4.index('1'))\n",
    "list4.pop(3)\n",
    "print(list4)\n",
    "list4.remove('67')\n",
    "print(list4)\n",
    "list4.reverse()\n",
    "print(list4)\n",
    "\n",
    "\n"
   ]
  },
  {
   "cell_type": "code",
   "execution_count": null,
   "metadata": {},
   "outputs": [],
   "source": [
    "print(list3)\n",
    "list3.sort()\n",
    "print(list3)\n",
    "print(list4)\n",
    "list4[5] = 23\n",
    "print(list4)\n",
    "\n",
    "\n",
    "\n"
   ]
  },
  {
   "cell_type": "markdown",
   "metadata": {},
   "source": [
    "Copy"
   ]
  },
  {
   "cell_type": "code",
   "execution_count": null,
   "metadata": {},
   "outputs": [],
   "source": [
    "colors = [\"red\",\"blue\",\"green\",\"orange\"]\n",
    "colors_copy = colors.copy()\n",
    "print(colors_copy)\n",
    "colors_copy.sort()\n",
    "print(colors_copy)\n",
    "print(colors) # colors remains unsorted"
   ]
  },
  {
   "cell_type": "code",
   "execution_count": null,
   "metadata": {},
   "outputs": [],
   "source": [
    "# Sorting colors_copy has no effect on the colors list. They are two distinct objects. \n",
    "# Compare that to the following, which continues from the code above:\n",
    "colors_copy2 = colors\n",
    "print(colors_copy2)\n",
    "colors_copy2.sort()\n",
    "print(colors_copy2)\n",
    "print(colors)"
   ]
  },
  {
   "cell_type": "code",
   "execution_count": null,
   "metadata": {},
   "outputs": [],
   "source": [
    "print(\"id colors: \", id(colors))\n",
    "print(\"id colors_copy: \", id(colors_copy))\n",
    "print(\"id colors_copy2: \", id(colors_copy2))"
   ]
  },
  {
   "cell_type": "code",
   "execution_count": null,
   "metadata": {},
   "outputs": [],
   "source": [
    "colors = [\"red\",\"blue\",\"green\",\"orange\",\"brown\",\"yellow\"]\n",
    "del colors[0]\n",
    "print(colors)\n",
    "del colors[1:3]\n",
    "print(colors)\n",
    "del colors\n",
    "print(colors)"
   ]
  },
  {
   "cell_type": "markdown",
   "metadata": {},
   "source": [
    "list comprehension"
   ]
  },
  {
   "cell_type": "code",
   "execution_count": null,
   "metadata": {},
   "outputs": [],
   "source": [
    "squares = [x**2 for x in range(10)]\n",
    "print(squares)\n",
    "even_squares = [x**2 for x in range(10) if x % 2 == 0]\n",
    "print(even_squares)\n"
   ]
  },
  {
   "cell_type": "code",
   "execution_count": null,
   "metadata": {},
   "outputs": [],
   "source": [
    "words = ['hello', 'world', 'python']\n",
    "uppercase_words = [word.upper() for word in words]\n",
    "print(uppercase_words)\n"
   ]
  },
  {
   "cell_type": "code",
   "execution_count": null,
   "metadata": {},
   "outputs": [],
   "source": [
    "def triple(x):\n",
    "    return x * 3\n",
    "\n",
    "numbers = range(1, 11)\n",
    "tripled_numbers = [triple(x) for x in numbers]\n",
    "print(tripled_numbers)\n"
   ]
  },
  {
   "cell_type": "markdown",
   "metadata": {},
   "source": [
    "Ranges"
   ]
  },
  {
   "cell_type": "code",
   "execution_count": null,
   "metadata": {},
   "outputs": [],
   "source": [
    "print(list(range(10)))\n",
    "print(list(range(5, 11)))\n",
    "print(list(range(0, 13, 3)))\n",
    "print(list(range(-4, 4)))"
   ]
  },
  {
   "cell_type": "code",
   "execution_count": null,
   "metadata": {},
   "outputs": [],
   "source": [
    "a = [\"ant\", \"bat\", \"cat\", 42]\n",
    "for i in range(len(a)):\n",
    "    print(f\"a[{i}] = {a[i]}\")\n"
   ]
  },
  {
   "cell_type": "code",
   "execution_count": null,
   "metadata": {},
   "outputs": [],
   "source": [
    "# printing the tuples in object directly\n",
    "for index, element in enumerate(a):\n",
    "    print(f\"a[{index}] = {element}\")\n",
    "\n",
    "# printing the tuples in object directly\n",
    "for ele in enumerate(a):\n",
    "    print (ele)\n",
    "\n",
    "# changing index and printing separately\n",
    "for count, ele in enumerate(a, 100):\n",
    "    print (count, ele)\n"
   ]
  },
  {
   "cell_type": "markdown",
   "metadata": {},
   "source": [
    "Tuples"
   ]
  },
  {
   "cell_type": "code",
   "execution_count": null,
   "metadata": {},
   "outputs": [],
   "source": [
    "tup = (3,4,67,2,1)\n",
    "print(tup)\n",
    "tup[2] = 8\n"
   ]
  },
  {
   "cell_type": "markdown",
   "metadata": {},
   "source": [
    "Converting Sequences to Strings and Splitting Strings into Lists"
   ]
  },
  {
   "cell_type": "code",
   "execution_count": null,
   "metadata": {},
   "outputs": [],
   "source": [
    "colors = (\"red\",\"blue\",\"green\",\"orange\")\n",
    "string_color =' '.join(colors)\n",
    "print(string_color)\n",
    "string_color =':'.join(colors)\n",
    "print(string_color)\n",
    "string_color ='-:-'.join(colors)\n",
    "print(string_color)"
   ]
  },
  {
   "cell_type": "code",
   "execution_count": null,
   "metadata": {},
   "outputs": [],
   "source": [
    "sentence ='We are no longer the Knights Who Say \"Ni!\"'\n",
    "list_of_words = sentence.split(' ')\n",
    "print(list_of_words)\n",
    "list_of_words = sentence.split('\"')\n",
    "print(list_of_words)"
   ]
  },
  {
   "cell_type": "markdown",
   "metadata": {},
   "source": [
    "Dictionary"
   ]
  },
  {
   "cell_type": "code",
   "execution_count": null,
   "metadata": {},
   "outputs": [],
   "source": [
    "dict1 = {\"name\":\"Daniel\",\"age\":23,\"degree\":\"MS\"}\n",
    "dict2 = {'name':'Francis','age':60,'job':'Car designer','brand':'Jaguar','worked-for':['Ford','TWR','Aston Martin']}\n",
    "print(dict1['age'])\n",
    "print(dict2['worked-for'])\n",
    "print(dict2['worked-for'][1])\n",
    "dict1['subjects'] = [\"OS\",'DBMS','Artificial Intelligence']\n",
    "print(dict1)\n",
    "dict1['degree']='Master of Science'\n",
    "print(dict1)\n"
   ]
  },
  {
   "cell_type": "code",
   "execution_count": null,
   "metadata": {},
   "outputs": [],
   "source": [
    "dict1 = {\"name\":\"Daniel\",\"age\":23,\"degree\":\"MS\"}\n",
    "dict2 = {'name':'Francis','age':60,'job':'Car designer','brand':'Jaguar','worked-for':['Ford','TWR','Aston Martin']}\n"
   ]
  },
  {
   "cell_type": "code",
   "execution_count": null,
   "metadata": {},
   "outputs": [],
   "source": [
    "len(dict1)\n"
   ]
  },
  {
   "cell_type": "code",
   "execution_count": null,
   "metadata": {},
   "outputs": [],
   "source": [
    "print(dict1.get('name'))\n",
    "print(dict1.get('gender'))\n",
    "print(dict1.get('gender','unknown'))\n"
   ]
  },
  {
   "cell_type": "code",
   "execution_count": null,
   "metadata": {},
   "outputs": [],
   "source": [
    "print(dict1.get('name'))\n",
    "print(dict1.get('gender'))\n",
    "print(dict1.get('gender','Not found'))\n"
   ]
  },
  {
   "cell_type": "code",
   "execution_count": null,
   "metadata": {},
   "outputs": [],
   "source": [
    "print(dict1.pop('name'))\n",
    "print(dict1)\n",
    "print(dict1.pop('gender'))"
   ]
  },
  {
   "cell_type": "code",
   "execution_count": null,
   "metadata": {},
   "outputs": [],
   "source": [
    "grades = {\n",
    "   \"English\": 97,\n",
    "   \"Math\": 93,\n",
    "   \"Art\": 75\n",
    "}\n",
    "print(grades)"
   ]
  },
  {
   "cell_type": "code",
   "execution_count": null,
   "metadata": {},
   "outputs": [],
   "source": [
    "print(grades.keys())\n",
    "print(grades.values())\n",
    "print(grades.items())"
   ]
  },
  {
   "cell_type": "code",
   "execution_count": null,
   "metadata": {},
   "outputs": [],
   "source": [
    "del grades[\"Math\"] # deletes Math key\n",
    "print(grades)"
   ]
  },
  {
   "cell_type": "markdown",
   "metadata": {},
   "source": [
    "Set"
   ]
  },
  {
   "cell_type": "code",
   "execution_count": null,
   "metadata": {},
   "outputs": [],
   "source": [
    "classes = {\"English\",\"Math\",\"Global Studies\",\"Art\"}\n",
    "print(type)"
   ]
  },
  {
   "cell_type": "code",
   "execution_count": null,
   "metadata": {},
   "outputs": [],
   "source": [
    "tech = ['google','amazon','apple','tesla','microsoft','apple', 'google']\n",
    "print(tech)\n",
    "s_tech = set(tech)\n",
    "list_tech = list(s_tech)\n",
    "print(list_tech)\n",
    "\n"
   ]
  },
  {
   "cell_type": "code",
   "execution_count": null,
   "metadata": {},
   "outputs": [],
   "source": [
    "a = set([10,20,30,40,50])\n",
    "b = set([10,60,70])\n",
    "print(a)\n",
    "print(b)"
   ]
  },
  {
   "cell_type": "code",
   "execution_count": null,
   "metadata": {},
   "outputs": [],
   "source": [
    "print(a.intersection(b))\n",
    "print(a.difference(b))\n",
    "print(a.union(b))\n",
    "print(b.intersection(a))\n",
    "print(b.difference(a))\n",
    "print(a.union(b))\n",
    "print(a.symmetric_difference(b))"
   ]
  }
 ],
 "metadata": {
  "kernelspec": {
   "display_name": ".venv",
   "language": "python",
   "name": "python3"
  },
  "language_info": {
   "codemirror_mode": {
    "name": "ipython",
    "version": 3
   },
   "file_extension": ".py",
   "mimetype": "text/x-python",
   "name": "python",
   "nbconvert_exporter": "python",
   "pygments_lexer": "ipython3",
   "version": "3.11.3"
  }
 },
 "nbformat": 4,
 "nbformat_minor": 2
}
