{
 "cells": [
  {
   "cell_type": "code",
   "execution_count": null,
   "metadata": {},
   "outputs": [],
   "source": [
    "import numpy as np\n",
    "nums = [1, 2, 3, 4, 5]\n",
    "ar = np.array(nums)\n",
    "ar"
   ]
  },
  {
   "cell_type": "code",
   "execution_count": null,
   "metadata": {},
   "outputs": [],
   "source": [
    "print(f'''Object type: {type(ar)} \n",
    "      Array size: {np.size(ar)},\n",
    "      Array dimensions: {ar.ndim}, \n",
    "      Array data type: {ar.dtype }''')\n"
   ]
  },
  {
   "cell_type": "code",
   "execution_count": null,
   "metadata": {},
   "outputs": [],
   "source": [
    "mixed = [1, 2, '3', 4, 5]\n",
    "ar_mixed = np.array(mixed)\n",
    "ar_mixed"
   ]
  },
  {
   "cell_type": "code",
   "execution_count": null,
   "metadata": {},
   "outputs": [],
   "source": [
    "print(f'''Object type: {type(ar_mixed)} \n",
    "      Array size: {np.size(ar_mixed)},\n",
    "      Array dimensions: {ar_mixed.ndim}, \n",
    "      Array data type: {ar_mixed.dtype }''')"
   ]
  },
  {
   "cell_type": "markdown",
   "metadata": {},
   "source": [
    "All Elements Must Be the Same Data Type"
   ]
  },
  {
   "cell_type": "code",
   "execution_count": null,
   "metadata": {},
   "outputs": [],
   "source": [
    "ar5 = np.arange(1, 5, 1)\n",
    "ar6 = np.arange(1, 5, .5)\n",
    "ar7 = np.arange(1, 5, dtype=float)"
   ]
  },
  {
   "cell_type": "code",
   "execution_count": null,
   "metadata": {},
   "outputs": [],
   "source": [
    "print(ar5, ar6, ar7)\n",
    "print(type(ar5[0]), type(ar6[0]), type(ar7[0]))"
   ]
  },
  {
   "cell_type": "code",
   "execution_count": null,
   "metadata": {},
   "outputs": [],
   "source": [
    "# If you try to set an element in an array of integers to a float, the value will be coerced into an integer.\n",
    "ar = np.arange(1, 10)\n",
    "ar[5] = 1.5\n",
    "print(ar)"
   ]
  },
  {
   "cell_type": "markdown",
   "metadata": {},
   "source": [
    "ndarrays vs lists\n"
   ]
  },
  {
   "cell_type": "markdown",
   "metadata": {},
   "source": [
    "Similar to Lists"
   ]
  },
  {
   "cell_type": "code",
   "execution_count": null,
   "metadata": {},
   "outputs": [],
   "source": [
    "my_list = [x**2 for x in range(10)]\n",
    "for i in my_list:\n",
    "    print(i, end=' ')"
   ]
  },
  {
   "cell_type": "code",
   "execution_count": null,
   "metadata": {},
   "outputs": [],
   "source": [
    "my_array = np.arange(10) ** 2\n",
    "for i in my_array:\n",
    "    print(i, end=' ')"
   ]
  },
  {
   "cell_type": "markdown",
   "metadata": {},
   "source": [
    "Different from Lists"
   ]
  },
  {
   "cell_type": "code",
   "execution_count": null,
   "metadata": {},
   "outputs": [],
   "source": [
    "my_list = [1, 2, 3, 4, 5]\n",
    "print(my_list)\n",
    "print(my_list + my_list) # Appends list to itself.\n",
    "print(my_list * 3) # Repeats list 3 times.\n"
   ]
  },
  {
   "cell_type": "code",
   "execution_count": null,
   "metadata": {},
   "outputs": [],
   "source": [
    "ar = np.arange(1, 6)\n",
    "print(ar)\n",
    "print(ar + ar) # Adds ar[0] to ar[0], ar[1] to ar[1], etc.\n",
    "print(ar * 3) # Multiplies each element of array by 3.\n"
   ]
  },
  {
   "cell_type": "code",
   "execution_count": null,
   "metadata": {},
   "outputs": [],
   "source": [
    "# Initializing the array\n",
    "a = np.array([2, 3, 4])\n",
    "b = np.array([4, -1, 2])\n",
    "\n",
    "print('First array: ', a) \n",
    "print('Second array: ', b) \n",
    "\n",
    "print('Adding the two arrays:') \n",
    "print(np.add(a, b))\n",
    "print('Subtracting the two arrays:') \n",
    "print(np.subtract(a, b))\n",
    "print('Multiplying the two arrays:')\n",
    "print(np.multiply(a, b))\n",
    "print('Dividing the two arrays:')\n",
    "print(np.divide(a, b))\n"
   ]
  },
  {
   "cell_type": "code",
   "execution_count": null,
   "metadata": {},
   "outputs": [],
   "source": [
    "addition = a + b\n",
    "subtraction = a - b\n",
    "multiplication = a * b\n",
    "division = a / b\n",
    " \n",
    "print('Addition of arrays  a and b is: ', addition)\n",
    "print('Subtraction of arrays  a and b is: ', subtraction)\n",
    "print('Multiplication of arrays  a and b is: ', multiplication)\n",
    "print('Division of arrays  a and b is: ', division)\n"
   ]
  },
  {
   "cell_type": "code",
   "execution_count": null,
   "metadata": {},
   "outputs": [],
   "source": [
    "# Element-wise Operations\n",
    "arr = np.array([1, 2, 3, 4])\n",
    "print(arr + 2)\n",
    "print(arr * 3)\n",
    "print(arr ** 2)\n",
    "\n"
   ]
  },
  {
   "cell_type": "code",
   "execution_count": null,
   "metadata": {},
   "outputs": [],
   "source": [
    "# Matrix Operations\n",
    "a = np.array([[1, 2], [3, 4]])\n",
    "b = np.array([[5, 6], [7, 8]])\n",
    "print(np.dot(a, b))\n"
   ]
  },
  {
   "cell_type": "code",
   "execution_count": null,
   "metadata": {},
   "outputs": [],
   "source": [
    "# Aggregate Functions\n",
    "arr = np.array([1, 2, 3, 4, 5])\n",
    "print(np.sum(arr))\n",
    "print(np.min(arr))\n",
    "print(np.max(arr))\n",
    "print(np.mean(arr))\n",
    "print(np.std(arr))\n"
   ]
  },
  {
   "cell_type": "code",
   "execution_count": null,
   "metadata": {},
   "outputs": [],
   "source": [
    "# Create a 2D array\n",
    "arr_2d = np.array([[1, 2, 3],\n",
    "                   [4, 5, 6]])\n",
    "\n",
    "# Compute the sum of all elements\n",
    "total_sum_2d = np.sum(arr_2d)\n",
    "\n",
    "# Sum along the columns (axis=0)\n",
    "column_sum = np.sum(arr_2d, axis=0)\n",
    "\n",
    "# Sum along the rows (axis=1)\n",
    "row_sum = np.sum(arr_2d, axis=1)\n",
    "\n",
    "print(\"2D Array:\\n\", arr_2d)\n",
    "print(\"Total sum of all elements:\", total_sum_2d)  # Output: 21\n",
    "print(\"Sum along columns:\", column_sum)              # Output: [5 7 9]\n",
    "print(\"Sum along rows:\", row_sum)                    # Output: [ 6 15]"
   ]
  },
  {
   "cell_type": "code",
   "execution_count": null,
   "metadata": {},
   "outputs": [],
   "source": [
    "# Create a 2D array\n",
    "arr_2d = np.array([[1, 2, 3],\n",
    "                   [4, 5, 6],\n",
    "                   [7, 8, 9]])\n",
    "\n",
    "# Compute the standard deviation of all elements\n",
    "std_value_2d = np.std(arr_2d)\n",
    "\n",
    "# Find the standard deviation along the columns (axis=0)\n",
    "std_columns = np.std(arr_2d, axis=0)\n",
    "\n",
    "# Find the standard deviation along the rows (axis=1)\n",
    "std_rows = np.std(arr_2d, axis=1)\n",
    "\n",
    "print(\"2D Array:\\n\", arr_2d)\n",
    "print(\"Standard deviation of all elements:\", std_value_2d)  # Output: 2.581988897471611\n",
    "print(\"Standard deviation along columns:\", std_columns)      # Output: [2.5819889 2.5819889 2.5819889]\n",
    "print(\"Standard deviation along rows:\", std_rows)            # Output: [0.81649658 0.81649658 0.81649658]\n"
   ]
  },
  {
   "cell_type": "code",
   "execution_count": null,
   "metadata": {},
   "outputs": [],
   "source": [
    "# Array with real and complex numbers\n",
    "arr = np.array([1, 2.5, 3 + 0j, 4 + 5j, 6])\n",
    "\n",
    "# Check which elements are real\n",
    "is_real = np.isreal(arr)\n",
    "\n",
    "print(\"Original array: \", arr)\n",
    "print(\"Is each element real? \", is_real)\n",
    "\n"
   ]
  },
  {
   "cell_type": "code",
   "execution_count": null,
   "metadata": {},
   "outputs": [],
   "source": [
    "# Create an array with some NaN values\n",
    "arr = np.array([1, 2, np.nan, 4, 5, np.nan])\n",
    "\n",
    "# Check which elements are NaN\n",
    "is_nan = np.isnan(arr)\n",
    "\n",
    "print(\"Original array: \", arr)\n",
    "print(\"Is each element NaN ? \", is_nan)"
   ]
  },
  {
   "cell_type": "markdown",
   "metadata": {},
   "source": [
    "NumPy: all() and any()\n"
   ]
  },
  {
   "cell_type": "code",
   "execution_count": null,
   "metadata": {},
   "outputs": [],
   "source": [
    "# Create an array\n",
    "arr1 = np.array([True, True, True])\n",
    "arr2 = np.array([True, False, True])\n",
    "arr3 = np.array([[1, 2], [3, 4]])\n",
    "\n",
    "# Check if all elements are True\n",
    "all_true_1 = arr1.all()\n",
    "all_true_2 = arr2.all()\n",
    "all_true_3 = arr3.all()\n",
    "\n",
    "print(\"All elements in arr1 are True:\", all_true_1)  # Output: True\n",
    "print(\"All elements in arr2 are True:\", all_true_2)  # Output: False\n",
    "print(\"All elements in arr3 are True:\", all_true_3)  # Output: True (non-zero values are treated as True)\n"
   ]
  },
  {
   "cell_type": "code",
   "execution_count": null,
   "metadata": {},
   "outputs": [],
   "source": [
    "arr_2d = np.array([[1, 0], [3, 4]])\n",
    "\n",
    "# Check if all elements are True along the first axis (columns)\n",
    "all_columns = arr_2d.all(axis=0)\n",
    "\n",
    "# Check if all elements are True along the second axis (rows)\n",
    "all_rows = arr_2d.all(axis=1)\n",
    "\n",
    "print(\"All elements in each column are True:\", all_columns)  # Output: [ True False]\n",
    "print(\"All elements in each row are True:\", all_rows)        # Output: [False  True]\n"
   ]
  },
  {
   "cell_type": "code",
   "execution_count": null,
   "metadata": {},
   "outputs": [],
   "source": [
    "# Create a 1D array\n",
    "arr = np.array([0, 0, 3, 0, 0])\n",
    "\n",
    "# Check if any element is non-zero\n",
    "any_non_zero = np.any(arr)\n",
    "\n",
    "# Check if any element is greater than 2\n",
    "any_greater_than_two = np.any(arr > 2)\n",
    "\n",
    "print(\"Array:\", arr)\n",
    "print(\"Any element is non-zero:\", any_non_zero) # Output: True               \n",
    "print(\"Any element is greater than 2:\", any_greater_than_two)  # Output: True"
   ]
  },
  {
   "cell_type": "markdown",
   "metadata": {},
   "source": [
    "Multi-dimensional Arrays"
   ]
  },
  {
   "cell_type": "code",
   "execution_count": null,
   "metadata": {},
   "outputs": [],
   "source": [
    "# 1-dimensional array\n",
    "arr_1d = np.array([7, 2, 9, 10])\n",
    "\n",
    "print(arr_1d)\n",
    "print(\"The number of elements:\", arr_1d.size)\n",
    "print(\"The number of dimensions:\", arr_1d.ndim)\n",
    "print(\"The shape of the array (i.e., the length of each dimension):\", arr_1d.shape)\n",
    "print(\"Sum:\", np.sum(arr_1d))\n",
    "print(\"Square Root:\", np.sqrt(arr_1d))\n",
    "print(\"Square:\", np.square(arr_1d))\n",
    "print(\"Mean:\", np.mean(arr_1d))\n",
    "print(\"Standard Deviation:\", np.std(arr_1d))\n"
   ]
  },
  {
   "cell_type": "code",
   "execution_count": null,
   "metadata": {},
   "outputs": [],
   "source": [
    "# 2-dimensional array\n",
    "arr_2d = np.array([[5.2, 3.0, 4.5], [9.1, 0.1, 0.3]])\n",
    "\n",
    "print(arr_2d)\n",
    "print(\"The number of elements:\", arr_2d.size)\n",
    "print(\"The number of dimensions:\", arr_2d.ndim)\n",
    "print(\"The shape of the array (i.e., the length of each dimension):\", arr_2d.shape)\n",
    "print(\"Sum:\", np.sum(arr_2d))\n",
    "print(\"Square Root:\", np.sqrt(arr_2d))\n",
    "print(\"Square:\", np.square(arr_2d))\n",
    "print(\"Mean:\", np.mean(arr_2d))\n",
    "print(\"Standard Deviation:\", np.std(arr_2d))\n"
   ]
  },
  {
   "cell_type": "code",
   "execution_count": null,
   "metadata": {},
   "outputs": [],
   "source": [
    "# 3-dimensional array\n",
    "arr_3d = np.array([[[1, 2],\n",
    "                    [4, 3],\n",
    "                    [7, 4]],\n",
    "                   [[2, 6],\n",
    "                    [9, 7],\n",
    "                    [7, 5]],\n",
    "                   [[1, 3],\n",
    "                    [3, 5],\n",
    "                    [0, 2]],\n",
    "                   [[9, 7],\n",
    "                    [6, 4],\n",
    "                    [9, 8]]])\n",
    "print(arr_3d)\n",
    "print(\"The number of elements:\", arr_3d.size)\n",
    "print(\"The number of dimensions:\", arr_3d.ndim)\n",
    "print(\"The shape of the array (i.e., the length of each dimension):\", arr_3d.shape)\n",
    "print(\"Sum:\", np.sum(arr_3d))\n",
    "print(\"Square Root:\", np.sqrt(arr_3d))\n",
    "print(\"Square:\", np.square(arr_3d))\n",
    "print(\"Mean:\", np.mean(arr_3d))\n",
    "print(\"Variance:\", np.var(arr_3d))\n",
    "print(\"Standard Deviation:\", np.std(arr_3d))\n"
   ]
  },
  {
   "cell_type": "markdown",
   "metadata": {},
   "source": [
    "Indexing and Slicing\n"
   ]
  },
  {
   "cell_type": "code",
   "execution_count": null,
   "metadata": {},
   "outputs": [],
   "source": [
    "# prints the element at 0th index position\n",
    "print(arr_1d[0])\n",
    "# prints the element in 2nd row (1st index position),\n",
    "# 2nd column (1st index position)\n",
    "print(arr_2d[1, 1])\n",
    "# prints the element from 4th layer \n",
    "# (3rd index position), 3rd row (2nd index position), \n",
    "# 2nd column (1st index position)\n",
    "print(arr_3d[3, 2, 1])\n"
   ]
  },
  {
   "cell_type": "code",
   "execution_count": null,
   "metadata": {},
   "outputs": [],
   "source": [
    "# returns the elements from the 1st index position till \n",
    "# the 2nd index position\n",
    "arr_1d[1:3] \n"
   ]
  },
  {
   "cell_type": "code",
   "execution_count": null,
   "metadata": {},
   "outputs": [],
   "source": [
    "# returns the elements of 2nd row (1st index position) \n",
    "# from the 0th index position till the 2nd index position\n",
    "arr_2d[1, 0:3]\n"
   ]
  },
  {
   "cell_type": "code",
   "execution_count": null,
   "metadata": {},
   "outputs": [],
   "source": [
    "# returns the elements from the 2nd column \n",
    "# (1st index position) \n",
    "# for the 2nd (1st index position) and \n",
    "# 3rd (2nd index position) rows \n",
    "# within the first 2 layers \n",
    "# (0th and 1st index positions)\n",
    "\n",
    "arr_3d[0:2, 1:3, 1]\n"
   ]
  },
  {
   "cell_type": "markdown",
   "metadata": {},
   "source": [
    "Boolean Indexing\n"
   ]
  },
  {
   "cell_type": "code",
   "execution_count": null,
   "metadata": {},
   "outputs": [],
   "source": [
    "arr = np.array([9, 1, 2, 3, 4, 5])\n",
    "bool_idx = arr > 2\n",
    "print(arr[bool_idx])\n"
   ]
  },
  {
   "cell_type": "code",
   "execution_count": null,
   "metadata": {},
   "outputs": [],
   "source": [
    "# Create a 2D array\n",
    "arr_2d = np.array([[1, 2, 3],\n",
    "                   [4, 5, 6],\n",
    "                   [7, 8, 9]])\n",
    "\n",
    "# Create a boolean condition\n",
    "condition_2d = arr_2d > 5\n",
    "\n",
    "# Use boolean indexing to select elements\n",
    "filtered_arr_2d = arr_2d[condition_2d]\n",
    "\n",
    "print(\"2D Array:\\n\", arr_2d)\n",
    "print(\"Elements greater than 5:\\n\", filtered_arr_2d)  # Output: [6 7 8 9]\n"
   ]
  },
  {
   "cell_type": "markdown",
   "metadata": {},
   "source": [
    "Reshaping and Transposing\n"
   ]
  },
  {
   "cell_type": "code",
   "execution_count": null,
   "metadata": {},
   "outputs": [],
   "source": [
    "a = np.array([[ 1.,  2.,  3.],\n",
    "       [ 4.,  5.,  6.]])\n",
    "print(a.shape)\n",
    "print(a.reshape(-1))\n",
    "print(a.reshape(-1,1))\n",
    "print(a.reshape(1,-1))\n"
   ]
  },
  {
   "cell_type": "code",
   "execution_count": null,
   "metadata": {},
   "outputs": [],
   "source": [
    "arr_2d = np.array([[1, 2, 3], [4, 5, 6]])\n",
    "print(arr_2d.T)\n"
   ]
  },
  {
   "cell_type": "code",
   "execution_count": null,
   "metadata": {},
   "outputs": [],
   "source": [
    "transposed_a_np = np.transpose(a)\n",
    "print(transposed_a_np)"
   ]
  },
  {
   "cell_type": "code",
   "execution_count": null,
   "metadata": {},
   "outputs": [],
   "source": [
    "arr_2d = np.array([[1, 2, 3], [4, 5, 6]])\n",
    "flat_arr = arr_2d.flatten()\n",
    "print(flat_arr)\n"
   ]
  },
  {
   "cell_type": "code",
   "execution_count": null,
   "metadata": {},
   "outputs": [],
   "source": [
    "flat_arr2 = arr_2d.reshape(-1)\n",
    "print(flat_arr2)"
   ]
  },
  {
   "cell_type": "markdown",
   "metadata": {},
   "source": [
    "Sorting Arrays\n"
   ]
  },
  {
   "cell_type": "code",
   "execution_count": null,
   "metadata": {},
   "outputs": [],
   "source": [
    "arr = np.array([3, 1, 4, 1, 5, 9, 2])\n",
    "# Sort the array\n",
    "sorted_arr = np.sort(arr)\n",
    "\n",
    "print(\"Original Array:\", arr)\n",
    "print(\"Sorted Array:\", sorted_arr)\n"
   ]
  },
  {
   "cell_type": "code",
   "execution_count": null,
   "metadata": {},
   "outputs": [],
   "source": [
    "indices = np.argsort(arr)\n",
    "\n",
    "print(\"Indices that would sort the array:\", indices)\n"
   ]
  },
  {
   "cell_type": "code",
   "execution_count": null,
   "metadata": {},
   "outputs": [],
   "source": [
    "arr.sort()\n",
    "\n",
    "print(\"Original Array after in-place sort:\", arr)  # Output: [1 1 2 3 4 5 9]\n"
   ]
  },
  {
   "cell_type": "markdown",
   "metadata": {},
   "source": [
    "Sorting 2D Arrays\n"
   ]
  },
  {
   "cell_type": "code",
   "execution_count": null,
   "metadata": {},
   "outputs": [],
   "source": [
    "# Create a 2D array\n",
    "arr_2d = np.array([[3, 1, 2],\n",
    "                   [6, 5, 4]])\n",
    "\n",
    "# Sort along the last axis (default behavior)\n",
    "sorted_arr_2d = np.sort(arr_2d)\n",
    "\n",
    "print(\"Original 2D Array:\\n\", arr_2d)\n",
    "print(\"Sorted 2D Array (last axis):\\n\", sorted_arr_2d)\n"
   ]
  },
  {
   "cell_type": "code",
   "execution_count": null,
   "metadata": {},
   "outputs": [],
   "source": [
    "# Sort along axis 0 (columns)\n",
    "sorted_arr_2d_axis0 = np.sort(arr_2d, axis=0)\n",
    "\n",
    "print(\"Sorted 2D Array (axis 0):\\n\", sorted_arr_2d_axis0)\n"
   ]
  },
  {
   "cell_type": "markdown",
   "metadata": {},
   "source": [
    "Random Number Generation"
   ]
  },
  {
   "cell_type": "code",
   "execution_count": null,
   "metadata": {},
   "outputs": [],
   "source": [
    "\n",
    "random_uniform = np.random.rand(5)  # 1D array of 5 random numbers\n",
    "print(random_uniform)\n"
   ]
  },
  {
   "cell_type": "code",
   "execution_count": null,
   "metadata": {},
   "outputs": [],
   "source": [
    "random_integers = np.random.randint(0, 10, size=5)  # 1D array of 5 random integers between 0 and 9\n",
    "print(random_integers)\n"
   ]
  },
  {
   "cell_type": "code",
   "execution_count": null,
   "metadata": {},
   "outputs": [],
   "source": [
    "random_array = np.random.rand(2, 3)  # 2x3 array of random floats\n",
    "print(random_array)\n",
    "random_int_array = np.random.randint(0, 10, size=(2, 3))  # 2x3 array of random integers\n",
    "print(random_int_array)\n"
   ]
  },
  {
   "cell_type": "code",
   "execution_count": null,
   "metadata": {},
   "outputs": [],
   "source": [
    "np.random.seed(42)  # Set a seed for reproducibility\n",
    "random_array = np.random.rand(3)  # Generate random numbers\n",
    "print(random_array)"
   ]
  },
  {
   "cell_type": "markdown",
   "metadata": {},
   "source": [
    "More methods"
   ]
  },
  {
   "cell_type": "code",
   "execution_count": null,
   "metadata": {},
   "outputs": [],
   "source": [
    "arr = np.array([[[1, 2], [3, 4]], [[5, 6], [7, 8]]])\n",
    "for x in np.nditer(arr):\n",
    "  print(x)\n",
    "for x in np.nditer(arr):\n",
    "  print(x , end=\" \") #1 2 3 4 5 6 7 8\n",
    "  \n"
   ]
  },
  {
   "cell_type": "code",
   "execution_count": null,
   "metadata": {},
   "outputs": [],
   "source": [
    "my_array = np.array([[1, 2, 3], [4, 5, 6], [7, 8, 9]])\n",
    "\n",
    "for index, value in np.ndenumerate(my_array):\n",
    "    row_index = index[0]\n",
    "    if index[1] == 0:\n",
    "        print(f\"Row {row_index + 1}: {my_array[row_index, :]}\", end=\" \")\n"
   ]
  },
  {
   "cell_type": "code",
   "execution_count": null,
   "metadata": {},
   "outputs": [],
   "source": [
    "a = np.random.randn(2, 3)\n",
    "print(a)\n",
    "\n",
    "# b will be all elements of a whenever the condition \n",
    "# holds true (i.e only positive elements)\n",
    "# Otherwise, set it as 0\n",
    "b = np.where(a > 0, a, 0)\n",
    "print(b)\n",
    "\n",
    "a = np.arange(10)\n",
    "b = np.where(a < 5, a, a * 10)\n",
    "print(a)\n",
    "print(b)\n"
   ]
  },
  {
   "cell_type": "code",
   "execution_count": null,
   "metadata": {},
   "outputs": [],
   "source": [
    "sorted_array = np.array([1, 3, 5, 7, 9])\n",
    "# Find the index to insert the value - The index of the first suitable location.\n",
    "print(np.searchsorted(sorted_array, 5))\n",
    "# Find the index to insert the value - The index of the last suitable location.\n",
    "print(np.searchsorted(sorted_array, 5, side='right'))\n",
    "\n",
    "\n",
    "values = np.array([0, 4, 8, 10])\n",
    "indices = np.searchsorted(sorted_array, values)\n",
    "new_array = np.insert(sorted_array, indices, values)\n",
    "print(\"Original array:\", sorted_array)\n",
    "print(\"Values array:\", values)\n",
    "print(\"New array after insertion:\", new_array)"
   ]
  },
  {
   "cell_type": "markdown",
   "metadata": {},
   "source": [
    "Efficiency"
   ]
  },
  {
   "cell_type": "code",
   "execution_count": null,
   "metadata": {},
   "outputs": [],
   "source": [
    "from timeit import Timer\n",
    "\n",
    "# Creating a large array of size 10**6\n",
    "array = np.random.randint(1000, size=10 ** 6)\n",
    "\n",
    "# method that adds elements using for loop\n",
    "def add_forloop():\n",
    "    new_array = [element + 1 for element in array]\n",
    "\n",
    "# method that adds elements using vectorization\n",
    "def add_vectorized():\n",
    "    new_array = array + 1\n",
    "\n",
    "# Finding execution time using timeit\n",
    "computation_time_forloop = Timer(add_forloop).timeit(1)\n",
    "computation_time_vectorized = Timer(add_vectorized).timeit(1)\n",
    "\n",
    "print(\"Computation time is %0.9f using for-loop\" % computation_time_forloop)\n",
    "print(\"Computation time is %0.9f using vectorization\" % computation_time_vectorized)\n"
   ]
  },
  {
   "cell_type": "code",
   "execution_count": null,
   "metadata": {},
   "outputs": [],
   "source": [
    "# Creating a large array of size 10**5\n",
    "array = np.random.randint(1000, size=10 ** 5)\n",
    "\n",
    "def sum_using_forloop():\n",
    "    sum_array = 0\n",
    "    for element in array:\n",
    "        sum_array += element\n",
    "\n",
    "def sum_using_builtin_method():\n",
    "    sum_array = sum(array)\n",
    "\n",
    "def sum_using_numpy():\n",
    "    sum_array = np.sum(array)\n",
    "\n",
    "\n",
    "time_forloop = Timer(sum_using_forloop).timeit(1)\n",
    "time_builtin = Timer(sum_using_builtin_method).timeit(1)\n",
    "time_numpy = Timer(sum_using_numpy).timeit(1)\n",
    "\n",
    "print(\"Summing elements takes %0.9f units using for loop\" % time_forloop)\n",
    "print(\"Summing elements takes %0.9f units using builtin method\" % time_builtin)\n",
    "print(\"Summing elements takes %0.9f units using numpy\" % time_numpy)\n"
   ]
  }
 ],
 "metadata": {
  "kernelspec": {
   "display_name": ".venv",
   "language": "python",
   "name": "python3"
  },
  "language_info": {
   "codemirror_mode": {
    "name": "ipython",
    "version": 3
   },
   "file_extension": ".py",
   "mimetype": "text/x-python",
   "name": "python",
   "nbconvert_exporter": "python",
   "pygments_lexer": "ipython3",
   "version": "3.11.3"
  }
 },
 "nbformat": 4,
 "nbformat_minor": 2
}
