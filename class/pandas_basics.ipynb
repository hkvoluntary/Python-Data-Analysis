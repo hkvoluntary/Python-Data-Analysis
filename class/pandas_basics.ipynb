{
 "cells": [
  {
   "cell_type": "markdown",
   "metadata": {},
   "source": [
    "Pandas Series"
   ]
  },
  {
   "cell_type": "code",
   "execution_count": null,
   "metadata": {},
   "outputs": [],
   "source": [
    "import pandas as pd\n",
    "import numpy as np\n",
    "\n",
    "# From a list\n",
    "data = [1, 2, 3, 4, 5]\n",
    "series_from_list = pd.Series(data)\n",
    "print(series_from_list)\n",
    "\n",
    "# From a dictionary\n",
    "data = {'a': 1, 'b': 2, 'c': 3}\n",
    "series_from_dict = pd.Series(data)\n",
    "print(series_from_dict)\n",
    "\n",
    "# From a scalar value\n",
    "series_from_scalar = pd.Series(5, index=['a', 'b', 'c'])\n",
    "print(series_from_scalar)\n"
   ]
  },
  {
   "cell_type": "code",
   "execution_count": null,
   "metadata": {},
   "outputs": [],
   "source": [
    "print(series_from_scalar.index)"
   ]
  },
  {
   "cell_type": "code",
   "execution_count": null,
   "metadata": {},
   "outputs": [],
   "source": [
    "series_from_scalar.index = ['X', 'Y', 'Z']"
   ]
  },
  {
   "cell_type": "code",
   "execution_count": null,
   "metadata": {},
   "outputs": [],
   "source": [
    "print(series_from_scalar)"
   ]
  },
  {
   "cell_type": "code",
   "execution_count": null,
   "metadata": {},
   "outputs": [],
   "source": [
    "print(series_from_scalar.index, series_from_scalar.values)"
   ]
  },
  {
   "cell_type": "code",
   "execution_count": null,
   "metadata": {},
   "outputs": [],
   "source": [
    "s7 = pd.Series(np.random.randint(0,10,5), index=['a', 'b', 'c', 'd', 'e'])\n",
    "print(s7)"
   ]
  },
  {
   "cell_type": "code",
   "execution_count": null,
   "metadata": {},
   "outputs": [],
   "source": [
    "print(s7.loc['a'], s7.iloc[0])\n",
    "print(s7.loc['b':'d'])\n",
    "print(s7.iloc[1:4])"
   ]
  },
  {
   "cell_type": "code",
   "execution_count": null,
   "metadata": {},
   "outputs": [],
   "source": [
    "indices = ['b', 'c', 'd']\n",
    "print(s7.loc[indices])\n",
    "print(s7.loc[['a', 'c', 'e']])\n",
    "print(s7.iloc[[0, 2, 4]])"
   ]
  },
  {
   "cell_type": "markdown",
   "metadata": {},
   "source": [
    "Basic Statistical Operations\n"
   ]
  },
  {
   "cell_type": "code",
   "execution_count": null,
   "metadata": {},
   "outputs": [],
   "source": [
    "print(series_from_list)"
   ]
  },
  {
   "cell_type": "code",
   "execution_count": null,
   "metadata": {},
   "outputs": [],
   "source": [
    "print(series_from_list.mean())  # Mean\n",
    "print(series_from_list.sum())   # Sum\n",
    "print(series_from_list.max())   # Max\n",
    "print(series_from_list.min())   # Min\n",
    "print(series_from_list.std())   # Standard Deviation\n"
   ]
  },
  {
   "cell_type": "markdown",
   "metadata": {},
   "source": [
    "Handling Missing Data"
   ]
  },
  {
   "cell_type": "code",
   "execution_count": null,
   "metadata": {},
   "outputs": [],
   "source": [
    "data = [1, 2, None, 4, 5]\n",
    "series_with_nan = pd.Series(data)\n",
    "print(series_with_nan)\n",
    "# Checking for missing values\n",
    "print(series_with_nan.isna())\n",
    "# Checking If a Series Contains a False Value\n",
    "print(series_with_nan.isna().values.any())\n",
    "# Filling missing values\n",
    "print(series_with_nan.fillna(0))\n",
    "# Dropping missing values\n",
    "print(series_with_nan.dropna())\n"
   ]
  },
  {
   "cell_type": "markdown",
   "metadata": {},
   "source": [
    "Pandas Dataframe\n"
   ]
  },
  {
   "cell_type": "code",
   "execution_count": null,
   "metadata": {},
   "outputs": [],
   "source": [
    "# From a dictionary\n",
    "data1 = {\n",
    "    'name': ['Alice', 'Bob', 'Charlie'],\n",
    "    'age': [25, 30, 35],\n",
    "    'city': ['New York', 'Los Angeles', 'Chicago']\n",
    "}\n",
    "df1 = pd.DataFrame(data1)\n",
    "print(df1)\n",
    "\n",
    "# From a list of dictionaries\n",
    "data2 = [\n",
    "    {'name': 'Alice', 'age': 25, 'city': 'New York'},\n",
    "    {'name': 'Bob', 'age': 30, 'city': 'Los Angeles'},\n",
    "    {'name': 'Charlie', 'age': 35, 'city': 'Chicago'}\n",
    "]\n",
    "df2 = pd.DataFrame(data2)\n",
    "print(df2)\n"
   ]
  },
  {
   "cell_type": "code",
   "execution_count": null,
   "metadata": {},
   "outputs": [],
   "source": [
    "# From Series with 'abcd' index\n",
    "\n",
    "data3 = {\n",
    "  'name': pd.Series(['Alice', 'Bob', 'Charlie'],list('abc')),\n",
    "  'age': pd.Series([25, 30, 35, 40],list('abcd')),\n",
    "  'city': pd.Series(['New York', 'Los Angeles', 'Chicago'], list('abc'))\n",
    "}\n",
    "\n",
    "df3 = pd.DataFrame(data3)\n",
    "print(df3)\n",
    "\n",
    "# From a list of lists\n",
    "data4 = [\n",
    "    ['Alice', 25, 'New York'],\n",
    "    ['Bob', 30, 'Los Angeles'],\n",
    "    ['Charlie', 35, 'Chicago']\n",
    "]\n",
    "columns = ['name', 'age', 'city']\n",
    "df4 = pd.DataFrame(data4, columns=columns)\n",
    "print(df4)\n"
   ]
  },
  {
   "cell_type": "code",
   "execution_count": null,
   "metadata": {},
   "outputs": [],
   "source": [
    "# From a dictionary\n",
    "data1 = {\n",
    "    'name': ['Alice', 'Bob', 'Charlie'],\n",
    "    'age': [25, 30, 35],\n",
    "    'city': ['New York', 'Los Angeles', 'Chicago']\n",
    "}\n",
    "df = pd.DataFrame(data1)\n",
    "print(df)\n",
    "\n",
    "# Accessing a column\n",
    "print(df['name'])\n",
    "\n",
    "# Accessing multiple columns\n",
    "print(df[['name', 'age']])\n",
    "\n",
    "# Accessing a row by index\n",
    "print(df.loc[0])\n",
    "\n",
    "# Accessing multiple rows by index\n",
    "print(df.loc[0:1])\n",
    "\n",
    "# Accessing a specific element (row and column)\n",
    "print(df.at[0, 'name'])\n",
    "\n",
    "# Accessing a specific element by position (row and column)\n",
    "print(df.iat[0, 0])\n"
   ]
  },
  {
   "cell_type": "code",
   "execution_count": null,
   "metadata": {},
   "outputs": [],
   "source": [
    "# Adding a new column\n",
    "df['salary'] = [50000, 60000, 70000]\n",
    "print(df)\n",
    "\n",
    "# Modifying an existing column\n",
    "df['age'] = df['age'] + 1\n",
    "print(df)\n",
    "\n",
    "# Insert a column\n",
    "df.insert(2,'sex',pd.Series(['F','M','M']))\n",
    "print(df)\n"
   ]
  },
  {
   "cell_type": "code",
   "execution_count": null,
   "metadata": {},
   "outputs": [],
   "source": [
    "# Dropping a column\n",
    "df = df.drop(columns=['salary'])\n",
    "print(df)\n",
    "\n",
    "# Dropping a row\n",
    "df = df.drop(index=0)\n",
    "print(df)\n"
   ]
  },
  {
   "cell_type": "code",
   "execution_count": null,
   "metadata": {},
   "outputs": [],
   "source": [
    "# Filtering rows based on a condition\n",
    "filtered_df = df[df['age'] > 30]\n",
    "print(filtered_df)\n",
    "\n",
    "# Conditional selection\n",
    "selected_df = df[(df['age'] > 30) & (df['city'] == 'Chicago')]\n",
    "print(selected_df)\n"
   ]
  },
  {
   "cell_type": "code",
   "execution_count": null,
   "metadata": {},
   "outputs": [],
   "source": [
    "#assign data\n",
    "dataFrame = pd.DataFrame(\n",
    "   {'Name': [' RACHEL  ', ' MONICA  ', ' PHOEBE  ',\n",
    "            '  ROSS    ', 'CHANDLER', ' JOEY    '],                          \n",
    "   'Age': [30, 35, 37, 33, 34, 30],                         \n",
    "   'Salary': [100000, 93000, 88000, 120000, 94000, 95000],                        \n",
    "   'JOB': ['DESIGNER', 'CHEF', 'MASUS', \n",
    "           'PALENTOLOGY','IT', 'ARTIST']})\n",
    "\n",
    "# filter dataframe \n",
    "display(dataFrame.query('Salary  <= 100000 & Age < 40 & JOB.str.startswith(\"C\").values'))\n"
   ]
  },
  {
   "cell_type": "code",
   "execution_count": null,
   "metadata": {},
   "outputs": [],
   "source": [
    "# Creating a DataFrame with missing values\n",
    "data = {\n",
    "    'name': ['Alice', 'Bob', 'Charlie'],\n",
    "    'age': [25, None, 35],\n",
    "    'city': ['New York', 'Los Angeles', None]\n",
    "}\n",
    "df = pd.DataFrame(data)\n",
    "print(df)\n",
    "\n",
    "# Checking for missing values\n",
    "print(df.isna())\n",
    "\n",
    "# Filling missing values\n",
    "df_filled = df.fillna('Unknown')\n",
    "print(df_filled)\n",
    "\n",
    "# Dropping rows with missing values\n",
    "df_dropped = df.dropna()\n",
    "print(df_dropped)\n"
   ]
  },
  {
   "cell_type": "markdown",
   "metadata": {},
   "source": [
    "Creating a DataFrame from a file"
   ]
  },
  {
   "cell_type": "code",
   "execution_count": null,
   "metadata": {},
   "outputs": [],
   "source": [
    "#https://raw.githubusercontent.com/The-CEAS-Library/Data_Manipulation_with_Python/master/data/surveys.csv\n",
    "\n",
    "surveys_df = pd.read_csv(\"./data/surveys.csv\")\n",
    "surveys_df\n"
   ]
  },
  {
   "cell_type": "code",
   "execution_count": null,
   "metadata": {},
   "outputs": [],
   "source": [
    "print(surveys_df.head())\n",
    "print(surveys_df.tail(10))\n"
   ]
  },
  {
   "cell_type": "markdown",
   "metadata": {},
   "source": [
    "Writing DataFrame with file\n"
   ]
  },
  {
   "cell_type": "code",
   "execution_count": null,
   "metadata": {},
   "outputs": [],
   "source": [
    "surveys_df_head = pd.read_csv(\"surveys.csv\").head(30)\n",
    "surveys_df_head.to_csv('surveys_head.csv', index=False)\n"
   ]
  },
  {
   "cell_type": "code",
   "execution_count": null,
   "metadata": {},
   "outputs": [],
   "source": [
    "# Create a sample DataFrame\n",
    "data = {\n",
    "    'Name': ['Alice', 'Bob', 'Charlie'],\n",
    "    'Age': [25, 30, 35]\n",
    "}\n",
    "df = pd.DataFrame(data)\n",
    "\n",
    "# Save the DataFrame to an Excel file without the index\n",
    "df.to_excel('output.xlsx', sheet_name='People', index=False)\n"
   ]
  },
  {
   "cell_type": "markdown",
   "metadata": {},
   "source": [
    "Accessing Data Attributes\n"
   ]
  },
  {
   "cell_type": "code",
   "execution_count": null,
   "metadata": {},
   "outputs": [],
   "source": [
    "surveys_df.dtypes\n"
   ]
  },
  {
   "cell_type": "code",
   "execution_count": null,
   "metadata": {},
   "outputs": [],
   "source": [
    "surveys_df.columns\n"
   ]
  },
  {
   "cell_type": "code",
   "execution_count": null,
   "metadata": {},
   "outputs": [],
   "source": [
    "surveys_df.columns[0:4]\n"
   ]
  },
  {
   "cell_type": "code",
   "execution_count": null,
   "metadata": {},
   "outputs": [],
   "source": [
    "surveys_df.shape\n"
   ]
  },
  {
   "cell_type": "code",
   "execution_count": null,
   "metadata": {},
   "outputs": [],
   "source": [
    "surveys_df['record_id']\n"
   ]
  },
  {
   "cell_type": "code",
   "execution_count": null,
   "metadata": {},
   "outputs": [],
   "source": [
    "surveys_df[['month', 'day']]\n"
   ]
  },
  {
   "cell_type": "code",
   "execution_count": null,
   "metadata": {},
   "outputs": [],
   "source": [
    "surveys_df.record_id\n"
   ]
  },
  {
   "cell_type": "markdown",
   "metadata": {},
   "source": [
    "Selecting Unique values from a column\n"
   ]
  },
  {
   "cell_type": "code",
   "execution_count": null,
   "metadata": {},
   "outputs": [],
   "source": [
    "print(pd.unique(surveys_df['species_id']))\n",
    "print(pd.unique(surveys_df.species_id))\n",
    "print(surveys_df['species_id'].unique())"
   ]
  },
  {
   "cell_type": "code",
   "execution_count": null,
   "metadata": {},
   "outputs": [],
   "source": [
    "print(surveys_df[0:5])\n",
    "print(surveys_df[3:7])\n",
    "print(surveys_df[5:])\n",
    "print(surveys_df[:5])\n",
    "print(surveys_df[-1:])\n",
    "print(surveys_df[-3:])\n",
    "print(surveys_df[-3:-1])"
   ]
  },
  {
   "cell_type": "code",
   "execution_count": null,
   "metadata": {},
   "outputs": [],
   "source": [
    "print(surveys_df['record_id'])\n",
    "print(surveys_df['record_id'][0])\n",
    "print(surveys_df.record_id[0])\n",
    "print(surveys_df['record_id'][0:4])\n",
    "print(surveys_df[['record_id','plot_id']][0:5])\n"
   ]
  },
  {
   "cell_type": "code",
   "execution_count": null,
   "metadata": {},
   "outputs": [],
   "source": [
    "print(surveys_df.iloc[2, 6])\n",
    "print(surveys_df.iloc[1:4, 0:5])\n",
    "print(surveys_df.iloc[3:5, 5:8])\n",
    "print(surveys_df.iloc[3:5, :])\n",
    "print(surveys_df.iloc[:, 5:8].head())\n",
    "print(surveys_df.iloc[[2,5,23,1], [8,5,6,7]])\n",
    "print(surveys_df.iloc[[2,5,23], :])\n",
    "print(surveys_df.iloc[[2,5,23], 5:8])\n"
   ]
  },
  {
   "cell_type": "code",
   "execution_count": null,
   "metadata": {},
   "outputs": [],
   "source": [
    "print(surveys_df)\n",
    "print(surveys_df.loc[2:5,['species_id', 'plot_id', 'weight']])\n",
    "print(surveys_df.loc[[2,5,5,7],['species_id', 'plot_id', 'weight']])\n",
    "print(surveys_df.loc[2:5,:])\n",
    "\n",
    "\n"
   ]
  },
  {
   "cell_type": "markdown",
   "metadata": {},
   "source": [
    "Creating Queries"
   ]
  },
  {
   "cell_type": "code",
   "execution_count": null,
   "metadata": {},
   "outputs": [],
   "source": [
    "filtered = surveys_df.loc[surveys_df['year'] > 2001]\n",
    "print(filtered)\n",
    "filtered1 = surveys_df[surveys_df['weight'] == 88]\n",
    "print(filtered1)\n",
    "filtered2 = surveys_df[surveys_df.month == surveys_df.plot_id].head()\n",
    "print(filtered2)\n",
    "filtered3 = surveys_df[(surveys_df.weight == 88) & (surveys_df.month == surveys_df.plot_id)]\n",
    "print(filtered3)\n"
   ]
  },
  {
   "cell_type": "markdown",
   "metadata": {},
   "source": [
    "Creating a DataFrame from URL\n"
   ]
  },
  {
   "cell_type": "code",
   "execution_count": null,
   "metadata": {},
   "outputs": [],
   "source": [
    "url = 'https://raw.githubusercontent.com/datagy/data/main/data.csv'\n",
    "df = pd.read_csv(url)\n"
   ]
  },
  {
   "cell_type": "code",
   "execution_count": null,
   "metadata": {},
   "outputs": [],
   "source": [
    "df.describe()"
   ]
  },
  {
   "cell_type": "code",
   "execution_count": null,
   "metadata": {},
   "outputs": [],
   "source": [
    "df.info()"
   ]
  },
  {
   "cell_type": "code",
   "execution_count": null,
   "metadata": {},
   "outputs": [],
   "source": [
    "df.sample(10)"
   ]
  },
  {
   "cell_type": "markdown",
   "metadata": {},
   "source": [
    "Sort data. It accepts a number of parameters \n",
    "by = allows to pass in a single column label or a list of column labels\n",
    "ascending = indicate if values should be sorted in ascending or descending order\n"
   ]
  },
  {
   "cell_type": "code",
   "execution_count": null,
   "metadata": {},
   "outputs": [],
   "source": [
    "# Sort data. It accepts a number of parameters \n",
    "new_df1 = df.sort_values(by=['Sales','Units'], ascending=[False,True])\n",
    "print(new_df1.head())\n",
    "new_df2 = df.sort_values(by='Sales', ascending=False)\n",
    "print(new_df2.head())\n"
   ]
  },
  {
   "cell_type": "code",
   "execution_count": null,
   "metadata": {},
   "outputs": [],
   "source": [
    "df_renamed = df.rename(columns={'Units': 'Items', 'Sales': 'Amount'})\n",
    "print(df_renamed.head(5))"
   ]
  },
  {
   "cell_type": "code",
   "execution_count": null,
   "metadata": {},
   "outputs": [],
   "source": [
    "df_renamed_index = df.rename(index={996: 'Item 1', 309: 'Item 2', 745: 'Item 3', 222: 'Item 4'})\n",
    "print(df_renamed_index.head())"
   ]
  },
  {
   "cell_type": "code",
   "execution_count": null,
   "metadata": {},
   "outputs": [],
   "source": [
    "# Set the 'Name' column as the index\n",
    "new_df1_indexed = new_df1.set_index('Date')\n",
    "\n",
    "# Display the DataFrame with the new index\n",
    "print(\"\\nDataFrame with 'Date' as index:\")\n",
    "print(new_df1_indexed)\n",
    "print(new_df1_indexed.index)"
   ]
  },
  {
   "cell_type": "code",
   "execution_count": null,
   "metadata": {},
   "outputs": [],
   "source": [
    "# Set the 'Name' column as the index\n",
    "df_multi_indexed = df.set_index(['Region', 'Type'])\n",
    "\n",
    "# Display the DataFrame with the new index\n",
    "print(\"\\nDataFrame with 'Region' and 'Type' as index:\")\n",
    "print(df_multi_indexed.head(5))\n",
    "print(df_multi_indexed.index)"
   ]
  },
  {
   "cell_type": "code",
   "execution_count": null,
   "metadata": {},
   "outputs": [],
   "source": [
    "df_reset = df_multi_indexed.reset_index()\n",
    "print(df_reset)"
   ]
  },
  {
   "cell_type": "markdown",
   "metadata": {},
   "source": [
    "astype - change the data type of a column"
   ]
  },
  {
   "cell_type": "code",
   "execution_count": null,
   "metadata": {},
   "outputs": [],
   "source": [
    "# Create a DataFrame\n",
    "data_for_type = {\n",
    "    'A': [1, 2, 3],\n",
    "    'B': [1.1, 2.2, 3.3],\n",
    "    'C': ['a', 'b', 'c'],\n",
    "    'D': [True, False, True]\n",
    "}\n",
    "\n",
    "df_data_for_type = pd.DataFrame(data_for_type)\n",
    "# Check data types\n",
    "print(df_data_for_type.dtypes)"
   ]
  },
  {
   "cell_type": "code",
   "execution_count": null,
   "metadata": {},
   "outputs": [],
   "source": [
    "# Convert column 'A' to float\n",
    "df_data_for_type['A'] = df_data_for_type['A'].astype(float)\n",
    "print(df_data_for_type.dtypes)\n",
    "# Convert column 'C' to category\n",
    "df_data_for_type['C'] = df_data_for_type['C'].astype('category')\n",
    "print(df_data_for_type.dtypes)"
   ]
  },
  {
   "cell_type": "markdown",
   "metadata": {},
   "source": [
    "Handling Missing Data"
   ]
  },
  {
   "cell_type": "code",
   "execution_count": null,
   "metadata": {},
   "outputs": [],
   "source": [
    "df.info()"
   ]
  },
  {
   "cell_type": "code",
   "execution_count": null,
   "metadata": {},
   "outputs": [],
   "source": [
    "df['Units'].isna()"
   ]
  },
  {
   "cell_type": "code",
   "execution_count": null,
   "metadata": {},
   "outputs": [],
   "source": [
    "missing_rows = df[df['Units'].isna()]\n",
    "\n",
    "# Display the rows with all missing values\n",
    "print(\"\\nRows with all missing values:\")\n",
    "print(missing_rows)"
   ]
  },
  {
   "cell_type": "code",
   "execution_count": null,
   "metadata": {},
   "outputs": [],
   "source": [
    "# Drop whole row if any column data is missing data\n",
    "df_dropped_columns = df.dropna(axis=0) \n",
    "print(df_dropped_columns)"
   ]
  },
  {
   "cell_type": "code",
   "execution_count": null,
   "metadata": {},
   "outputs": [],
   "source": [
    "# Filling Missing Values in a Specific Column\n",
    "df['Units'] = df['Units'].fillna(value=0)\n",
    "print(df)"
   ]
  },
  {
   "cell_type": "code",
   "execution_count": null,
   "metadata": {},
   "outputs": [],
   "source": [
    "url = 'https://raw.githubusercontent.com/datagy/data/main/data.csv'\n",
    "df = pd.read_csv(url)"
   ]
  },
  {
   "cell_type": "code",
   "execution_count": null,
   "metadata": {},
   "outputs": [],
   "source": [
    "df.info()"
   ]
  },
  {
   "cell_type": "code",
   "execution_count": null,
   "metadata": {},
   "outputs": [],
   "source": [
    "print(df['Units'].mean()) # For single column\n",
    "\n"
   ]
  },
  {
   "cell_type": "code",
   "execution_count": null,
   "metadata": {},
   "outputs": [],
   "source": [
    "# To an entire DataFrame, we need to use the numeric=True argument that apply numeric\n",
    "#print(df.mean())\n",
    "print(df.mean(numeric_only=True))\n"
   ]
  },
  {
   "cell_type": "code",
   "execution_count": null,
   "metadata": {},
   "outputs": [],
   "source": [
    "print(df['Region'].count())\n",
    "print(df['Units'].count())"
   ]
  },
  {
   "cell_type": "code",
   "execution_count": null,
   "metadata": {},
   "outputs": [],
   "source": [
    "# Aggregate multiple functions on the 'Score' column\n",
    "agg_results = df['Sales'].agg(['mean', 'sum', 'max', 'min'])\n",
    "\n",
    "# Display the aggregated results\n",
    "print(\"\\nAggregated results for 'Sales':\")\n",
    "print(agg_results)"
   ]
  },
  {
   "cell_type": "code",
   "execution_count": null,
   "metadata": {},
   "outputs": [],
   "source": [
    "aggregate = df.groupby('Region')['Sales'].mean()\n",
    "print(aggregate)\n"
   ]
  },
  {
   "cell_type": "code",
   "execution_count": null,
   "metadata": {},
   "outputs": [],
   "source": [
    "# Group by Region and Type, then calculate the average Sales\n",
    "grouped_multi = df.groupby(['Region', 'Type'])['Sales'].mean().reset_index()\n",
    "\n",
    "# Display the result\n",
    "print(grouped_multi)"
   ]
  },
  {
   "cell_type": "code",
   "execution_count": null,
   "metadata": {},
   "outputs": [],
   "source": [
    "# Group by Type and aggregate with different functions\n",
    "agg_results = df.groupby('Type').agg({\n",
    "    'Sales': ['mean', 'max', 'min'],\n",
    "    'Units': 'sum'\n",
    "}).reset_index()\n",
    "\n",
    "# Display the aggregated results\n",
    "print(agg_results)"
   ]
  },
  {
   "cell_type": "code",
   "execution_count": null,
   "metadata": {},
   "outputs": [],
   "source": [
    "# Create a pivot table to show average score by age\n",
    "pivot_table = df.pivot_table(values='Sales', index='Region', aggfunc='mean')\n",
    "\n",
    "# Display the pivot table\n",
    "print(\"\\nPivot table showing average scorSalese by Region:\")\n",
    "print(pivot_table)"
   ]
  },
  {
   "cell_type": "code",
   "execution_count": null,
   "metadata": {},
   "outputs": [],
   "source": [
    "# Create a pivot table with multiple aggregation functions\n",
    "pivot_multiple = pd.pivot_table(df, values='Sales', index='Region', aggfunc=['max', 'min', 'mean'])\n",
    "\n",
    "# Display the pivot table with multiple aggregation functions\n",
    "print(\"\\nPivot table with multiple aggregation functions:\")\n",
    "print(pivot_multiple)"
   ]
  },
  {
   "cell_type": "code",
   "execution_count": null,
   "metadata": {},
   "outputs": [],
   "source": [
    "# Create a pivot table with margins\n",
    "pivot_margins = pd.pivot_table(df, values=['Sales','Units'], \n",
    "               index='Region', aggfunc=['sum'], margins=True)\n",
    "\n",
    "# Display the pivot table with margins\n",
    "print(\"\\nPivot table with margins:\")\n",
    "print(pivot_margins)"
   ]
  },
  {
   "cell_type": "code",
   "execution_count": null,
   "metadata": {},
   "outputs": [],
   "source": [
    "# Create a pivot table to show average score by city and age\n",
    "pivot_age_city = df.pivot_table(values='Sales', index='Type', columns='Region', \n",
    "                                aggfunc='sum', margins=True, margins_name=\"Total\")\n",
    "\n",
    "# Display the pivot table\n",
    "print(pivot_age_city)"
   ]
  },
  {
   "cell_type": "markdown",
   "metadata": {},
   "source": [
    "unpivots a DataFrame from wide format to long format"
   ]
  },
  {
   "cell_type": "code",
   "execution_count": null,
   "metadata": {},
   "outputs": [],
   "source": [
    "df = pd.DataFrame({\"A\":[12, 4, 5, 44, 1],  \n",
    "                   \"B\":[5, 2, 54, 3, 2],  \n",
    "                   \"C\":[20, 16, 7, 3, 8],  \n",
    "                   \"D\":[14, 3, 17, 2, 6]}) \n",
    "df"
   ]
  },
  {
   "cell_type": "code",
   "execution_count": null,
   "metadata": {},
   "outputs": [],
   "source": [
    "# function to unpivot the dataframe \n",
    "df.melt(id_vars =['A'], value_vars =['B']) \n"
   ]
  },
  {
   "cell_type": "code",
   "execution_count": null,
   "metadata": {},
   "outputs": [],
   "source": [
    "df.melt(id_vars =['C'], value_vars =['A','B']) "
   ]
  },
  {
   "cell_type": "code",
   "execution_count": null,
   "metadata": {},
   "outputs": [],
   "source": [
    "\n",
    "# function to unpivot the dataframe \n",
    "# We will also provide a customized name to the value and variable column \n",
    "  \n",
    "df.melt(id_vars =['A'], value_vars =['B', 'C'],  var_name ='Variable_column', value_name ='Value_column') \n"
   ]
  },
  {
   "cell_type": "markdown",
   "metadata": {},
   "source": [
    "Time Series Analysis"
   ]
  },
  {
   "cell_type": "code",
   "execution_count": null,
   "metadata": {},
   "outputs": [],
   "source": [
    "df_with_no_date= pd.read_csv('https://raw.githubusercontent.com/datagy/data/main/data.csv')\n",
    "print(df_with_no_date.info())\n"
   ]
  },
  {
   "cell_type": "code",
   "execution_count": null,
   "metadata": {},
   "outputs": [],
   "source": [
    "df_with_no_date['Date'] = pd.to_datetime(df_with_no_date['Date'])\n",
    "print(df_with_no_date.info())"
   ]
  },
  {
   "cell_type": "code",
   "execution_count": null,
   "metadata": {},
   "outputs": [],
   "source": [
    "df_with_date= pd.read_csv('https://raw.githubusercontent.com/datagy/data/main/data.csv', parse_dates=['Date'])\n",
    "print(df_with_date.info())\n",
    "\n",
    "df_with_date['Year'] = df_with_date['Date'].dt.year\n",
    "df_with_date['Month'] = df_with_date['Date'].dt.month\n",
    "print(df_with_date.head())\n",
    "\n",
    "print(df_with_date[df_with_date['Date'] > '2020-12-01'].head())\n"
   ]
  },
  {
   "cell_type": "code",
   "execution_count": null,
   "metadata": {},
   "outputs": [],
   "source": [
    "print(pd.unique(df_with_date['Month']))\n",
    "print(pd.unique(df_with_date.Month))\n",
    "print(df_with_date['Month'].unique())"
   ]
  },
  {
   "cell_type": "code",
   "execution_count": null,
   "metadata": {},
   "outputs": [],
   "source": [
    "duplicateRows_all = df_with_date[df_with_date.duplicated(subset=['Date','Type','Region'],keep=False)]\n",
    "duplicateRows_all\n"
   ]
  },
  {
   "cell_type": "code",
   "execution_count": null,
   "metadata": {},
   "outputs": [],
   "source": [
    "df_with_date_no_duplicates = df_with_date.drop_duplicates(subset=['Date', 'Type', 'Region'], keep='first').sort_values(by=['Date', 'Type', 'Region'], ascending=True)\n",
    "print(\"Original DataFrame:\")\n",
    "print(df_with_date)\n"
   ]
  },
  {
   "cell_type": "code",
   "execution_count": null,
   "metadata": {},
   "outputs": [],
   "source": [
    "print(\"\\nDataFrame after dropping duplicates:\")\n",
    "df_with_date_no_duplicates\n"
   ]
  },
  {
   "cell_type": "markdown",
   "metadata": {},
   "source": [
    "Advanced data handling"
   ]
  },
  {
   "cell_type": "code",
   "execution_count": null,
   "metadata": {},
   "outputs": [],
   "source": [
    "df = pd.DataFrame(\n",
    "   \n",
    "   [('carrot', 'red', 1), ('papaya', 'yellow', 0),\n",
    "    ('mango', 'yellow', 0), ('apple', 'red', 0)\n",
    "   ], \n",
    "\n",
    "    columns=['species', 'color', 'type']\n",
    ")\n",
    "print(\"Dataframe before Mapping: \")\n",
    "print(df)"
   ]
  },
  {
   "cell_type": "code",
   "execution_count": null,
   "metadata": {},
   "outputs": [],
   "source": [
    "# Define a function to apply\n",
    "def add_one(x):\n",
    "    return x + 1\n",
    "\n",
    "# Apply the function to each element in the DataFrame\n",
    "df['type'] = df['type'].apply(add_one)\n",
    "print(df)\n"
   ]
  },
  {
   "cell_type": "code",
   "execution_count": null,
   "metadata": {},
   "outputs": [],
   "source": [
    "\n",
    "mappings = {\n",
    "    'carrot': 'veg',\n",
    "    'papaya': 'fruit'\n",
    "}\n",
    " \n",
    "df['type_name'] = df['species'].map(mappings)\n",
    "print(\"Dataframe after Mapping: \")\n",
    "print(df)"
   ]
  }
 ],
 "metadata": {
  "kernelspec": {
   "display_name": ".venv",
   "language": "python",
   "name": "python3"
  },
  "language_info": {
   "codemirror_mode": {
    "name": "ipython",
    "version": 3
   },
   "file_extension": ".py",
   "mimetype": "text/x-python",
   "name": "python",
   "nbconvert_exporter": "python",
   "pygments_lexer": "ipython3",
   "version": "3.11.3"
  }
 },
 "nbformat": 4,
 "nbformat_minor": 2
}
